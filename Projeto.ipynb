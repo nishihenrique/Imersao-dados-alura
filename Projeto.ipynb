{
  "nbformat": 4,
  "nbformat_minor": 0,
  "metadata": {
    "colab": {
      "name": "Projeto.ipynb",
      "provenance": [],
      "collapsed_sections": [
        "bQz8l0WLVEI1",
        "iTwfOov3QWH8",
        "ImMnFol9xLA2",
        "Mb4frzvmWHuR",
        "7msLQhGsZT5s",
        "xJ67x3FRWL9J",
        "olVM1-4hWfLv",
        "_fA1DKISWv2O",
        "GpfQ5rpE58lE",
        "PHwNvJrSt0Gi",
        "PTRuXZcnt8PM",
        "MutvhWOUuC1k",
        "3uNsc2d0uHrT",
        "yUipouQvWiTG",
        "2eFkwUS4q-ut",
        "IOJWzWj5uoaQ",
        "4Jdy7-f6uvsN",
        "1UtFC3zvXMJG",
        "bLp1lWd3YBOJ",
        "UxdAJ-tzvZHi",
        "VBjyJeFnvtFd"
      ],
      "toc_visible": true
    },
    "kernelspec": {
      "display_name": "Python 3",
      "name": "python3"
    },
    "language_info": {
      "name": "python"
    }
  },
  "cells": [
    {
      "cell_type": "markdown",
      "metadata": {
        "id": "bQz8l0WLVEI1"
      },
      "source": [
        "# 1. Introdução"
      ]
    },
    {
      "cell_type": "markdown",
      "metadata": {
        "id": "JUV6r44XVMw1"
      },
      "source": [
        "## 1.1 Resumo"
      ]
    },
    {
      "cell_type": "markdown",
      "metadata": {
        "id": "ZdyKVyTleHjk"
      },
      "source": [
        "Quando falamos em ciência de dados, pensamos em super computadores, máquinas trabalhando de maneira autonoma, várias fórmulas matemáticas assustadoras, etc. Porém acabamos esquecendo que ela está o tempo todo em nosso dia a dia e que podemos usar em diferentes setores da indústria, como logística, finanças, entretenimento e até mesmo na medicina.\n",
        "\n",
        "Um exemplo nessa área que os algoritmos de Machine Learning são muito utilizados é a parte de Drug discovery. Essa é uma das práticas mais antigas da nossa sociedade, com aproximadamente 5000 anos [1]. Atualmente, o processo de descobrimento é dividido em 3 partes: pesquisa, desenvolvimento e aprovação [2], e os algoritmos são usados na parte de pesquisa como forma de automatizar os processos de identificação de novos compostos. \n",
        "\n",
        "Nesse projeto será utilizado uma amostra de dados sobre testes de drogas em células, que foi fornecido pela Alura para realizar sua terceira imersão de dados. Os dados foram utilizados no desafio do laboratório de inovação e ciência de Harvard e fornecem informações genéricas como quantidade de droga dosada, tempo de dosagem, tipo de droga ou até mesmo informações mais específicas como genes presentes em cada célula, que precisam de um certo dominio na área para tratá-los."
      ]
    },
    {
      "cell_type": "markdown",
      "metadata": {
        "id": "vkrJ7M9nVPfv"
      },
      "source": [
        "## 1.2 Objetivo"
      ]
    },
    {
      "cell_type": "markdown",
      "metadata": {
        "id": "9xxR87VjpfZ3"
      },
      "source": [
        "A tuberculose é uma doença infecciosa e transmissível que afeta prioritariamente os pulmões, é causada pelo Mycobacterium tuberculosis ou bacilo de Koch e cerca de 10 milhões de pessoas adoecem por tuberculose no mundo, e a doença leva mais de um milhão de pessoas a óbito anualmente [3]. Seu tratamento é feito principalmente com a Rifampicina e seu custo é por volta de U$10 [4]. Por esse motivo é sempre bom descobrir novas substâncias que possam ser utilizados como forma de tratamento alternativo.\n",
        "\n",
        "O objetivo desse projeto é trabalhar em cima dos dados de testes, aplicando técnicas de limpeza, exploração e manipulação de dados para tentar descobrir relações não triviais entre parâmetros, e ao final realizar um modelo de Machine Learning que consiga identificar novas possíveis substâncias que possam ser utilizadas para o tratamento da tuberculose."
      ]
    },
    {
      "cell_type": "markdown",
      "metadata": {
        "id": "AqYVUGPpVZxm"
      },
      "source": [
        "# 2. Conhecendo os dados"
      ]
    },
    {
      "cell_type": "markdown",
      "metadata": {
        "id": "GESqQTzbx6Ip"
      },
      "source": [
        "Como comentado na sessão anterior, a amostra de dados apresentam desde informações mais gerais até as mais específicas. Sendo assim, essa sessão tem como intuito a apresentação e um melhor entendimento dos dados, mostrando os números de linha e colunas, tipo de features(categórica ou númerica), cardinalidade das features categóricas e suas distribuições. "
      ]
    },
    {
      "cell_type": "markdown",
      "metadata": {
        "id": "vkYhKAeDVeXp"
      },
      "source": [
        "## 2.1 Importando bibliotecas"
      ]
    },
    {
      "cell_type": "markdown",
      "metadata": {
        "id": "e8SR1WybzXm2"
      },
      "source": [
        "Começando pelas bibliotecas, nessa sessão usaremos a Pandas e a Numpy, duas bibliotecas famosas por sua capacidade de trabalhar com dados. "
      ]
    },
    {
      "cell_type": "code",
      "metadata": {
        "id": "cOz_7sVAdk2z"
      },
      "source": [
        "import pandas as pd\n",
        "import numpy as np\n",
        "import warnings\n",
        "warnings.filterwarnings('ignore')"
      ],
      "execution_count": null,
      "outputs": []
    },
    {
      "cell_type": "markdown",
      "metadata": {
        "id": "tYbAkuQ7Vj97"
      },
      "source": [
        "## 2.2 Importando os dados"
      ]
    },
    {
      "cell_type": "markdown",
      "metadata": {
        "id": "qBI9r_jM0aBp"
      },
      "source": [
        "Os dados estão disponíveis na página do Github da Alura e podem ser acesados [neste link](https://github.com/alura-cursos/imersaodados3). Como podemos ver, há dois datasets, um referente aos testes e outro aos resultados, que estão conectados pela coluna \"id\". Para importa-los, usaremos a função *read_csv()* do Pandas, colocando a URL com os dados e alterando o parâmetro *compression* para 'zip' no dataset dos testes, informando o tipo de arquivo da URL. Utilizando a função *head()*, é possível ver as 5 primeiras linhas do Dataframe e com *shape* é possível ver o número de linhas e o números de colunas."
      ]
    },
    {
      "cell_type": "code",
      "metadata": {
        "colab": {
          "base_uri": "https://localhost:8080/",
          "height": 256
        },
        "id": "3PwNsXFhdvqM",
        "outputId": "23178939-a841-4d6f-9eec-0d0b3a3fbe3f"
      },
      "source": [
        "dados_teste = pd.read_csv('https://github.com/alura-cursos/imersaodados3/blob/main/dados/dados_experimentos.zip?raw=true', compression = 'zip')\n",
        "dados_teste.head()"
      ],
      "execution_count": null,
      "outputs": [
        {
          "output_type": "execute_result",
          "data": {
            "text/html": [
              "<div>\n",
              "<style scoped>\n",
              "    .dataframe tbody tr th:only-of-type {\n",
              "        vertical-align: middle;\n",
              "    }\n",
              "\n",
              "    .dataframe tbody tr th {\n",
              "        vertical-align: top;\n",
              "    }\n",
              "\n",
              "    .dataframe thead th {\n",
              "        text-align: right;\n",
              "    }\n",
              "</style>\n",
              "<table border=\"1\" class=\"dataframe\">\n",
              "  <thead>\n",
              "    <tr style=\"text-align: right;\">\n",
              "      <th></th>\n",
              "      <th>id</th>\n",
              "      <th>tratamento</th>\n",
              "      <th>tempo</th>\n",
              "      <th>dose</th>\n",
              "      <th>droga</th>\n",
              "      <th>g-0</th>\n",
              "      <th>g-1</th>\n",
              "      <th>g-2</th>\n",
              "      <th>g-3</th>\n",
              "      <th>g-4</th>\n",
              "      <th>g-5</th>\n",
              "      <th>g-6</th>\n",
              "      <th>g-7</th>\n",
              "      <th>g-8</th>\n",
              "      <th>g-9</th>\n",
              "      <th>g-10</th>\n",
              "      <th>g-11</th>\n",
              "      <th>g-12</th>\n",
              "      <th>g-13</th>\n",
              "      <th>g-14</th>\n",
              "      <th>g-15</th>\n",
              "      <th>g-16</th>\n",
              "      <th>g-17</th>\n",
              "      <th>g-18</th>\n",
              "      <th>g-19</th>\n",
              "      <th>g-20</th>\n",
              "      <th>g-21</th>\n",
              "      <th>g-22</th>\n",
              "      <th>g-23</th>\n",
              "      <th>g-24</th>\n",
              "      <th>g-25</th>\n",
              "      <th>g-26</th>\n",
              "      <th>g-27</th>\n",
              "      <th>g-28</th>\n",
              "      <th>g-29</th>\n",
              "      <th>g-30</th>\n",
              "      <th>g-31</th>\n",
              "      <th>g-32</th>\n",
              "      <th>g-33</th>\n",
              "      <th>g-34</th>\n",
              "      <th>...</th>\n",
              "      <th>c-60</th>\n",
              "      <th>c-61</th>\n",
              "      <th>c-62</th>\n",
              "      <th>c-63</th>\n",
              "      <th>c-64</th>\n",
              "      <th>c-65</th>\n",
              "      <th>c-66</th>\n",
              "      <th>c-67</th>\n",
              "      <th>c-68</th>\n",
              "      <th>c-69</th>\n",
              "      <th>c-70</th>\n",
              "      <th>c-71</th>\n",
              "      <th>c-72</th>\n",
              "      <th>c-73</th>\n",
              "      <th>c-74</th>\n",
              "      <th>c-75</th>\n",
              "      <th>c-76</th>\n",
              "      <th>c-77</th>\n",
              "      <th>c-78</th>\n",
              "      <th>c-79</th>\n",
              "      <th>c-80</th>\n",
              "      <th>c-81</th>\n",
              "      <th>c-82</th>\n",
              "      <th>c-83</th>\n",
              "      <th>c-84</th>\n",
              "      <th>c-85</th>\n",
              "      <th>c-86</th>\n",
              "      <th>c-87</th>\n",
              "      <th>c-88</th>\n",
              "      <th>c-89</th>\n",
              "      <th>c-90</th>\n",
              "      <th>c-91</th>\n",
              "      <th>c-92</th>\n",
              "      <th>c-93</th>\n",
              "      <th>c-94</th>\n",
              "      <th>c-95</th>\n",
              "      <th>c-96</th>\n",
              "      <th>c-97</th>\n",
              "      <th>c-98</th>\n",
              "      <th>c-99</th>\n",
              "    </tr>\n",
              "  </thead>\n",
              "  <tbody>\n",
              "    <tr>\n",
              "      <th>0</th>\n",
              "      <td>id_000644bb2</td>\n",
              "      <td>com_droga</td>\n",
              "      <td>24</td>\n",
              "      <td>D1</td>\n",
              "      <td>b68db1d53</td>\n",
              "      <td>1.0620</td>\n",
              "      <td>0.5577</td>\n",
              "      <td>-0.2479</td>\n",
              "      <td>-0.6208</td>\n",
              "      <td>-0.1944</td>\n",
              "      <td>-1.0120</td>\n",
              "      <td>-1.0220</td>\n",
              "      <td>-0.0326</td>\n",
              "      <td>0.5548</td>\n",
              "      <td>-0.0921</td>\n",
              "      <td>1.1830</td>\n",
              "      <td>0.1530</td>\n",
              "      <td>0.5574</td>\n",
              "      <td>-0.4015</td>\n",
              "      <td>0.1789</td>\n",
              "      <td>-0.6528</td>\n",
              "      <td>-0.7969</td>\n",
              "      <td>0.6342</td>\n",
              "      <td>0.1778</td>\n",
              "      <td>-0.3694</td>\n",
              "      <td>-0.5688</td>\n",
              "      <td>-1.1360</td>\n",
              "      <td>-1.1880</td>\n",
              "      <td>0.6940</td>\n",
              "      <td>0.4393</td>\n",
              "      <td>0.2664</td>\n",
              "      <td>0.1907</td>\n",
              "      <td>0.1628</td>\n",
              "      <td>-0.2853</td>\n",
              "      <td>0.5819</td>\n",
              "      <td>0.2934</td>\n",
              "      <td>-0.5584</td>\n",
              "      <td>-0.0916</td>\n",
              "      <td>-0.3010</td>\n",
              "      <td>-0.1537</td>\n",
              "      <td>...</td>\n",
              "      <td>0.4805</td>\n",
              "      <td>0.4965</td>\n",
              "      <td>0.3680</td>\n",
              "      <td>0.8427</td>\n",
              "      <td>0.1042</td>\n",
              "      <td>0.1403</td>\n",
              "      <td>0.1758</td>\n",
              "      <td>1.2570</td>\n",
              "      <td>-0.5979</td>\n",
              "      <td>1.2250</td>\n",
              "      <td>-0.0553</td>\n",
              "      <td>0.7351</td>\n",
              "      <td>0.5810</td>\n",
              "      <td>0.9590</td>\n",
              "      <td>0.2427</td>\n",
              "      <td>0.0495</td>\n",
              "      <td>0.4141</td>\n",
              "      <td>0.8432</td>\n",
              "      <td>0.6162</td>\n",
              "      <td>-0.7318</td>\n",
              "      <td>1.2120</td>\n",
              "      <td>0.6362</td>\n",
              "      <td>-0.4427</td>\n",
              "      <td>0.1288</td>\n",
              "      <td>1.4840</td>\n",
              "      <td>0.1799</td>\n",
              "      <td>0.5367</td>\n",
              "      <td>-0.1111</td>\n",
              "      <td>-1.0120</td>\n",
              "      <td>0.6685</td>\n",
              "      <td>0.2862</td>\n",
              "      <td>0.2584</td>\n",
              "      <td>0.8076</td>\n",
              "      <td>0.5523</td>\n",
              "      <td>-0.1912</td>\n",
              "      <td>0.6584</td>\n",
              "      <td>-0.3981</td>\n",
              "      <td>0.2139</td>\n",
              "      <td>0.3801</td>\n",
              "      <td>0.4176</td>\n",
              "    </tr>\n",
              "    <tr>\n",
              "      <th>1</th>\n",
              "      <td>id_000779bfc</td>\n",
              "      <td>com_droga</td>\n",
              "      <td>72</td>\n",
              "      <td>D1</td>\n",
              "      <td>df89a8e5a</td>\n",
              "      <td>0.0743</td>\n",
              "      <td>0.4087</td>\n",
              "      <td>0.2991</td>\n",
              "      <td>0.0604</td>\n",
              "      <td>1.0190</td>\n",
              "      <td>0.5207</td>\n",
              "      <td>0.2341</td>\n",
              "      <td>0.3372</td>\n",
              "      <td>-0.4047</td>\n",
              "      <td>0.8507</td>\n",
              "      <td>-1.1520</td>\n",
              "      <td>-0.4201</td>\n",
              "      <td>-0.0958</td>\n",
              "      <td>0.4590</td>\n",
              "      <td>0.0803</td>\n",
              "      <td>0.2250</td>\n",
              "      <td>0.5293</td>\n",
              "      <td>0.2839</td>\n",
              "      <td>-0.3494</td>\n",
              "      <td>0.2883</td>\n",
              "      <td>0.9449</td>\n",
              "      <td>-0.1646</td>\n",
              "      <td>-0.2657</td>\n",
              "      <td>-0.3372</td>\n",
              "      <td>0.3135</td>\n",
              "      <td>-0.4316</td>\n",
              "      <td>0.4773</td>\n",
              "      <td>0.2075</td>\n",
              "      <td>-0.4216</td>\n",
              "      <td>-0.1161</td>\n",
              "      <td>-0.0499</td>\n",
              "      <td>-0.2627</td>\n",
              "      <td>0.9959</td>\n",
              "      <td>-0.2483</td>\n",
              "      <td>0.2655</td>\n",
              "      <td>...</td>\n",
              "      <td>0.4083</td>\n",
              "      <td>0.0319</td>\n",
              "      <td>0.3905</td>\n",
              "      <td>0.7099</td>\n",
              "      <td>0.2912</td>\n",
              "      <td>0.4151</td>\n",
              "      <td>-0.2840</td>\n",
              "      <td>-0.3104</td>\n",
              "      <td>-0.6373</td>\n",
              "      <td>0.2887</td>\n",
              "      <td>-0.0765</td>\n",
              "      <td>0.2539</td>\n",
              "      <td>0.4443</td>\n",
              "      <td>0.5932</td>\n",
              "      <td>0.2031</td>\n",
              "      <td>0.7639</td>\n",
              "      <td>0.5499</td>\n",
              "      <td>-0.3322</td>\n",
              "      <td>-0.0977</td>\n",
              "      <td>0.4329</td>\n",
              "      <td>-0.2782</td>\n",
              "      <td>0.7827</td>\n",
              "      <td>0.5934</td>\n",
              "      <td>0.3402</td>\n",
              "      <td>0.1499</td>\n",
              "      <td>0.4420</td>\n",
              "      <td>0.9366</td>\n",
              "      <td>0.8193</td>\n",
              "      <td>-0.4236</td>\n",
              "      <td>0.3192</td>\n",
              "      <td>-0.4265</td>\n",
              "      <td>0.7543</td>\n",
              "      <td>0.4708</td>\n",
              "      <td>0.0230</td>\n",
              "      <td>0.2957</td>\n",
              "      <td>0.4899</td>\n",
              "      <td>0.1522</td>\n",
              "      <td>0.1241</td>\n",
              "      <td>0.6077</td>\n",
              "      <td>0.7371</td>\n",
              "    </tr>\n",
              "    <tr>\n",
              "      <th>2</th>\n",
              "      <td>id_000a6266a</td>\n",
              "      <td>com_droga</td>\n",
              "      <td>48</td>\n",
              "      <td>D1</td>\n",
              "      <td>18bb41b2c</td>\n",
              "      <td>0.6280</td>\n",
              "      <td>0.5817</td>\n",
              "      <td>1.5540</td>\n",
              "      <td>-0.0764</td>\n",
              "      <td>-0.0323</td>\n",
              "      <td>1.2390</td>\n",
              "      <td>0.1715</td>\n",
              "      <td>0.2155</td>\n",
              "      <td>0.0065</td>\n",
              "      <td>1.2300</td>\n",
              "      <td>-0.4797</td>\n",
              "      <td>-0.5631</td>\n",
              "      <td>-0.0366</td>\n",
              "      <td>-1.8300</td>\n",
              "      <td>0.6057</td>\n",
              "      <td>-0.3278</td>\n",
              "      <td>0.6042</td>\n",
              "      <td>-0.3075</td>\n",
              "      <td>-0.1147</td>\n",
              "      <td>-0.0570</td>\n",
              "      <td>-0.0799</td>\n",
              "      <td>-0.8181</td>\n",
              "      <td>-1.5320</td>\n",
              "      <td>0.2307</td>\n",
              "      <td>0.4901</td>\n",
              "      <td>0.4780</td>\n",
              "      <td>-1.3970</td>\n",
              "      <td>4.6240</td>\n",
              "      <td>-0.0437</td>\n",
              "      <td>1.2870</td>\n",
              "      <td>-1.8530</td>\n",
              "      <td>0.6069</td>\n",
              "      <td>0.4290</td>\n",
              "      <td>0.1783</td>\n",
              "      <td>0.0018</td>\n",
              "      <td>...</td>\n",
              "      <td>-0.5477</td>\n",
              "      <td>-0.7576</td>\n",
              "      <td>-0.0444</td>\n",
              "      <td>0.1894</td>\n",
              "      <td>-0.0014</td>\n",
              "      <td>-2.3640</td>\n",
              "      <td>-0.4682</td>\n",
              "      <td>0.1210</td>\n",
              "      <td>-0.5177</td>\n",
              "      <td>-0.0604</td>\n",
              "      <td>0.1682</td>\n",
              "      <td>-0.4436</td>\n",
              "      <td>0.4963</td>\n",
              "      <td>0.1363</td>\n",
              "      <td>0.3335</td>\n",
              "      <td>0.9760</td>\n",
              "      <td>-0.0427</td>\n",
              "      <td>-0.1235</td>\n",
              "      <td>0.0959</td>\n",
              "      <td>0.0690</td>\n",
              "      <td>-0.9416</td>\n",
              "      <td>-0.7548</td>\n",
              "      <td>-0.1109</td>\n",
              "      <td>-0.6272</td>\n",
              "      <td>0.3019</td>\n",
              "      <td>0.1172</td>\n",
              "      <td>0.1093</td>\n",
              "      <td>-0.3113</td>\n",
              "      <td>0.3019</td>\n",
              "      <td>-0.0873</td>\n",
              "      <td>-0.7250</td>\n",
              "      <td>-0.6297</td>\n",
              "      <td>0.6103</td>\n",
              "      <td>0.0223</td>\n",
              "      <td>-1.3240</td>\n",
              "      <td>-0.3174</td>\n",
              "      <td>-0.6417</td>\n",
              "      <td>-0.2187</td>\n",
              "      <td>-1.4080</td>\n",
              "      <td>0.6931</td>\n",
              "    </tr>\n",
              "    <tr>\n",
              "      <th>3</th>\n",
              "      <td>id_0015fd391</td>\n",
              "      <td>com_droga</td>\n",
              "      <td>48</td>\n",
              "      <td>D1</td>\n",
              "      <td>8c7f86626</td>\n",
              "      <td>-0.5138</td>\n",
              "      <td>-0.2491</td>\n",
              "      <td>-0.2656</td>\n",
              "      <td>0.5288</td>\n",
              "      <td>4.0620</td>\n",
              "      <td>-0.8095</td>\n",
              "      <td>-1.9590</td>\n",
              "      <td>0.1792</td>\n",
              "      <td>-0.1321</td>\n",
              "      <td>-1.0600</td>\n",
              "      <td>-0.8269</td>\n",
              "      <td>-0.3584</td>\n",
              "      <td>-0.8511</td>\n",
              "      <td>-0.5844</td>\n",
              "      <td>-2.5690</td>\n",
              "      <td>0.8183</td>\n",
              "      <td>-0.0532</td>\n",
              "      <td>-0.8554</td>\n",
              "      <td>0.1160</td>\n",
              "      <td>-2.3520</td>\n",
              "      <td>2.1200</td>\n",
              "      <td>-1.1580</td>\n",
              "      <td>-0.7191</td>\n",
              "      <td>-0.8004</td>\n",
              "      <td>-1.4670</td>\n",
              "      <td>-0.0107</td>\n",
              "      <td>-0.8995</td>\n",
              "      <td>0.2406</td>\n",
              "      <td>-0.2479</td>\n",
              "      <td>-1.0890</td>\n",
              "      <td>-0.7575</td>\n",
              "      <td>0.0881</td>\n",
              "      <td>-2.7370</td>\n",
              "      <td>0.8745</td>\n",
              "      <td>0.5787</td>\n",
              "      <td>...</td>\n",
              "      <td>-2.1220</td>\n",
              "      <td>-0.3752</td>\n",
              "      <td>-2.3820</td>\n",
              "      <td>-3.7350</td>\n",
              "      <td>-2.9740</td>\n",
              "      <td>-1.4930</td>\n",
              "      <td>-1.6600</td>\n",
              "      <td>-3.1660</td>\n",
              "      <td>0.2816</td>\n",
              "      <td>-0.2990</td>\n",
              "      <td>-1.1870</td>\n",
              "      <td>-0.5044</td>\n",
              "      <td>-1.7750</td>\n",
              "      <td>-1.6120</td>\n",
              "      <td>-0.9215</td>\n",
              "      <td>-1.0810</td>\n",
              "      <td>-3.0520</td>\n",
              "      <td>-3.4470</td>\n",
              "      <td>-2.7740</td>\n",
              "      <td>-1.8460</td>\n",
              "      <td>-0.5568</td>\n",
              "      <td>-3.3960</td>\n",
              "      <td>-2.9510</td>\n",
              "      <td>-1.1550</td>\n",
              "      <td>-3.2620</td>\n",
              "      <td>-1.5390</td>\n",
              "      <td>-2.4600</td>\n",
              "      <td>-0.9417</td>\n",
              "      <td>-1.5550</td>\n",
              "      <td>0.2431</td>\n",
              "      <td>-2.0990</td>\n",
              "      <td>-0.6441</td>\n",
              "      <td>-5.6300</td>\n",
              "      <td>-1.3780</td>\n",
              "      <td>-0.8632</td>\n",
              "      <td>-1.2880</td>\n",
              "      <td>-1.6210</td>\n",
              "      <td>-0.8784</td>\n",
              "      <td>-0.3876</td>\n",
              "      <td>-0.8154</td>\n",
              "    </tr>\n",
              "    <tr>\n",
              "      <th>4</th>\n",
              "      <td>id_001626bd3</td>\n",
              "      <td>com_droga</td>\n",
              "      <td>72</td>\n",
              "      <td>D2</td>\n",
              "      <td>7cbed3131</td>\n",
              "      <td>-0.3254</td>\n",
              "      <td>-0.4009</td>\n",
              "      <td>0.9700</td>\n",
              "      <td>0.6919</td>\n",
              "      <td>1.4180</td>\n",
              "      <td>-0.8244</td>\n",
              "      <td>-0.2800</td>\n",
              "      <td>-0.1498</td>\n",
              "      <td>-0.8789</td>\n",
              "      <td>0.8630</td>\n",
              "      <td>-0.2219</td>\n",
              "      <td>-0.5121</td>\n",
              "      <td>-0.9577</td>\n",
              "      <td>1.1750</td>\n",
              "      <td>0.2042</td>\n",
              "      <td>0.1970</td>\n",
              "      <td>0.1244</td>\n",
              "      <td>-1.7090</td>\n",
              "      <td>-0.3543</td>\n",
              "      <td>-0.5160</td>\n",
              "      <td>-0.3330</td>\n",
              "      <td>-0.2685</td>\n",
              "      <td>0.7649</td>\n",
              "      <td>0.2057</td>\n",
              "      <td>1.3720</td>\n",
              "      <td>0.6835</td>\n",
              "      <td>0.8056</td>\n",
              "      <td>-0.3754</td>\n",
              "      <td>-1.2090</td>\n",
              "      <td>0.2965</td>\n",
              "      <td>-0.0712</td>\n",
              "      <td>0.6389</td>\n",
              "      <td>0.6674</td>\n",
              "      <td>-0.0783</td>\n",
              "      <td>1.1740</td>\n",
              "      <td>...</td>\n",
              "      <td>-0.2274</td>\n",
              "      <td>0.3215</td>\n",
              "      <td>0.1535</td>\n",
              "      <td>-0.4640</td>\n",
              "      <td>-0.5943</td>\n",
              "      <td>0.3973</td>\n",
              "      <td>0.1500</td>\n",
              "      <td>0.5178</td>\n",
              "      <td>0.5159</td>\n",
              "      <td>0.6091</td>\n",
              "      <td>0.1813</td>\n",
              "      <td>-0.4249</td>\n",
              "      <td>0.7832</td>\n",
              "      <td>0.6529</td>\n",
              "      <td>0.5648</td>\n",
              "      <td>0.4817</td>\n",
              "      <td>0.0587</td>\n",
              "      <td>0.5303</td>\n",
              "      <td>0.6376</td>\n",
              "      <td>-0.3966</td>\n",
              "      <td>-1.4950</td>\n",
              "      <td>-0.9625</td>\n",
              "      <td>-0.0541</td>\n",
              "      <td>0.6273</td>\n",
              "      <td>0.4563</td>\n",
              "      <td>0.0698</td>\n",
              "      <td>0.8134</td>\n",
              "      <td>0.1924</td>\n",
              "      <td>0.6054</td>\n",
              "      <td>-0.1824</td>\n",
              "      <td>0.0042</td>\n",
              "      <td>0.0048</td>\n",
              "      <td>0.6670</td>\n",
              "      <td>1.0690</td>\n",
              "      <td>0.5523</td>\n",
              "      <td>-0.3031</td>\n",
              "      <td>0.1094</td>\n",
              "      <td>0.2885</td>\n",
              "      <td>-0.3786</td>\n",
              "      <td>0.7125</td>\n",
              "    </tr>\n",
              "  </tbody>\n",
              "</table>\n",
              "<p>5 rows × 877 columns</p>\n",
              "</div>"
            ],
            "text/plain": [
              "             id tratamento  tempo dose  ...    c-96    c-97    c-98    c-99\n",
              "0  id_000644bb2  com_droga     24   D1  ... -0.3981  0.2139  0.3801  0.4176\n",
              "1  id_000779bfc  com_droga     72   D1  ...  0.1522  0.1241  0.6077  0.7371\n",
              "2  id_000a6266a  com_droga     48   D1  ... -0.6417 -0.2187 -1.4080  0.6931\n",
              "3  id_0015fd391  com_droga     48   D1  ... -1.6210 -0.8784 -0.3876 -0.8154\n",
              "4  id_001626bd3  com_droga     72   D2  ...  0.1094  0.2885 -0.3786  0.7125\n",
              "\n",
              "[5 rows x 877 columns]"
            ]
          },
          "metadata": {
            "tags": []
          },
          "execution_count": 2
        }
      ]
    },
    {
      "cell_type": "code",
      "metadata": {
        "colab": {
          "base_uri": "https://localhost:8080/"
        },
        "id": "XG2i07co26zO",
        "outputId": "82a4c68c-e2ae-44e7-cda9-91efc13510cc"
      },
      "source": [
        "dados_teste.shape"
      ],
      "execution_count": null,
      "outputs": [
        {
          "output_type": "execute_result",
          "data": {
            "text/plain": [
              "(23814, 877)"
            ]
          },
          "metadata": {
            "tags": []
          },
          "execution_count": 3
        }
      ]
    },
    {
      "cell_type": "markdown",
      "metadata": {
        "id": "fNEDRPwmtnFW"
      },
      "source": [
        "Como python nem sempre consegue interpretar o \"-\" como uma string, para evitar problemas posteriores, vamos mudar por \"_\" utilizando a função *replace()*."
      ]
    },
    {
      "cell_type": "code",
      "metadata": {
        "colab": {
          "base_uri": "https://localhost:8080/",
          "height": 256
        },
        "id": "JCNvNT9OuMfN",
        "outputId": "9da686f1-cb88-4048-ec9c-823b4b3dd7c4"
      },
      "source": [
        "nome_das_colunas = dados_teste.columns\n",
        "\n",
        "novo_nome_coluna = []\n",
        "for coluna in nome_das_colunas:\n",
        "  coluna = coluna.replace('-', '_')\n",
        "  novo_nome_coluna.append(coluna)\n",
        "dados_teste.columns = novo_nome_coluna \n",
        "dados_teste.head()"
      ],
      "execution_count": null,
      "outputs": [
        {
          "output_type": "execute_result",
          "data": {
            "text/html": [
              "<div>\n",
              "<style scoped>\n",
              "    .dataframe tbody tr th:only-of-type {\n",
              "        vertical-align: middle;\n",
              "    }\n",
              "\n",
              "    .dataframe tbody tr th {\n",
              "        vertical-align: top;\n",
              "    }\n",
              "\n",
              "    .dataframe thead th {\n",
              "        text-align: right;\n",
              "    }\n",
              "</style>\n",
              "<table border=\"1\" class=\"dataframe\">\n",
              "  <thead>\n",
              "    <tr style=\"text-align: right;\">\n",
              "      <th></th>\n",
              "      <th>id</th>\n",
              "      <th>tratamento</th>\n",
              "      <th>tempo</th>\n",
              "      <th>dose</th>\n",
              "      <th>droga</th>\n",
              "      <th>g_0</th>\n",
              "      <th>g_1</th>\n",
              "      <th>g_2</th>\n",
              "      <th>g_3</th>\n",
              "      <th>g_4</th>\n",
              "      <th>g_5</th>\n",
              "      <th>g_6</th>\n",
              "      <th>g_7</th>\n",
              "      <th>g_8</th>\n",
              "      <th>g_9</th>\n",
              "      <th>g_10</th>\n",
              "      <th>g_11</th>\n",
              "      <th>g_12</th>\n",
              "      <th>g_13</th>\n",
              "      <th>g_14</th>\n",
              "      <th>g_15</th>\n",
              "      <th>g_16</th>\n",
              "      <th>g_17</th>\n",
              "      <th>g_18</th>\n",
              "      <th>g_19</th>\n",
              "      <th>g_20</th>\n",
              "      <th>g_21</th>\n",
              "      <th>g_22</th>\n",
              "      <th>g_23</th>\n",
              "      <th>g_24</th>\n",
              "      <th>g_25</th>\n",
              "      <th>g_26</th>\n",
              "      <th>g_27</th>\n",
              "      <th>g_28</th>\n",
              "      <th>g_29</th>\n",
              "      <th>g_30</th>\n",
              "      <th>g_31</th>\n",
              "      <th>g_32</th>\n",
              "      <th>g_33</th>\n",
              "      <th>g_34</th>\n",
              "      <th>...</th>\n",
              "      <th>c_60</th>\n",
              "      <th>c_61</th>\n",
              "      <th>c_62</th>\n",
              "      <th>c_63</th>\n",
              "      <th>c_64</th>\n",
              "      <th>c_65</th>\n",
              "      <th>c_66</th>\n",
              "      <th>c_67</th>\n",
              "      <th>c_68</th>\n",
              "      <th>c_69</th>\n",
              "      <th>c_70</th>\n",
              "      <th>c_71</th>\n",
              "      <th>c_72</th>\n",
              "      <th>c_73</th>\n",
              "      <th>c_74</th>\n",
              "      <th>c_75</th>\n",
              "      <th>c_76</th>\n",
              "      <th>c_77</th>\n",
              "      <th>c_78</th>\n",
              "      <th>c_79</th>\n",
              "      <th>c_80</th>\n",
              "      <th>c_81</th>\n",
              "      <th>c_82</th>\n",
              "      <th>c_83</th>\n",
              "      <th>c_84</th>\n",
              "      <th>c_85</th>\n",
              "      <th>c_86</th>\n",
              "      <th>c_87</th>\n",
              "      <th>c_88</th>\n",
              "      <th>c_89</th>\n",
              "      <th>c_90</th>\n",
              "      <th>c_91</th>\n",
              "      <th>c_92</th>\n",
              "      <th>c_93</th>\n",
              "      <th>c_94</th>\n",
              "      <th>c_95</th>\n",
              "      <th>c_96</th>\n",
              "      <th>c_97</th>\n",
              "      <th>c_98</th>\n",
              "      <th>c_99</th>\n",
              "    </tr>\n",
              "  </thead>\n",
              "  <tbody>\n",
              "    <tr>\n",
              "      <th>0</th>\n",
              "      <td>id_000644bb2</td>\n",
              "      <td>com_droga</td>\n",
              "      <td>24</td>\n",
              "      <td>D1</td>\n",
              "      <td>b68db1d53</td>\n",
              "      <td>1.0620</td>\n",
              "      <td>0.5577</td>\n",
              "      <td>-0.2479</td>\n",
              "      <td>-0.6208</td>\n",
              "      <td>-0.1944</td>\n",
              "      <td>-1.0120</td>\n",
              "      <td>-1.0220</td>\n",
              "      <td>-0.0326</td>\n",
              "      <td>0.5548</td>\n",
              "      <td>-0.0921</td>\n",
              "      <td>1.1830</td>\n",
              "      <td>0.1530</td>\n",
              "      <td>0.5574</td>\n",
              "      <td>-0.4015</td>\n",
              "      <td>0.1789</td>\n",
              "      <td>-0.6528</td>\n",
              "      <td>-0.7969</td>\n",
              "      <td>0.6342</td>\n",
              "      <td>0.1778</td>\n",
              "      <td>-0.3694</td>\n",
              "      <td>-0.5688</td>\n",
              "      <td>-1.1360</td>\n",
              "      <td>-1.1880</td>\n",
              "      <td>0.6940</td>\n",
              "      <td>0.4393</td>\n",
              "      <td>0.2664</td>\n",
              "      <td>0.1907</td>\n",
              "      <td>0.1628</td>\n",
              "      <td>-0.2853</td>\n",
              "      <td>0.5819</td>\n",
              "      <td>0.2934</td>\n",
              "      <td>-0.5584</td>\n",
              "      <td>-0.0916</td>\n",
              "      <td>-0.3010</td>\n",
              "      <td>-0.1537</td>\n",
              "      <td>...</td>\n",
              "      <td>0.4805</td>\n",
              "      <td>0.4965</td>\n",
              "      <td>0.3680</td>\n",
              "      <td>0.8427</td>\n",
              "      <td>0.1042</td>\n",
              "      <td>0.1403</td>\n",
              "      <td>0.1758</td>\n",
              "      <td>1.2570</td>\n",
              "      <td>-0.5979</td>\n",
              "      <td>1.2250</td>\n",
              "      <td>-0.0553</td>\n",
              "      <td>0.7351</td>\n",
              "      <td>0.5810</td>\n",
              "      <td>0.9590</td>\n",
              "      <td>0.2427</td>\n",
              "      <td>0.0495</td>\n",
              "      <td>0.4141</td>\n",
              "      <td>0.8432</td>\n",
              "      <td>0.6162</td>\n",
              "      <td>-0.7318</td>\n",
              "      <td>1.2120</td>\n",
              "      <td>0.6362</td>\n",
              "      <td>-0.4427</td>\n",
              "      <td>0.1288</td>\n",
              "      <td>1.4840</td>\n",
              "      <td>0.1799</td>\n",
              "      <td>0.5367</td>\n",
              "      <td>-0.1111</td>\n",
              "      <td>-1.0120</td>\n",
              "      <td>0.6685</td>\n",
              "      <td>0.2862</td>\n",
              "      <td>0.2584</td>\n",
              "      <td>0.8076</td>\n",
              "      <td>0.5523</td>\n",
              "      <td>-0.1912</td>\n",
              "      <td>0.6584</td>\n",
              "      <td>-0.3981</td>\n",
              "      <td>0.2139</td>\n",
              "      <td>0.3801</td>\n",
              "      <td>0.4176</td>\n",
              "    </tr>\n",
              "    <tr>\n",
              "      <th>1</th>\n",
              "      <td>id_000779bfc</td>\n",
              "      <td>com_droga</td>\n",
              "      <td>72</td>\n",
              "      <td>D1</td>\n",
              "      <td>df89a8e5a</td>\n",
              "      <td>0.0743</td>\n",
              "      <td>0.4087</td>\n",
              "      <td>0.2991</td>\n",
              "      <td>0.0604</td>\n",
              "      <td>1.0190</td>\n",
              "      <td>0.5207</td>\n",
              "      <td>0.2341</td>\n",
              "      <td>0.3372</td>\n",
              "      <td>-0.4047</td>\n",
              "      <td>0.8507</td>\n",
              "      <td>-1.1520</td>\n",
              "      <td>-0.4201</td>\n",
              "      <td>-0.0958</td>\n",
              "      <td>0.4590</td>\n",
              "      <td>0.0803</td>\n",
              "      <td>0.2250</td>\n",
              "      <td>0.5293</td>\n",
              "      <td>0.2839</td>\n",
              "      <td>-0.3494</td>\n",
              "      <td>0.2883</td>\n",
              "      <td>0.9449</td>\n",
              "      <td>-0.1646</td>\n",
              "      <td>-0.2657</td>\n",
              "      <td>-0.3372</td>\n",
              "      <td>0.3135</td>\n",
              "      <td>-0.4316</td>\n",
              "      <td>0.4773</td>\n",
              "      <td>0.2075</td>\n",
              "      <td>-0.4216</td>\n",
              "      <td>-0.1161</td>\n",
              "      <td>-0.0499</td>\n",
              "      <td>-0.2627</td>\n",
              "      <td>0.9959</td>\n",
              "      <td>-0.2483</td>\n",
              "      <td>0.2655</td>\n",
              "      <td>...</td>\n",
              "      <td>0.4083</td>\n",
              "      <td>0.0319</td>\n",
              "      <td>0.3905</td>\n",
              "      <td>0.7099</td>\n",
              "      <td>0.2912</td>\n",
              "      <td>0.4151</td>\n",
              "      <td>-0.2840</td>\n",
              "      <td>-0.3104</td>\n",
              "      <td>-0.6373</td>\n",
              "      <td>0.2887</td>\n",
              "      <td>-0.0765</td>\n",
              "      <td>0.2539</td>\n",
              "      <td>0.4443</td>\n",
              "      <td>0.5932</td>\n",
              "      <td>0.2031</td>\n",
              "      <td>0.7639</td>\n",
              "      <td>0.5499</td>\n",
              "      <td>-0.3322</td>\n",
              "      <td>-0.0977</td>\n",
              "      <td>0.4329</td>\n",
              "      <td>-0.2782</td>\n",
              "      <td>0.7827</td>\n",
              "      <td>0.5934</td>\n",
              "      <td>0.3402</td>\n",
              "      <td>0.1499</td>\n",
              "      <td>0.4420</td>\n",
              "      <td>0.9366</td>\n",
              "      <td>0.8193</td>\n",
              "      <td>-0.4236</td>\n",
              "      <td>0.3192</td>\n",
              "      <td>-0.4265</td>\n",
              "      <td>0.7543</td>\n",
              "      <td>0.4708</td>\n",
              "      <td>0.0230</td>\n",
              "      <td>0.2957</td>\n",
              "      <td>0.4899</td>\n",
              "      <td>0.1522</td>\n",
              "      <td>0.1241</td>\n",
              "      <td>0.6077</td>\n",
              "      <td>0.7371</td>\n",
              "    </tr>\n",
              "    <tr>\n",
              "      <th>2</th>\n",
              "      <td>id_000a6266a</td>\n",
              "      <td>com_droga</td>\n",
              "      <td>48</td>\n",
              "      <td>D1</td>\n",
              "      <td>18bb41b2c</td>\n",
              "      <td>0.6280</td>\n",
              "      <td>0.5817</td>\n",
              "      <td>1.5540</td>\n",
              "      <td>-0.0764</td>\n",
              "      <td>-0.0323</td>\n",
              "      <td>1.2390</td>\n",
              "      <td>0.1715</td>\n",
              "      <td>0.2155</td>\n",
              "      <td>0.0065</td>\n",
              "      <td>1.2300</td>\n",
              "      <td>-0.4797</td>\n",
              "      <td>-0.5631</td>\n",
              "      <td>-0.0366</td>\n",
              "      <td>-1.8300</td>\n",
              "      <td>0.6057</td>\n",
              "      <td>-0.3278</td>\n",
              "      <td>0.6042</td>\n",
              "      <td>-0.3075</td>\n",
              "      <td>-0.1147</td>\n",
              "      <td>-0.0570</td>\n",
              "      <td>-0.0799</td>\n",
              "      <td>-0.8181</td>\n",
              "      <td>-1.5320</td>\n",
              "      <td>0.2307</td>\n",
              "      <td>0.4901</td>\n",
              "      <td>0.4780</td>\n",
              "      <td>-1.3970</td>\n",
              "      <td>4.6240</td>\n",
              "      <td>-0.0437</td>\n",
              "      <td>1.2870</td>\n",
              "      <td>-1.8530</td>\n",
              "      <td>0.6069</td>\n",
              "      <td>0.4290</td>\n",
              "      <td>0.1783</td>\n",
              "      <td>0.0018</td>\n",
              "      <td>...</td>\n",
              "      <td>-0.5477</td>\n",
              "      <td>-0.7576</td>\n",
              "      <td>-0.0444</td>\n",
              "      <td>0.1894</td>\n",
              "      <td>-0.0014</td>\n",
              "      <td>-2.3640</td>\n",
              "      <td>-0.4682</td>\n",
              "      <td>0.1210</td>\n",
              "      <td>-0.5177</td>\n",
              "      <td>-0.0604</td>\n",
              "      <td>0.1682</td>\n",
              "      <td>-0.4436</td>\n",
              "      <td>0.4963</td>\n",
              "      <td>0.1363</td>\n",
              "      <td>0.3335</td>\n",
              "      <td>0.9760</td>\n",
              "      <td>-0.0427</td>\n",
              "      <td>-0.1235</td>\n",
              "      <td>0.0959</td>\n",
              "      <td>0.0690</td>\n",
              "      <td>-0.9416</td>\n",
              "      <td>-0.7548</td>\n",
              "      <td>-0.1109</td>\n",
              "      <td>-0.6272</td>\n",
              "      <td>0.3019</td>\n",
              "      <td>0.1172</td>\n",
              "      <td>0.1093</td>\n",
              "      <td>-0.3113</td>\n",
              "      <td>0.3019</td>\n",
              "      <td>-0.0873</td>\n",
              "      <td>-0.7250</td>\n",
              "      <td>-0.6297</td>\n",
              "      <td>0.6103</td>\n",
              "      <td>0.0223</td>\n",
              "      <td>-1.3240</td>\n",
              "      <td>-0.3174</td>\n",
              "      <td>-0.6417</td>\n",
              "      <td>-0.2187</td>\n",
              "      <td>-1.4080</td>\n",
              "      <td>0.6931</td>\n",
              "    </tr>\n",
              "    <tr>\n",
              "      <th>3</th>\n",
              "      <td>id_0015fd391</td>\n",
              "      <td>com_droga</td>\n",
              "      <td>48</td>\n",
              "      <td>D1</td>\n",
              "      <td>8c7f86626</td>\n",
              "      <td>-0.5138</td>\n",
              "      <td>-0.2491</td>\n",
              "      <td>-0.2656</td>\n",
              "      <td>0.5288</td>\n",
              "      <td>4.0620</td>\n",
              "      <td>-0.8095</td>\n",
              "      <td>-1.9590</td>\n",
              "      <td>0.1792</td>\n",
              "      <td>-0.1321</td>\n",
              "      <td>-1.0600</td>\n",
              "      <td>-0.8269</td>\n",
              "      <td>-0.3584</td>\n",
              "      <td>-0.8511</td>\n",
              "      <td>-0.5844</td>\n",
              "      <td>-2.5690</td>\n",
              "      <td>0.8183</td>\n",
              "      <td>-0.0532</td>\n",
              "      <td>-0.8554</td>\n",
              "      <td>0.1160</td>\n",
              "      <td>-2.3520</td>\n",
              "      <td>2.1200</td>\n",
              "      <td>-1.1580</td>\n",
              "      <td>-0.7191</td>\n",
              "      <td>-0.8004</td>\n",
              "      <td>-1.4670</td>\n",
              "      <td>-0.0107</td>\n",
              "      <td>-0.8995</td>\n",
              "      <td>0.2406</td>\n",
              "      <td>-0.2479</td>\n",
              "      <td>-1.0890</td>\n",
              "      <td>-0.7575</td>\n",
              "      <td>0.0881</td>\n",
              "      <td>-2.7370</td>\n",
              "      <td>0.8745</td>\n",
              "      <td>0.5787</td>\n",
              "      <td>...</td>\n",
              "      <td>-2.1220</td>\n",
              "      <td>-0.3752</td>\n",
              "      <td>-2.3820</td>\n",
              "      <td>-3.7350</td>\n",
              "      <td>-2.9740</td>\n",
              "      <td>-1.4930</td>\n",
              "      <td>-1.6600</td>\n",
              "      <td>-3.1660</td>\n",
              "      <td>0.2816</td>\n",
              "      <td>-0.2990</td>\n",
              "      <td>-1.1870</td>\n",
              "      <td>-0.5044</td>\n",
              "      <td>-1.7750</td>\n",
              "      <td>-1.6120</td>\n",
              "      <td>-0.9215</td>\n",
              "      <td>-1.0810</td>\n",
              "      <td>-3.0520</td>\n",
              "      <td>-3.4470</td>\n",
              "      <td>-2.7740</td>\n",
              "      <td>-1.8460</td>\n",
              "      <td>-0.5568</td>\n",
              "      <td>-3.3960</td>\n",
              "      <td>-2.9510</td>\n",
              "      <td>-1.1550</td>\n",
              "      <td>-3.2620</td>\n",
              "      <td>-1.5390</td>\n",
              "      <td>-2.4600</td>\n",
              "      <td>-0.9417</td>\n",
              "      <td>-1.5550</td>\n",
              "      <td>0.2431</td>\n",
              "      <td>-2.0990</td>\n",
              "      <td>-0.6441</td>\n",
              "      <td>-5.6300</td>\n",
              "      <td>-1.3780</td>\n",
              "      <td>-0.8632</td>\n",
              "      <td>-1.2880</td>\n",
              "      <td>-1.6210</td>\n",
              "      <td>-0.8784</td>\n",
              "      <td>-0.3876</td>\n",
              "      <td>-0.8154</td>\n",
              "    </tr>\n",
              "    <tr>\n",
              "      <th>4</th>\n",
              "      <td>id_001626bd3</td>\n",
              "      <td>com_droga</td>\n",
              "      <td>72</td>\n",
              "      <td>D2</td>\n",
              "      <td>7cbed3131</td>\n",
              "      <td>-0.3254</td>\n",
              "      <td>-0.4009</td>\n",
              "      <td>0.9700</td>\n",
              "      <td>0.6919</td>\n",
              "      <td>1.4180</td>\n",
              "      <td>-0.8244</td>\n",
              "      <td>-0.2800</td>\n",
              "      <td>-0.1498</td>\n",
              "      <td>-0.8789</td>\n",
              "      <td>0.8630</td>\n",
              "      <td>-0.2219</td>\n",
              "      <td>-0.5121</td>\n",
              "      <td>-0.9577</td>\n",
              "      <td>1.1750</td>\n",
              "      <td>0.2042</td>\n",
              "      <td>0.1970</td>\n",
              "      <td>0.1244</td>\n",
              "      <td>-1.7090</td>\n",
              "      <td>-0.3543</td>\n",
              "      <td>-0.5160</td>\n",
              "      <td>-0.3330</td>\n",
              "      <td>-0.2685</td>\n",
              "      <td>0.7649</td>\n",
              "      <td>0.2057</td>\n",
              "      <td>1.3720</td>\n",
              "      <td>0.6835</td>\n",
              "      <td>0.8056</td>\n",
              "      <td>-0.3754</td>\n",
              "      <td>-1.2090</td>\n",
              "      <td>0.2965</td>\n",
              "      <td>-0.0712</td>\n",
              "      <td>0.6389</td>\n",
              "      <td>0.6674</td>\n",
              "      <td>-0.0783</td>\n",
              "      <td>1.1740</td>\n",
              "      <td>...</td>\n",
              "      <td>-0.2274</td>\n",
              "      <td>0.3215</td>\n",
              "      <td>0.1535</td>\n",
              "      <td>-0.4640</td>\n",
              "      <td>-0.5943</td>\n",
              "      <td>0.3973</td>\n",
              "      <td>0.1500</td>\n",
              "      <td>0.5178</td>\n",
              "      <td>0.5159</td>\n",
              "      <td>0.6091</td>\n",
              "      <td>0.1813</td>\n",
              "      <td>-0.4249</td>\n",
              "      <td>0.7832</td>\n",
              "      <td>0.6529</td>\n",
              "      <td>0.5648</td>\n",
              "      <td>0.4817</td>\n",
              "      <td>0.0587</td>\n",
              "      <td>0.5303</td>\n",
              "      <td>0.6376</td>\n",
              "      <td>-0.3966</td>\n",
              "      <td>-1.4950</td>\n",
              "      <td>-0.9625</td>\n",
              "      <td>-0.0541</td>\n",
              "      <td>0.6273</td>\n",
              "      <td>0.4563</td>\n",
              "      <td>0.0698</td>\n",
              "      <td>0.8134</td>\n",
              "      <td>0.1924</td>\n",
              "      <td>0.6054</td>\n",
              "      <td>-0.1824</td>\n",
              "      <td>0.0042</td>\n",
              "      <td>0.0048</td>\n",
              "      <td>0.6670</td>\n",
              "      <td>1.0690</td>\n",
              "      <td>0.5523</td>\n",
              "      <td>-0.3031</td>\n",
              "      <td>0.1094</td>\n",
              "      <td>0.2885</td>\n",
              "      <td>-0.3786</td>\n",
              "      <td>0.7125</td>\n",
              "    </tr>\n",
              "  </tbody>\n",
              "</table>\n",
              "<p>5 rows × 877 columns</p>\n",
              "</div>"
            ],
            "text/plain": [
              "             id tratamento  tempo dose  ...    c_96    c_97    c_98    c_99\n",
              "0  id_000644bb2  com_droga     24   D1  ... -0.3981  0.2139  0.3801  0.4176\n",
              "1  id_000779bfc  com_droga     72   D1  ...  0.1522  0.1241  0.6077  0.7371\n",
              "2  id_000a6266a  com_droga     48   D1  ... -0.6417 -0.2187 -1.4080  0.6931\n",
              "3  id_0015fd391  com_droga     48   D1  ... -1.6210 -0.8784 -0.3876 -0.8154\n",
              "4  id_001626bd3  com_droga     72   D2  ...  0.1094  0.2885 -0.3786  0.7125\n",
              "\n",
              "[5 rows x 877 columns]"
            ]
          },
          "metadata": {
            "tags": []
          },
          "execution_count": 4
        }
      ]
    },
    {
      "cell_type": "code",
      "metadata": {
        "colab": {
          "base_uri": "https://localhost:8080/",
          "height": 273
        },
        "id": "czchxK3UPwAw",
        "outputId": "77a4e422-9df5-4ab2-f5e4-c7c6b0157eb2"
      },
      "source": [
        "dados_resultados = pd.read_csv('https://github.com/alura-cursos/imersaodados3/blob/main/dados/dados_resultados.csv?raw=true')\n",
        "dados_resultados.head()"
      ],
      "execution_count": null,
      "outputs": [
        {
          "output_type": "execute_result",
          "data": {
            "text/html": [
              "<div>\n",
              "<style scoped>\n",
              "    .dataframe tbody tr th:only-of-type {\n",
              "        vertical-align: middle;\n",
              "    }\n",
              "\n",
              "    .dataframe tbody tr th {\n",
              "        vertical-align: top;\n",
              "    }\n",
              "\n",
              "    .dataframe thead th {\n",
              "        text-align: right;\n",
              "    }\n",
              "</style>\n",
              "<table border=\"1\" class=\"dataframe\">\n",
              "  <thead>\n",
              "    <tr style=\"text-align: right;\">\n",
              "      <th></th>\n",
              "      <th>id</th>\n",
              "      <th>5-alpha_reductase_inhibitor</th>\n",
              "      <th>11-beta-hsd1_inhibitor</th>\n",
              "      <th>acat_inhibitor</th>\n",
              "      <th>acetylcholine_receptor_agonist</th>\n",
              "      <th>acetylcholine_receptor_antagonist</th>\n",
              "      <th>acetylcholinesterase_inhibitor</th>\n",
              "      <th>adenosine_receptor_agonist</th>\n",
              "      <th>adenosine_receptor_antagonist</th>\n",
              "      <th>adenylyl_cyclase_activator</th>\n",
              "      <th>adrenergic_receptor_agonist</th>\n",
              "      <th>adrenergic_receptor_antagonist</th>\n",
              "      <th>akt_inhibitor</th>\n",
              "      <th>aldehyde_dehydrogenase_inhibitor</th>\n",
              "      <th>alk_inhibitor</th>\n",
              "      <th>ampk_activator</th>\n",
              "      <th>analgesic</th>\n",
              "      <th>androgen_receptor_agonist</th>\n",
              "      <th>androgen_receptor_antagonist</th>\n",
              "      <th>anesthetic_-_local</th>\n",
              "      <th>angiogenesis_inhibitor</th>\n",
              "      <th>angiotensin_receptor_antagonist</th>\n",
              "      <th>anti-inflammatory</th>\n",
              "      <th>antiarrhythmic</th>\n",
              "      <th>antibiotic</th>\n",
              "      <th>anticonvulsant</th>\n",
              "      <th>antifungal</th>\n",
              "      <th>antihistamine</th>\n",
              "      <th>antimalarial</th>\n",
              "      <th>antioxidant</th>\n",
              "      <th>antiprotozoal</th>\n",
              "      <th>antiviral</th>\n",
              "      <th>apoptosis_stimulant</th>\n",
              "      <th>aromatase_inhibitor</th>\n",
              "      <th>atm_kinase_inhibitor</th>\n",
              "      <th>atp-sensitive_potassium_channel_antagonist</th>\n",
              "      <th>atp_synthase_inhibitor</th>\n",
              "      <th>atpase_inhibitor</th>\n",
              "      <th>atr_kinase_inhibitor</th>\n",
              "      <th>aurora_kinase_inhibitor</th>\n",
              "      <th>...</th>\n",
              "      <th>protein_synthesis_inhibitor</th>\n",
              "      <th>protein_tyrosine_kinase_inhibitor</th>\n",
              "      <th>radiopaque_medium</th>\n",
              "      <th>raf_inhibitor</th>\n",
              "      <th>ras_gtpase_inhibitor</th>\n",
              "      <th>retinoid_receptor_agonist</th>\n",
              "      <th>retinoid_receptor_antagonist</th>\n",
              "      <th>rho_associated_kinase_inhibitor</th>\n",
              "      <th>ribonucleoside_reductase_inhibitor</th>\n",
              "      <th>rna_polymerase_inhibitor</th>\n",
              "      <th>serotonin_receptor_agonist</th>\n",
              "      <th>serotonin_receptor_antagonist</th>\n",
              "      <th>serotonin_reuptake_inhibitor</th>\n",
              "      <th>sigma_receptor_agonist</th>\n",
              "      <th>sigma_receptor_antagonist</th>\n",
              "      <th>smoothened_receptor_antagonist</th>\n",
              "      <th>sodium_channel_inhibitor</th>\n",
              "      <th>sphingosine_receptor_agonist</th>\n",
              "      <th>src_inhibitor</th>\n",
              "      <th>steroid</th>\n",
              "      <th>syk_inhibitor</th>\n",
              "      <th>tachykinin_antagonist</th>\n",
              "      <th>tgf-beta_receptor_inhibitor</th>\n",
              "      <th>thrombin_inhibitor</th>\n",
              "      <th>thymidylate_synthase_inhibitor</th>\n",
              "      <th>tlr_agonist</th>\n",
              "      <th>tlr_antagonist</th>\n",
              "      <th>tnf_inhibitor</th>\n",
              "      <th>topoisomerase_inhibitor</th>\n",
              "      <th>transient_receptor_potential_channel_antagonist</th>\n",
              "      <th>tropomyosin_receptor_kinase_inhibitor</th>\n",
              "      <th>trpv_agonist</th>\n",
              "      <th>trpv_antagonist</th>\n",
              "      <th>tubulin_inhibitor</th>\n",
              "      <th>tyrosine_kinase_inhibitor</th>\n",
              "      <th>ubiquitin_specific_protease_inhibitor</th>\n",
              "      <th>vegfr_inhibitor</th>\n",
              "      <th>vitamin_b</th>\n",
              "      <th>vitamin_d_receptor_agonist</th>\n",
              "      <th>wnt_inhibitor</th>\n",
              "    </tr>\n",
              "  </thead>\n",
              "  <tbody>\n",
              "    <tr>\n",
              "      <th>0</th>\n",
              "      <td>id_000644bb2</td>\n",
              "      <td>0</td>\n",
              "      <td>0</td>\n",
              "      <td>0</td>\n",
              "      <td>0</td>\n",
              "      <td>0</td>\n",
              "      <td>0</td>\n",
              "      <td>0</td>\n",
              "      <td>0</td>\n",
              "      <td>0</td>\n",
              "      <td>0</td>\n",
              "      <td>0</td>\n",
              "      <td>0</td>\n",
              "      <td>0</td>\n",
              "      <td>0</td>\n",
              "      <td>0</td>\n",
              "      <td>0</td>\n",
              "      <td>0</td>\n",
              "      <td>0</td>\n",
              "      <td>0</td>\n",
              "      <td>0</td>\n",
              "      <td>0</td>\n",
              "      <td>0</td>\n",
              "      <td>0</td>\n",
              "      <td>0</td>\n",
              "      <td>0</td>\n",
              "      <td>0</td>\n",
              "      <td>0</td>\n",
              "      <td>0</td>\n",
              "      <td>0</td>\n",
              "      <td>0</td>\n",
              "      <td>0</td>\n",
              "      <td>0</td>\n",
              "      <td>0</td>\n",
              "      <td>0</td>\n",
              "      <td>0</td>\n",
              "      <td>0</td>\n",
              "      <td>0</td>\n",
              "      <td>0</td>\n",
              "      <td>0</td>\n",
              "      <td>...</td>\n",
              "      <td>0</td>\n",
              "      <td>0</td>\n",
              "      <td>0</td>\n",
              "      <td>0</td>\n",
              "      <td>0</td>\n",
              "      <td>0</td>\n",
              "      <td>0</td>\n",
              "      <td>0</td>\n",
              "      <td>0</td>\n",
              "      <td>0</td>\n",
              "      <td>0</td>\n",
              "      <td>0</td>\n",
              "      <td>0</td>\n",
              "      <td>0</td>\n",
              "      <td>0</td>\n",
              "      <td>0</td>\n",
              "      <td>0</td>\n",
              "      <td>0</td>\n",
              "      <td>0</td>\n",
              "      <td>0</td>\n",
              "      <td>0</td>\n",
              "      <td>0</td>\n",
              "      <td>0</td>\n",
              "      <td>0</td>\n",
              "      <td>0</td>\n",
              "      <td>0</td>\n",
              "      <td>0</td>\n",
              "      <td>0</td>\n",
              "      <td>0</td>\n",
              "      <td>0</td>\n",
              "      <td>0</td>\n",
              "      <td>0</td>\n",
              "      <td>0</td>\n",
              "      <td>0</td>\n",
              "      <td>0</td>\n",
              "      <td>0</td>\n",
              "      <td>0</td>\n",
              "      <td>0</td>\n",
              "      <td>0</td>\n",
              "      <td>0</td>\n",
              "    </tr>\n",
              "    <tr>\n",
              "      <th>1</th>\n",
              "      <td>id_000779bfc</td>\n",
              "      <td>0</td>\n",
              "      <td>0</td>\n",
              "      <td>0</td>\n",
              "      <td>0</td>\n",
              "      <td>0</td>\n",
              "      <td>0</td>\n",
              "      <td>0</td>\n",
              "      <td>0</td>\n",
              "      <td>0</td>\n",
              "      <td>0</td>\n",
              "      <td>0</td>\n",
              "      <td>0</td>\n",
              "      <td>0</td>\n",
              "      <td>0</td>\n",
              "      <td>0</td>\n",
              "      <td>0</td>\n",
              "      <td>0</td>\n",
              "      <td>0</td>\n",
              "      <td>0</td>\n",
              "      <td>0</td>\n",
              "      <td>0</td>\n",
              "      <td>0</td>\n",
              "      <td>0</td>\n",
              "      <td>0</td>\n",
              "      <td>0</td>\n",
              "      <td>0</td>\n",
              "      <td>0</td>\n",
              "      <td>0</td>\n",
              "      <td>0</td>\n",
              "      <td>0</td>\n",
              "      <td>0</td>\n",
              "      <td>0</td>\n",
              "      <td>0</td>\n",
              "      <td>0</td>\n",
              "      <td>0</td>\n",
              "      <td>0</td>\n",
              "      <td>0</td>\n",
              "      <td>0</td>\n",
              "      <td>0</td>\n",
              "      <td>...</td>\n",
              "      <td>0</td>\n",
              "      <td>0</td>\n",
              "      <td>0</td>\n",
              "      <td>0</td>\n",
              "      <td>0</td>\n",
              "      <td>0</td>\n",
              "      <td>0</td>\n",
              "      <td>0</td>\n",
              "      <td>0</td>\n",
              "      <td>0</td>\n",
              "      <td>0</td>\n",
              "      <td>0</td>\n",
              "      <td>0</td>\n",
              "      <td>0</td>\n",
              "      <td>0</td>\n",
              "      <td>0</td>\n",
              "      <td>0</td>\n",
              "      <td>0</td>\n",
              "      <td>0</td>\n",
              "      <td>0</td>\n",
              "      <td>0</td>\n",
              "      <td>0</td>\n",
              "      <td>0</td>\n",
              "      <td>0</td>\n",
              "      <td>0</td>\n",
              "      <td>0</td>\n",
              "      <td>0</td>\n",
              "      <td>0</td>\n",
              "      <td>0</td>\n",
              "      <td>0</td>\n",
              "      <td>0</td>\n",
              "      <td>0</td>\n",
              "      <td>0</td>\n",
              "      <td>0</td>\n",
              "      <td>0</td>\n",
              "      <td>0</td>\n",
              "      <td>0</td>\n",
              "      <td>0</td>\n",
              "      <td>0</td>\n",
              "      <td>0</td>\n",
              "    </tr>\n",
              "    <tr>\n",
              "      <th>2</th>\n",
              "      <td>id_000a6266a</td>\n",
              "      <td>0</td>\n",
              "      <td>0</td>\n",
              "      <td>0</td>\n",
              "      <td>0</td>\n",
              "      <td>0</td>\n",
              "      <td>0</td>\n",
              "      <td>0</td>\n",
              "      <td>0</td>\n",
              "      <td>0</td>\n",
              "      <td>0</td>\n",
              "      <td>0</td>\n",
              "      <td>0</td>\n",
              "      <td>0</td>\n",
              "      <td>0</td>\n",
              "      <td>0</td>\n",
              "      <td>0</td>\n",
              "      <td>0</td>\n",
              "      <td>0</td>\n",
              "      <td>0</td>\n",
              "      <td>0</td>\n",
              "      <td>0</td>\n",
              "      <td>0</td>\n",
              "      <td>0</td>\n",
              "      <td>0</td>\n",
              "      <td>0</td>\n",
              "      <td>0</td>\n",
              "      <td>0</td>\n",
              "      <td>0</td>\n",
              "      <td>0</td>\n",
              "      <td>0</td>\n",
              "      <td>0</td>\n",
              "      <td>0</td>\n",
              "      <td>0</td>\n",
              "      <td>0</td>\n",
              "      <td>0</td>\n",
              "      <td>0</td>\n",
              "      <td>0</td>\n",
              "      <td>0</td>\n",
              "      <td>0</td>\n",
              "      <td>...</td>\n",
              "      <td>0</td>\n",
              "      <td>0</td>\n",
              "      <td>0</td>\n",
              "      <td>0</td>\n",
              "      <td>0</td>\n",
              "      <td>0</td>\n",
              "      <td>0</td>\n",
              "      <td>0</td>\n",
              "      <td>0</td>\n",
              "      <td>0</td>\n",
              "      <td>0</td>\n",
              "      <td>0</td>\n",
              "      <td>0</td>\n",
              "      <td>0</td>\n",
              "      <td>0</td>\n",
              "      <td>0</td>\n",
              "      <td>0</td>\n",
              "      <td>0</td>\n",
              "      <td>0</td>\n",
              "      <td>0</td>\n",
              "      <td>0</td>\n",
              "      <td>0</td>\n",
              "      <td>0</td>\n",
              "      <td>0</td>\n",
              "      <td>0</td>\n",
              "      <td>0</td>\n",
              "      <td>0</td>\n",
              "      <td>0</td>\n",
              "      <td>0</td>\n",
              "      <td>0</td>\n",
              "      <td>0</td>\n",
              "      <td>0</td>\n",
              "      <td>0</td>\n",
              "      <td>0</td>\n",
              "      <td>0</td>\n",
              "      <td>0</td>\n",
              "      <td>0</td>\n",
              "      <td>0</td>\n",
              "      <td>0</td>\n",
              "      <td>0</td>\n",
              "    </tr>\n",
              "    <tr>\n",
              "      <th>3</th>\n",
              "      <td>id_0015fd391</td>\n",
              "      <td>0</td>\n",
              "      <td>0</td>\n",
              "      <td>0</td>\n",
              "      <td>0</td>\n",
              "      <td>0</td>\n",
              "      <td>0</td>\n",
              "      <td>0</td>\n",
              "      <td>0</td>\n",
              "      <td>0</td>\n",
              "      <td>0</td>\n",
              "      <td>0</td>\n",
              "      <td>0</td>\n",
              "      <td>0</td>\n",
              "      <td>0</td>\n",
              "      <td>0</td>\n",
              "      <td>0</td>\n",
              "      <td>0</td>\n",
              "      <td>0</td>\n",
              "      <td>0</td>\n",
              "      <td>0</td>\n",
              "      <td>0</td>\n",
              "      <td>0</td>\n",
              "      <td>0</td>\n",
              "      <td>0</td>\n",
              "      <td>0</td>\n",
              "      <td>0</td>\n",
              "      <td>0</td>\n",
              "      <td>0</td>\n",
              "      <td>0</td>\n",
              "      <td>0</td>\n",
              "      <td>0</td>\n",
              "      <td>0</td>\n",
              "      <td>0</td>\n",
              "      <td>0</td>\n",
              "      <td>0</td>\n",
              "      <td>0</td>\n",
              "      <td>0</td>\n",
              "      <td>0</td>\n",
              "      <td>0</td>\n",
              "      <td>...</td>\n",
              "      <td>0</td>\n",
              "      <td>0</td>\n",
              "      <td>0</td>\n",
              "      <td>0</td>\n",
              "      <td>0</td>\n",
              "      <td>0</td>\n",
              "      <td>0</td>\n",
              "      <td>0</td>\n",
              "      <td>0</td>\n",
              "      <td>0</td>\n",
              "      <td>0</td>\n",
              "      <td>0</td>\n",
              "      <td>0</td>\n",
              "      <td>0</td>\n",
              "      <td>0</td>\n",
              "      <td>0</td>\n",
              "      <td>0</td>\n",
              "      <td>0</td>\n",
              "      <td>0</td>\n",
              "      <td>0</td>\n",
              "      <td>0</td>\n",
              "      <td>0</td>\n",
              "      <td>0</td>\n",
              "      <td>0</td>\n",
              "      <td>0</td>\n",
              "      <td>0</td>\n",
              "      <td>0</td>\n",
              "      <td>0</td>\n",
              "      <td>0</td>\n",
              "      <td>0</td>\n",
              "      <td>0</td>\n",
              "      <td>0</td>\n",
              "      <td>0</td>\n",
              "      <td>0</td>\n",
              "      <td>0</td>\n",
              "      <td>0</td>\n",
              "      <td>0</td>\n",
              "      <td>0</td>\n",
              "      <td>0</td>\n",
              "      <td>0</td>\n",
              "    </tr>\n",
              "    <tr>\n",
              "      <th>4</th>\n",
              "      <td>id_001626bd3</td>\n",
              "      <td>0</td>\n",
              "      <td>0</td>\n",
              "      <td>0</td>\n",
              "      <td>0</td>\n",
              "      <td>0</td>\n",
              "      <td>0</td>\n",
              "      <td>0</td>\n",
              "      <td>0</td>\n",
              "      <td>0</td>\n",
              "      <td>0</td>\n",
              "      <td>0</td>\n",
              "      <td>0</td>\n",
              "      <td>0</td>\n",
              "      <td>0</td>\n",
              "      <td>0</td>\n",
              "      <td>0</td>\n",
              "      <td>0</td>\n",
              "      <td>0</td>\n",
              "      <td>0</td>\n",
              "      <td>0</td>\n",
              "      <td>0</td>\n",
              "      <td>0</td>\n",
              "      <td>0</td>\n",
              "      <td>0</td>\n",
              "      <td>0</td>\n",
              "      <td>0</td>\n",
              "      <td>0</td>\n",
              "      <td>0</td>\n",
              "      <td>0</td>\n",
              "      <td>0</td>\n",
              "      <td>0</td>\n",
              "      <td>0</td>\n",
              "      <td>0</td>\n",
              "      <td>0</td>\n",
              "      <td>0</td>\n",
              "      <td>0</td>\n",
              "      <td>0</td>\n",
              "      <td>0</td>\n",
              "      <td>0</td>\n",
              "      <td>...</td>\n",
              "      <td>0</td>\n",
              "      <td>0</td>\n",
              "      <td>0</td>\n",
              "      <td>0</td>\n",
              "      <td>0</td>\n",
              "      <td>0</td>\n",
              "      <td>0</td>\n",
              "      <td>0</td>\n",
              "      <td>0</td>\n",
              "      <td>0</td>\n",
              "      <td>0</td>\n",
              "      <td>0</td>\n",
              "      <td>0</td>\n",
              "      <td>0</td>\n",
              "      <td>0</td>\n",
              "      <td>0</td>\n",
              "      <td>0</td>\n",
              "      <td>0</td>\n",
              "      <td>0</td>\n",
              "      <td>0</td>\n",
              "      <td>0</td>\n",
              "      <td>0</td>\n",
              "      <td>0</td>\n",
              "      <td>0</td>\n",
              "      <td>0</td>\n",
              "      <td>0</td>\n",
              "      <td>0</td>\n",
              "      <td>0</td>\n",
              "      <td>0</td>\n",
              "      <td>0</td>\n",
              "      <td>0</td>\n",
              "      <td>0</td>\n",
              "      <td>0</td>\n",
              "      <td>0</td>\n",
              "      <td>0</td>\n",
              "      <td>0</td>\n",
              "      <td>0</td>\n",
              "      <td>0</td>\n",
              "      <td>0</td>\n",
              "      <td>0</td>\n",
              "    </tr>\n",
              "  </tbody>\n",
              "</table>\n",
              "<p>5 rows × 207 columns</p>\n",
              "</div>"
            ],
            "text/plain": [
              "             id  ...  wnt_inhibitor\n",
              "0  id_000644bb2  ...              0\n",
              "1  id_000779bfc  ...              0\n",
              "2  id_000a6266a  ...              0\n",
              "3  id_0015fd391  ...              0\n",
              "4  id_001626bd3  ...              0\n",
              "\n",
              "[5 rows x 207 columns]"
            ]
          },
          "metadata": {
            "tags": []
          },
          "execution_count": 5
        }
      ]
    },
    {
      "cell_type": "code",
      "metadata": {
        "colab": {
          "base_uri": "https://localhost:8080/"
        },
        "id": "nNMAc6U5QRzd",
        "outputId": "5197ef3f-3c54-4002-bc94-a1a244899d6f"
      },
      "source": [
        "dados_resultados.shape"
      ],
      "execution_count": null,
      "outputs": [
        {
          "output_type": "execute_result",
          "data": {
            "text/plain": [
              "(23814, 207)"
            ]
          },
          "metadata": {
            "tags": []
          },
          "execution_count": 6
        }
      ]
    },
    {
      "cell_type": "markdown",
      "metadata": {
        "id": "iTwfOov3QWH8"
      },
      "source": [
        "## 2.3 Construindo o Dataset"
      ]
    },
    {
      "cell_type": "markdown",
      "metadata": {
        "id": "73K08oOpQbXU"
      },
      "source": [
        "A Rifampicina é utilizada como tratamento como tuberculose pois ela iníbe o RNA polimerase, impedindo que a bactéria se replique. Sendo assim, olharemos somente para a coluna \"rna_polymerase_inhibitor\" dos dados de resultado. Utilizando a função *join()* do pandas, juntaremos as tabelas seguindo a coluna \"id\"."
      ]
    },
    {
      "cell_type": "code",
      "metadata": {
        "colab": {
          "base_uri": "https://localhost:8080/",
          "height": 256
        },
        "id": "UmCMDWDcTb0B",
        "outputId": "31897211-625a-4a27-8e38-cc27a2af25f3"
      },
      "source": [
        "data = dados_teste.join(dados_resultados['rna_polymerase_inhibitor'])\n",
        "data.head()"
      ],
      "execution_count": null,
      "outputs": [
        {
          "output_type": "execute_result",
          "data": {
            "text/html": [
              "<div>\n",
              "<style scoped>\n",
              "    .dataframe tbody tr th:only-of-type {\n",
              "        vertical-align: middle;\n",
              "    }\n",
              "\n",
              "    .dataframe tbody tr th {\n",
              "        vertical-align: top;\n",
              "    }\n",
              "\n",
              "    .dataframe thead th {\n",
              "        text-align: right;\n",
              "    }\n",
              "</style>\n",
              "<table border=\"1\" class=\"dataframe\">\n",
              "  <thead>\n",
              "    <tr style=\"text-align: right;\">\n",
              "      <th></th>\n",
              "      <th>id</th>\n",
              "      <th>tratamento</th>\n",
              "      <th>tempo</th>\n",
              "      <th>dose</th>\n",
              "      <th>droga</th>\n",
              "      <th>g_0</th>\n",
              "      <th>g_1</th>\n",
              "      <th>g_2</th>\n",
              "      <th>g_3</th>\n",
              "      <th>g_4</th>\n",
              "      <th>g_5</th>\n",
              "      <th>g_6</th>\n",
              "      <th>g_7</th>\n",
              "      <th>g_8</th>\n",
              "      <th>g_9</th>\n",
              "      <th>g_10</th>\n",
              "      <th>g_11</th>\n",
              "      <th>g_12</th>\n",
              "      <th>g_13</th>\n",
              "      <th>g_14</th>\n",
              "      <th>g_15</th>\n",
              "      <th>g_16</th>\n",
              "      <th>g_17</th>\n",
              "      <th>g_18</th>\n",
              "      <th>g_19</th>\n",
              "      <th>g_20</th>\n",
              "      <th>g_21</th>\n",
              "      <th>g_22</th>\n",
              "      <th>g_23</th>\n",
              "      <th>g_24</th>\n",
              "      <th>g_25</th>\n",
              "      <th>g_26</th>\n",
              "      <th>g_27</th>\n",
              "      <th>g_28</th>\n",
              "      <th>g_29</th>\n",
              "      <th>g_30</th>\n",
              "      <th>g_31</th>\n",
              "      <th>g_32</th>\n",
              "      <th>g_33</th>\n",
              "      <th>g_34</th>\n",
              "      <th>...</th>\n",
              "      <th>c_61</th>\n",
              "      <th>c_62</th>\n",
              "      <th>c_63</th>\n",
              "      <th>c_64</th>\n",
              "      <th>c_65</th>\n",
              "      <th>c_66</th>\n",
              "      <th>c_67</th>\n",
              "      <th>c_68</th>\n",
              "      <th>c_69</th>\n",
              "      <th>c_70</th>\n",
              "      <th>c_71</th>\n",
              "      <th>c_72</th>\n",
              "      <th>c_73</th>\n",
              "      <th>c_74</th>\n",
              "      <th>c_75</th>\n",
              "      <th>c_76</th>\n",
              "      <th>c_77</th>\n",
              "      <th>c_78</th>\n",
              "      <th>c_79</th>\n",
              "      <th>c_80</th>\n",
              "      <th>c_81</th>\n",
              "      <th>c_82</th>\n",
              "      <th>c_83</th>\n",
              "      <th>c_84</th>\n",
              "      <th>c_85</th>\n",
              "      <th>c_86</th>\n",
              "      <th>c_87</th>\n",
              "      <th>c_88</th>\n",
              "      <th>c_89</th>\n",
              "      <th>c_90</th>\n",
              "      <th>c_91</th>\n",
              "      <th>c_92</th>\n",
              "      <th>c_93</th>\n",
              "      <th>c_94</th>\n",
              "      <th>c_95</th>\n",
              "      <th>c_96</th>\n",
              "      <th>c_97</th>\n",
              "      <th>c_98</th>\n",
              "      <th>c_99</th>\n",
              "      <th>rna_polymerase_inhibitor</th>\n",
              "    </tr>\n",
              "  </thead>\n",
              "  <tbody>\n",
              "    <tr>\n",
              "      <th>0</th>\n",
              "      <td>id_000644bb2</td>\n",
              "      <td>com_droga</td>\n",
              "      <td>24</td>\n",
              "      <td>D1</td>\n",
              "      <td>b68db1d53</td>\n",
              "      <td>1.0620</td>\n",
              "      <td>0.5577</td>\n",
              "      <td>-0.2479</td>\n",
              "      <td>-0.6208</td>\n",
              "      <td>-0.1944</td>\n",
              "      <td>-1.0120</td>\n",
              "      <td>-1.0220</td>\n",
              "      <td>-0.0326</td>\n",
              "      <td>0.5548</td>\n",
              "      <td>-0.0921</td>\n",
              "      <td>1.1830</td>\n",
              "      <td>0.1530</td>\n",
              "      <td>0.5574</td>\n",
              "      <td>-0.4015</td>\n",
              "      <td>0.1789</td>\n",
              "      <td>-0.6528</td>\n",
              "      <td>-0.7969</td>\n",
              "      <td>0.6342</td>\n",
              "      <td>0.1778</td>\n",
              "      <td>-0.3694</td>\n",
              "      <td>-0.5688</td>\n",
              "      <td>-1.1360</td>\n",
              "      <td>-1.1880</td>\n",
              "      <td>0.6940</td>\n",
              "      <td>0.4393</td>\n",
              "      <td>0.2664</td>\n",
              "      <td>0.1907</td>\n",
              "      <td>0.1628</td>\n",
              "      <td>-0.2853</td>\n",
              "      <td>0.5819</td>\n",
              "      <td>0.2934</td>\n",
              "      <td>-0.5584</td>\n",
              "      <td>-0.0916</td>\n",
              "      <td>-0.3010</td>\n",
              "      <td>-0.1537</td>\n",
              "      <td>...</td>\n",
              "      <td>0.4965</td>\n",
              "      <td>0.3680</td>\n",
              "      <td>0.8427</td>\n",
              "      <td>0.1042</td>\n",
              "      <td>0.1403</td>\n",
              "      <td>0.1758</td>\n",
              "      <td>1.2570</td>\n",
              "      <td>-0.5979</td>\n",
              "      <td>1.2250</td>\n",
              "      <td>-0.0553</td>\n",
              "      <td>0.7351</td>\n",
              "      <td>0.5810</td>\n",
              "      <td>0.9590</td>\n",
              "      <td>0.2427</td>\n",
              "      <td>0.0495</td>\n",
              "      <td>0.4141</td>\n",
              "      <td>0.8432</td>\n",
              "      <td>0.6162</td>\n",
              "      <td>-0.7318</td>\n",
              "      <td>1.2120</td>\n",
              "      <td>0.6362</td>\n",
              "      <td>-0.4427</td>\n",
              "      <td>0.1288</td>\n",
              "      <td>1.4840</td>\n",
              "      <td>0.1799</td>\n",
              "      <td>0.5367</td>\n",
              "      <td>-0.1111</td>\n",
              "      <td>-1.0120</td>\n",
              "      <td>0.6685</td>\n",
              "      <td>0.2862</td>\n",
              "      <td>0.2584</td>\n",
              "      <td>0.8076</td>\n",
              "      <td>0.5523</td>\n",
              "      <td>-0.1912</td>\n",
              "      <td>0.6584</td>\n",
              "      <td>-0.3981</td>\n",
              "      <td>0.2139</td>\n",
              "      <td>0.3801</td>\n",
              "      <td>0.4176</td>\n",
              "      <td>0</td>\n",
              "    </tr>\n",
              "    <tr>\n",
              "      <th>1</th>\n",
              "      <td>id_000779bfc</td>\n",
              "      <td>com_droga</td>\n",
              "      <td>72</td>\n",
              "      <td>D1</td>\n",
              "      <td>df89a8e5a</td>\n",
              "      <td>0.0743</td>\n",
              "      <td>0.4087</td>\n",
              "      <td>0.2991</td>\n",
              "      <td>0.0604</td>\n",
              "      <td>1.0190</td>\n",
              "      <td>0.5207</td>\n",
              "      <td>0.2341</td>\n",
              "      <td>0.3372</td>\n",
              "      <td>-0.4047</td>\n",
              "      <td>0.8507</td>\n",
              "      <td>-1.1520</td>\n",
              "      <td>-0.4201</td>\n",
              "      <td>-0.0958</td>\n",
              "      <td>0.4590</td>\n",
              "      <td>0.0803</td>\n",
              "      <td>0.2250</td>\n",
              "      <td>0.5293</td>\n",
              "      <td>0.2839</td>\n",
              "      <td>-0.3494</td>\n",
              "      <td>0.2883</td>\n",
              "      <td>0.9449</td>\n",
              "      <td>-0.1646</td>\n",
              "      <td>-0.2657</td>\n",
              "      <td>-0.3372</td>\n",
              "      <td>0.3135</td>\n",
              "      <td>-0.4316</td>\n",
              "      <td>0.4773</td>\n",
              "      <td>0.2075</td>\n",
              "      <td>-0.4216</td>\n",
              "      <td>-0.1161</td>\n",
              "      <td>-0.0499</td>\n",
              "      <td>-0.2627</td>\n",
              "      <td>0.9959</td>\n",
              "      <td>-0.2483</td>\n",
              "      <td>0.2655</td>\n",
              "      <td>...</td>\n",
              "      <td>0.0319</td>\n",
              "      <td>0.3905</td>\n",
              "      <td>0.7099</td>\n",
              "      <td>0.2912</td>\n",
              "      <td>0.4151</td>\n",
              "      <td>-0.2840</td>\n",
              "      <td>-0.3104</td>\n",
              "      <td>-0.6373</td>\n",
              "      <td>0.2887</td>\n",
              "      <td>-0.0765</td>\n",
              "      <td>0.2539</td>\n",
              "      <td>0.4443</td>\n",
              "      <td>0.5932</td>\n",
              "      <td>0.2031</td>\n",
              "      <td>0.7639</td>\n",
              "      <td>0.5499</td>\n",
              "      <td>-0.3322</td>\n",
              "      <td>-0.0977</td>\n",
              "      <td>0.4329</td>\n",
              "      <td>-0.2782</td>\n",
              "      <td>0.7827</td>\n",
              "      <td>0.5934</td>\n",
              "      <td>0.3402</td>\n",
              "      <td>0.1499</td>\n",
              "      <td>0.4420</td>\n",
              "      <td>0.9366</td>\n",
              "      <td>0.8193</td>\n",
              "      <td>-0.4236</td>\n",
              "      <td>0.3192</td>\n",
              "      <td>-0.4265</td>\n",
              "      <td>0.7543</td>\n",
              "      <td>0.4708</td>\n",
              "      <td>0.0230</td>\n",
              "      <td>0.2957</td>\n",
              "      <td>0.4899</td>\n",
              "      <td>0.1522</td>\n",
              "      <td>0.1241</td>\n",
              "      <td>0.6077</td>\n",
              "      <td>0.7371</td>\n",
              "      <td>0</td>\n",
              "    </tr>\n",
              "    <tr>\n",
              "      <th>2</th>\n",
              "      <td>id_000a6266a</td>\n",
              "      <td>com_droga</td>\n",
              "      <td>48</td>\n",
              "      <td>D1</td>\n",
              "      <td>18bb41b2c</td>\n",
              "      <td>0.6280</td>\n",
              "      <td>0.5817</td>\n",
              "      <td>1.5540</td>\n",
              "      <td>-0.0764</td>\n",
              "      <td>-0.0323</td>\n",
              "      <td>1.2390</td>\n",
              "      <td>0.1715</td>\n",
              "      <td>0.2155</td>\n",
              "      <td>0.0065</td>\n",
              "      <td>1.2300</td>\n",
              "      <td>-0.4797</td>\n",
              "      <td>-0.5631</td>\n",
              "      <td>-0.0366</td>\n",
              "      <td>-1.8300</td>\n",
              "      <td>0.6057</td>\n",
              "      <td>-0.3278</td>\n",
              "      <td>0.6042</td>\n",
              "      <td>-0.3075</td>\n",
              "      <td>-0.1147</td>\n",
              "      <td>-0.0570</td>\n",
              "      <td>-0.0799</td>\n",
              "      <td>-0.8181</td>\n",
              "      <td>-1.5320</td>\n",
              "      <td>0.2307</td>\n",
              "      <td>0.4901</td>\n",
              "      <td>0.4780</td>\n",
              "      <td>-1.3970</td>\n",
              "      <td>4.6240</td>\n",
              "      <td>-0.0437</td>\n",
              "      <td>1.2870</td>\n",
              "      <td>-1.8530</td>\n",
              "      <td>0.6069</td>\n",
              "      <td>0.4290</td>\n",
              "      <td>0.1783</td>\n",
              "      <td>0.0018</td>\n",
              "      <td>...</td>\n",
              "      <td>-0.7576</td>\n",
              "      <td>-0.0444</td>\n",
              "      <td>0.1894</td>\n",
              "      <td>-0.0014</td>\n",
              "      <td>-2.3640</td>\n",
              "      <td>-0.4682</td>\n",
              "      <td>0.1210</td>\n",
              "      <td>-0.5177</td>\n",
              "      <td>-0.0604</td>\n",
              "      <td>0.1682</td>\n",
              "      <td>-0.4436</td>\n",
              "      <td>0.4963</td>\n",
              "      <td>0.1363</td>\n",
              "      <td>0.3335</td>\n",
              "      <td>0.9760</td>\n",
              "      <td>-0.0427</td>\n",
              "      <td>-0.1235</td>\n",
              "      <td>0.0959</td>\n",
              "      <td>0.0690</td>\n",
              "      <td>-0.9416</td>\n",
              "      <td>-0.7548</td>\n",
              "      <td>-0.1109</td>\n",
              "      <td>-0.6272</td>\n",
              "      <td>0.3019</td>\n",
              "      <td>0.1172</td>\n",
              "      <td>0.1093</td>\n",
              "      <td>-0.3113</td>\n",
              "      <td>0.3019</td>\n",
              "      <td>-0.0873</td>\n",
              "      <td>-0.7250</td>\n",
              "      <td>-0.6297</td>\n",
              "      <td>0.6103</td>\n",
              "      <td>0.0223</td>\n",
              "      <td>-1.3240</td>\n",
              "      <td>-0.3174</td>\n",
              "      <td>-0.6417</td>\n",
              "      <td>-0.2187</td>\n",
              "      <td>-1.4080</td>\n",
              "      <td>0.6931</td>\n",
              "      <td>0</td>\n",
              "    </tr>\n",
              "    <tr>\n",
              "      <th>3</th>\n",
              "      <td>id_0015fd391</td>\n",
              "      <td>com_droga</td>\n",
              "      <td>48</td>\n",
              "      <td>D1</td>\n",
              "      <td>8c7f86626</td>\n",
              "      <td>-0.5138</td>\n",
              "      <td>-0.2491</td>\n",
              "      <td>-0.2656</td>\n",
              "      <td>0.5288</td>\n",
              "      <td>4.0620</td>\n",
              "      <td>-0.8095</td>\n",
              "      <td>-1.9590</td>\n",
              "      <td>0.1792</td>\n",
              "      <td>-0.1321</td>\n",
              "      <td>-1.0600</td>\n",
              "      <td>-0.8269</td>\n",
              "      <td>-0.3584</td>\n",
              "      <td>-0.8511</td>\n",
              "      <td>-0.5844</td>\n",
              "      <td>-2.5690</td>\n",
              "      <td>0.8183</td>\n",
              "      <td>-0.0532</td>\n",
              "      <td>-0.8554</td>\n",
              "      <td>0.1160</td>\n",
              "      <td>-2.3520</td>\n",
              "      <td>2.1200</td>\n",
              "      <td>-1.1580</td>\n",
              "      <td>-0.7191</td>\n",
              "      <td>-0.8004</td>\n",
              "      <td>-1.4670</td>\n",
              "      <td>-0.0107</td>\n",
              "      <td>-0.8995</td>\n",
              "      <td>0.2406</td>\n",
              "      <td>-0.2479</td>\n",
              "      <td>-1.0890</td>\n",
              "      <td>-0.7575</td>\n",
              "      <td>0.0881</td>\n",
              "      <td>-2.7370</td>\n",
              "      <td>0.8745</td>\n",
              "      <td>0.5787</td>\n",
              "      <td>...</td>\n",
              "      <td>-0.3752</td>\n",
              "      <td>-2.3820</td>\n",
              "      <td>-3.7350</td>\n",
              "      <td>-2.9740</td>\n",
              "      <td>-1.4930</td>\n",
              "      <td>-1.6600</td>\n",
              "      <td>-3.1660</td>\n",
              "      <td>0.2816</td>\n",
              "      <td>-0.2990</td>\n",
              "      <td>-1.1870</td>\n",
              "      <td>-0.5044</td>\n",
              "      <td>-1.7750</td>\n",
              "      <td>-1.6120</td>\n",
              "      <td>-0.9215</td>\n",
              "      <td>-1.0810</td>\n",
              "      <td>-3.0520</td>\n",
              "      <td>-3.4470</td>\n",
              "      <td>-2.7740</td>\n",
              "      <td>-1.8460</td>\n",
              "      <td>-0.5568</td>\n",
              "      <td>-3.3960</td>\n",
              "      <td>-2.9510</td>\n",
              "      <td>-1.1550</td>\n",
              "      <td>-3.2620</td>\n",
              "      <td>-1.5390</td>\n",
              "      <td>-2.4600</td>\n",
              "      <td>-0.9417</td>\n",
              "      <td>-1.5550</td>\n",
              "      <td>0.2431</td>\n",
              "      <td>-2.0990</td>\n",
              "      <td>-0.6441</td>\n",
              "      <td>-5.6300</td>\n",
              "      <td>-1.3780</td>\n",
              "      <td>-0.8632</td>\n",
              "      <td>-1.2880</td>\n",
              "      <td>-1.6210</td>\n",
              "      <td>-0.8784</td>\n",
              "      <td>-0.3876</td>\n",
              "      <td>-0.8154</td>\n",
              "      <td>0</td>\n",
              "    </tr>\n",
              "    <tr>\n",
              "      <th>4</th>\n",
              "      <td>id_001626bd3</td>\n",
              "      <td>com_droga</td>\n",
              "      <td>72</td>\n",
              "      <td>D2</td>\n",
              "      <td>7cbed3131</td>\n",
              "      <td>-0.3254</td>\n",
              "      <td>-0.4009</td>\n",
              "      <td>0.9700</td>\n",
              "      <td>0.6919</td>\n",
              "      <td>1.4180</td>\n",
              "      <td>-0.8244</td>\n",
              "      <td>-0.2800</td>\n",
              "      <td>-0.1498</td>\n",
              "      <td>-0.8789</td>\n",
              "      <td>0.8630</td>\n",
              "      <td>-0.2219</td>\n",
              "      <td>-0.5121</td>\n",
              "      <td>-0.9577</td>\n",
              "      <td>1.1750</td>\n",
              "      <td>0.2042</td>\n",
              "      <td>0.1970</td>\n",
              "      <td>0.1244</td>\n",
              "      <td>-1.7090</td>\n",
              "      <td>-0.3543</td>\n",
              "      <td>-0.5160</td>\n",
              "      <td>-0.3330</td>\n",
              "      <td>-0.2685</td>\n",
              "      <td>0.7649</td>\n",
              "      <td>0.2057</td>\n",
              "      <td>1.3720</td>\n",
              "      <td>0.6835</td>\n",
              "      <td>0.8056</td>\n",
              "      <td>-0.3754</td>\n",
              "      <td>-1.2090</td>\n",
              "      <td>0.2965</td>\n",
              "      <td>-0.0712</td>\n",
              "      <td>0.6389</td>\n",
              "      <td>0.6674</td>\n",
              "      <td>-0.0783</td>\n",
              "      <td>1.1740</td>\n",
              "      <td>...</td>\n",
              "      <td>0.3215</td>\n",
              "      <td>0.1535</td>\n",
              "      <td>-0.4640</td>\n",
              "      <td>-0.5943</td>\n",
              "      <td>0.3973</td>\n",
              "      <td>0.1500</td>\n",
              "      <td>0.5178</td>\n",
              "      <td>0.5159</td>\n",
              "      <td>0.6091</td>\n",
              "      <td>0.1813</td>\n",
              "      <td>-0.4249</td>\n",
              "      <td>0.7832</td>\n",
              "      <td>0.6529</td>\n",
              "      <td>0.5648</td>\n",
              "      <td>0.4817</td>\n",
              "      <td>0.0587</td>\n",
              "      <td>0.5303</td>\n",
              "      <td>0.6376</td>\n",
              "      <td>-0.3966</td>\n",
              "      <td>-1.4950</td>\n",
              "      <td>-0.9625</td>\n",
              "      <td>-0.0541</td>\n",
              "      <td>0.6273</td>\n",
              "      <td>0.4563</td>\n",
              "      <td>0.0698</td>\n",
              "      <td>0.8134</td>\n",
              "      <td>0.1924</td>\n",
              "      <td>0.6054</td>\n",
              "      <td>-0.1824</td>\n",
              "      <td>0.0042</td>\n",
              "      <td>0.0048</td>\n",
              "      <td>0.6670</td>\n",
              "      <td>1.0690</td>\n",
              "      <td>0.5523</td>\n",
              "      <td>-0.3031</td>\n",
              "      <td>0.1094</td>\n",
              "      <td>0.2885</td>\n",
              "      <td>-0.3786</td>\n",
              "      <td>0.7125</td>\n",
              "      <td>0</td>\n",
              "    </tr>\n",
              "  </tbody>\n",
              "</table>\n",
              "<p>5 rows × 878 columns</p>\n",
              "</div>"
            ],
            "text/plain": [
              "             id tratamento  tempo  ...    c_98    c_99  rna_polymerase_inhibitor\n",
              "0  id_000644bb2  com_droga     24  ...  0.3801  0.4176                         0\n",
              "1  id_000779bfc  com_droga     72  ...  0.6077  0.7371                         0\n",
              "2  id_000a6266a  com_droga     48  ... -1.4080  0.6931                         0\n",
              "3  id_0015fd391  com_droga     48  ... -0.3876 -0.8154                         0\n",
              "4  id_001626bd3  com_droga     72  ... -0.3786  0.7125                         0\n",
              "\n",
              "[5 rows x 878 columns]"
            ]
          },
          "metadata": {
            "tags": []
          },
          "execution_count": 7
        }
      ]
    },
    {
      "cell_type": "code",
      "metadata": {
        "colab": {
          "base_uri": "https://localhost:8080/"
        },
        "id": "wnSfAsHMUpQe",
        "outputId": "5ed33010-ce69-444e-e31d-24eb5049aaa5"
      },
      "source": [
        "data.shape"
      ],
      "execution_count": null,
      "outputs": [
        {
          "output_type": "execute_result",
          "data": {
            "text/plain": [
              "(23814, 878)"
            ]
          },
          "metadata": {
            "tags": []
          },
          "execution_count": 8
        }
      ]
    },
    {
      "cell_type": "markdown",
      "metadata": {
        "id": "ImMnFol9xLA2"
      },
      "source": [
        "## 2.4 Informações adicionais"
      ]
    },
    {
      "cell_type": "markdown",
      "metadata": {
        "id": "u0F4yH1s3XAc"
      },
      "source": [
        "Podemos ver que temos um grande número de colunas e se fomos um pouco mais a fundo, podemos ver que existem 772 colunas com nome 'g-n' e 100 colunas com 'c-n', isso porque as colunas 'g-n' representam cada gene presente na célula e o tipo de célula que a droga foi testada (saudável, cancerígena, célula óssea, célula tronco etc), respectivamente. Sendo assim, podemos ver que somente as colunas tratamento, tempo, dose e droga são categóricas, enquanto as demais são colunas númericas contínuas (Float).\n",
        "\n",
        "Agora que ja vimos como os dados organizados, vamos a uma breve legenda para que descrevam as colunas:\n",
        "*   id: Código de identificação do teste;\n",
        "*   tratamento: Teste foi realizado com ou sem droga;\n",
        "*   tempo: Tempo de observação do teste em horas;\n",
        "*   dose: Quantidade da droga utilizada;\n",
        "*   droga: Droga utilizada no tratamento;\n",
        "*   g-n's: Quantidade do gene n produzido com o estimulo da droga;\n",
        "*   c-n's: Resposta da célula n à droga.\n",
        "*   rna_polymerase_inhibitor: Booleano de drogas conseguem inibir o RNA polimerase.\n",
        "\n",
        "Vamos agora observar o tipo de dados dessas categorias, excluindo as \"g-n's\"  e as \"c-n's\" que são contínuas, e a quantidade de valores distintos em cada.\n"
      ]
    },
    {
      "cell_type": "code",
      "metadata": {
        "colab": {
          "base_uri": "https://localhost:8080/"
        },
        "id": "hW7WS5yFqFhL",
        "outputId": "07ada686-b87c-48bd-ccc4-d21aaf106d2e"
      },
      "source": [
        "data[['id','tratamento', 'tempo', 'dose', 'droga', 'rna_polymerase_inhibitor']].dtypes"
      ],
      "execution_count": null,
      "outputs": [
        {
          "output_type": "execute_result",
          "data": {
            "text/plain": [
              "id                          object\n",
              "tratamento                  object\n",
              "tempo                        int64\n",
              "dose                        object\n",
              "droga                       object\n",
              "rna_polymerase_inhibitor     int64\n",
              "dtype: object"
            ]
          },
          "metadata": {
            "tags": []
          },
          "execution_count": 9
        }
      ]
    },
    {
      "cell_type": "code",
      "metadata": {
        "colab": {
          "base_uri": "https://localhost:8080/"
        },
        "id": "6uZckf_73ePL",
        "outputId": "c8aa3a30-ebb0-4515-abce-4c7d94ad5834"
      },
      "source": [
        "for i in ['tratamento', 'tempo', 'dose', 'droga', 'rna_polymerase_inhibitor']:\n",
        "  print('A categoria \"{}\" possui {} valores distintos'.format(i, len(data[i].unique())))"
      ],
      "execution_count": null,
      "outputs": [
        {
          "output_type": "stream",
          "text": [
            "A categoria \"tratamento\" possui 2 valores distintos\n",
            "A categoria \"tempo\" possui 3 valores distintos\n",
            "A categoria \"dose\" possui 2 valores distintos\n",
            "A categoria \"droga\" possui 3289 valores distintos\n",
            "A categoria \"rna_polymerase_inhibitor\" possui 2 valores distintos\n"
          ],
          "name": "stdout"
        }
      ]
    },
    {
      "cell_type": "markdown",
      "metadata": {
        "id": "K-qYk5HIp61D"
      },
      "source": [
        "Como podemos ver, as categorias \"tratamento\", \"tempo\" e \"dose\" são colunas de baixa cardinalidade, ou seja, poucos valores distintos, enquanto a coluna \"droga\" é de alta cardinalidade. Sendo assim, podemos ver como estão distribuidos nessas categorias. Para isso, usaremos a função *value_counts()*, com o parâmetro *normalize* como True, para olhar a porcentagem e como a coluna \"droga\" possui muitas categorias, olharemos somente as 10 mais presentes. "
      ]
    },
    {
      "cell_type": "code",
      "metadata": {
        "colab": {
          "base_uri": "https://localhost:8080/"
        },
        "id": "sW6_gp3LpZbA",
        "outputId": "bede7cb9-5ea8-4689-c785-de9661f25368"
      },
      "source": [
        "data['tratamento'].value_counts(normalize = True)"
      ],
      "execution_count": null,
      "outputs": [
        {
          "output_type": "execute_result",
          "data": {
            "text/plain": [
              "com_droga       0.921643\n",
              "com_controle    0.078357\n",
              "Name: tratamento, dtype: float64"
            ]
          },
          "metadata": {
            "tags": []
          },
          "execution_count": 11
        }
      ]
    },
    {
      "cell_type": "code",
      "metadata": {
        "colab": {
          "base_uri": "https://localhost:8080/"
        },
        "id": "N12q0ENku7qA",
        "outputId": "f8385cb2-df56-4f31-d201-3524d6b4508d"
      },
      "source": [
        "data['tempo'].value_counts(normalize = True)"
      ],
      "execution_count": null,
      "outputs": [
        {
          "output_type": "execute_result",
          "data": {
            "text/plain": [
              "48    0.346435\n",
              "72    0.327202\n",
              "24    0.326363\n",
              "Name: tempo, dtype: float64"
            ]
          },
          "metadata": {
            "tags": []
          },
          "execution_count": 12
        }
      ]
    },
    {
      "cell_type": "code",
      "metadata": {
        "colab": {
          "base_uri": "https://localhost:8080/"
        },
        "id": "uWjC5H71u7ZS",
        "outputId": "c7070577-68db-44f1-f9e1-ba805410d740"
      },
      "source": [
        "data['dose'].value_counts(normalize = True)"
      ],
      "execution_count": null,
      "outputs": [
        {
          "output_type": "execute_result",
          "data": {
            "text/plain": [
              "D1    0.510078\n",
              "D2    0.489922\n",
              "Name: dose, dtype: float64"
            ]
          },
          "metadata": {
            "tags": []
          },
          "execution_count": 13
        }
      ]
    },
    {
      "cell_type": "code",
      "metadata": {
        "colab": {
          "base_uri": "https://localhost:8080/"
        },
        "id": "bz3w1C4TVUZE",
        "outputId": "96b96380-55bd-4bf6-ca79-f5553ac03a65"
      },
      "source": [
        "data['rna_polymerase_inhibitor'].value_counts(normalize = True)"
      ],
      "execution_count": null,
      "outputs": [
        {
          "output_type": "execute_result",
          "data": {
            "text/plain": [
              "0    0.99895\n",
              "1    0.00105\n",
              "Name: rna_polymerase_inhibitor, dtype: float64"
            ]
          },
          "metadata": {
            "tags": []
          },
          "execution_count": 14
        }
      ]
    },
    {
      "cell_type": "code",
      "metadata": {
        "colab": {
          "base_uri": "https://localhost:8080/"
        },
        "id": "l0AaesvRv7Y1",
        "outputId": "2fa5c114-f88b-4109-b76b-20a8d61ec910"
      },
      "source": [
        "data['droga'].value_counts(normalize = True).head(10)"
      ],
      "execution_count": null,
      "outputs": [
        {
          "output_type": "execute_result",
          "data": {
            "text/plain": [
              "cacb2b860    0.078357\n",
              "87d714366    0.030150\n",
              "9f80f3f77    0.010330\n",
              "8b87a7a83    0.008524\n",
              "5628cb3ee    0.008482\n",
              "d08af5d4b    0.008230\n",
              "292ab2c28    0.008146\n",
              "d50f18348    0.007811\n",
              "d1b47f29d    0.007475\n",
              "67c879e79    0.000798\n",
              "Name: droga, dtype: float64"
            ]
          },
          "metadata": {
            "tags": []
          },
          "execution_count": 15
        }
      ]
    },
    {
      "cell_type": "markdown",
      "metadata": {
        "id": "_HYvom1823a4"
      },
      "source": [
        "Um ponto a ser observado é o fato dass colunas \"tempo\" e \"dose\" estão bem distribuidas, enquanto as categorias \"tratamento\" e \"rna_polymerase_inhibitor\" não estão. Isso se da ao fato de que testes que não são aplicados nenhuma droga são chamados de controle e um mesmo teste de controle pode ser usado para vários outros testes e que é normal somente algumas drogas possuírem uma característica específica. Outra observação é que a droga 'cacb2b860' apresenta exatamente a mesma proporção dos testes que foram realizados como controle. Vamos ver se é pura coincidência ou se realmente esse composto foi a base de controle"
      ]
    },
    {
      "cell_type": "code",
      "metadata": {
        "colab": {
          "base_uri": "https://localhost:8080/"
        },
        "id": "8uiX8H94yhVb",
        "outputId": "52e3abba-077a-4ff5-d962-87a07c114bdc"
      },
      "source": [
        "data.query('tratamento == \"com_controle\"')['droga'].value_counts()"
      ],
      "execution_count": null,
      "outputs": [
        {
          "output_type": "execute_result",
          "data": {
            "text/plain": [
              "cacb2b860    1866\n",
              "Name: droga, dtype: int64"
            ]
          },
          "metadata": {
            "tags": []
          },
          "execution_count": 16
        }
      ]
    },
    {
      "cell_type": "markdown",
      "metadata": {
        "id": "YeEQjD_YzBlh"
      },
      "source": [
        "Como podemos ver, realmente esse composto é o que foi utilizado para ser como controle"
      ]
    },
    {
      "cell_type": "markdown",
      "metadata": {
        "id": "L9i3FDMr5ZND"
      },
      "source": [
        "Agora que já entendemos melhor esses dados mais gerais, vamos olhar as colunas g-n's e c-n's. Como são muitas colunas, faremos de uma maneira diferente. Ao invés de olharmos individualmente, iremos olhar como elas se comportam em grupo, analizando sua média, seu desvio padrão, valores mínimos e máximos. Para isso, usaremos a função *describe()* do pandas e as bibliotecas **Matplotlib.pyplot** e **Seaborn** para a vizualização desses dados atraves de gráficos."
      ]
    },
    {
      "cell_type": "code",
      "metadata": {
        "colab": {
          "base_uri": "https://localhost:8080/",
          "height": 206
        },
        "id": "Ox4eZsW88Lcj",
        "outputId": "6b252b6b-4e1b-4d81-d7d6-39f98a2286d5"
      },
      "source": [
        "import matplotlib.pyplot as plt\n",
        "import seaborn as sns\n",
        "\n",
        "g_describe = data.loc[:, 'g_0': 'g_771'].describe().T\n",
        "g_describe.head()"
      ],
      "execution_count": null,
      "outputs": [
        {
          "output_type": "execute_result",
          "data": {
            "text/html": [
              "<div>\n",
              "<style scoped>\n",
              "    .dataframe tbody tr th:only-of-type {\n",
              "        vertical-align: middle;\n",
              "    }\n",
              "\n",
              "    .dataframe tbody tr th {\n",
              "        vertical-align: top;\n",
              "    }\n",
              "\n",
              "    .dataframe thead th {\n",
              "        text-align: right;\n",
              "    }\n",
              "</style>\n",
              "<table border=\"1\" class=\"dataframe\">\n",
              "  <thead>\n",
              "    <tr style=\"text-align: right;\">\n",
              "      <th></th>\n",
              "      <th>count</th>\n",
              "      <th>mean</th>\n",
              "      <th>std</th>\n",
              "      <th>min</th>\n",
              "      <th>25%</th>\n",
              "      <th>50%</th>\n",
              "      <th>75%</th>\n",
              "      <th>max</th>\n",
              "    </tr>\n",
              "  </thead>\n",
              "  <tbody>\n",
              "    <tr>\n",
              "      <th>g_0</th>\n",
              "      <td>23814.0</td>\n",
              "      <td>0.248366</td>\n",
              "      <td>1.393399</td>\n",
              "      <td>-5.513</td>\n",
              "      <td>-0.473075</td>\n",
              "      <td>-0.00885</td>\n",
              "      <td>0.525700</td>\n",
              "      <td>10.000</td>\n",
              "    </tr>\n",
              "    <tr>\n",
              "      <th>g_1</th>\n",
              "      <td>23814.0</td>\n",
              "      <td>-0.095684</td>\n",
              "      <td>0.812363</td>\n",
              "      <td>-5.737</td>\n",
              "      <td>-0.562200</td>\n",
              "      <td>-0.04660</td>\n",
              "      <td>0.403075</td>\n",
              "      <td>5.039</td>\n",
              "    </tr>\n",
              "    <tr>\n",
              "      <th>g_2</th>\n",
              "      <td>23814.0</td>\n",
              "      <td>0.152253</td>\n",
              "      <td>1.035731</td>\n",
              "      <td>-9.104</td>\n",
              "      <td>-0.437750</td>\n",
              "      <td>0.07520</td>\n",
              "      <td>0.663925</td>\n",
              "      <td>8.257</td>\n",
              "    </tr>\n",
              "    <tr>\n",
              "      <th>g_3</th>\n",
              "      <td>23814.0</td>\n",
              "      <td>0.081971</td>\n",
              "      <td>0.950012</td>\n",
              "      <td>-5.998</td>\n",
              "      <td>-0.429575</td>\n",
              "      <td>0.00805</td>\n",
              "      <td>0.463400</td>\n",
              "      <td>10.000</td>\n",
              "    </tr>\n",
              "    <tr>\n",
              "      <th>g_4</th>\n",
              "      <td>23814.0</td>\n",
              "      <td>0.057347</td>\n",
              "      <td>1.032091</td>\n",
              "      <td>-6.369</td>\n",
              "      <td>-0.470925</td>\n",
              "      <td>-0.02690</td>\n",
              "      <td>0.465375</td>\n",
              "      <td>10.000</td>\n",
              "    </tr>\n",
              "  </tbody>\n",
              "</table>\n",
              "</div>"
            ],
            "text/plain": [
              "       count      mean       std    min       25%      50%       75%     max\n",
              "g_0  23814.0  0.248366  1.393399 -5.513 -0.473075 -0.00885  0.525700  10.000\n",
              "g_1  23814.0 -0.095684  0.812363 -5.737 -0.562200 -0.04660  0.403075   5.039\n",
              "g_2  23814.0  0.152253  1.035731 -9.104 -0.437750  0.07520  0.663925   8.257\n",
              "g_3  23814.0  0.081971  0.950012 -5.998 -0.429575  0.00805  0.463400  10.000\n",
              "g_4  23814.0  0.057347  1.032091 -6.369 -0.470925 -0.02690  0.465375  10.000"
            ]
          },
          "metadata": {
            "tags": []
          },
          "execution_count": 17
        }
      ]
    },
    {
      "cell_type": "code",
      "metadata": {
        "colab": {
          "base_uri": "https://localhost:8080/"
        },
        "id": "Nt1J7uhK9OF0",
        "outputId": "df45de13-0c1e-4633-c18f-233ec1fdc8e6"
      },
      "source": [
        "fig, axes = plt.subplots(2, 2, figsize=(10, 8))\n",
        "fig.suptitle('Comportamento das colunas \"g-n\"', fontsize = 16)\n",
        "plt.subplots_adjust(hspace = 0.4)\n",
        "sns.set()\n",
        "\n",
        "sns.histplot(ax=axes[0][0], x = g_describe['mean'], bins = 100)\n",
        "axes[0][0].set_title('Média', fontsize = 12)\n",
        "\n",
        "sns.histplot(ax=axes[0][1], x = g_describe['std'], bins = 100)\n",
        "axes[0][1].set_title('Desvio Padrão', fontsize = 12)\n",
        "\n",
        "sns.histplot(ax=axes[1][0], x = g_describe['min'])\n",
        "axes[1][0].set_title('Valor Mínimo', fontsize = 12)\n",
        "\n",
        "sns.histplot(ax=axes[1][1], x = g_describe['max'])\n",
        "axes[1][1].set_title('Valor Máximo', fontsize = 12)\n",
        "\n",
        "plt.show()"
      ],
      "execution_count": null,
      "outputs": [
        {
          "output_type": "display_data",
          "data": {
            "image/png": "[encoded data removed]",
            "text/plain": [
              "<Figure size 720x576 with 4 Axes>"
            ]
          },
          "metadata": {
            "tags": [],
            "needs_background": "light"
          }
        }
      ]
    },
    {
      "cell_type": "markdown",
      "metadata": {
        "id": "jkwFoBPrHGuQ"
      },
      "source": [
        "Como podemos ver, a médias e o desvio padrão estão aparentanda ser curvas normais e os valores mínimos e máximos estão em -10 e 10, respectivamente. Logo podemos imaginar que as colunas 'g-n' apresentam um comportamento de curva normal, isto é, apresentam média 0 e desvio padrão -1. "
      ]
    },
    {
      "cell_type": "markdown",
      "metadata": {
        "id": "OIYA79clJyI7"
      },
      "source": [
        "Vamos agora realizar o mesmo processo com as colunas c-n's."
      ]
    },
    {
      "cell_type": "code",
      "metadata": {
        "colab": {
          "base_uri": "https://localhost:8080/"
        },
        "id": "y5DJYkulxcaK",
        "outputId": "17a062cc-3928-4922-86d3-13732827cd55"
      },
      "source": [
        "c_describe = data.loc[:, 'c_0': 'c_99'].describe().T\n",
        "c_describe.head()"
      ],
      "execution_count": null,
      "outputs": [
        {
          "output_type": "execute_result",
          "data": {
            "text/html": [
              "<div>\n",
              "<style scoped>\n",
              "    .dataframe tbody tr th:only-of-type {\n",
              "        vertical-align: middle;\n",
              "    }\n",
              "\n",
              "    .dataframe tbody tr th {\n",
              "        vertical-align: top;\n",
              "    }\n",
              "\n",
              "    .dataframe thead th {\n",
              "        text-align: right;\n",
              "    }\n",
              "</style>\n",
              "<table border=\"1\" class=\"dataframe\">\n",
              "  <thead>\n",
              "    <tr style=\"text-align: right;\">\n",
              "      <th></th>\n",
              "      <th>count</th>\n",
              "      <th>mean</th>\n",
              "      <th>std</th>\n",
              "      <th>min</th>\n",
              "      <th>25%</th>\n",
              "      <th>50%</th>\n",
              "      <th>75%</th>\n",
              "      <th>max</th>\n",
              "    </tr>\n",
              "  </thead>\n",
              "  <tbody>\n",
              "    <tr>\n",
              "      <th>c_0</th>\n",
              "      <td>23814.0</td>\n",
              "      <td>-0.355156</td>\n",
              "      <td>1.752565</td>\n",
              "      <td>-10.0</td>\n",
              "      <td>-0.549300</td>\n",
              "      <td>-0.00900</td>\n",
              "      <td>0.448975</td>\n",
              "      <td>3.365</td>\n",
              "    </tr>\n",
              "    <tr>\n",
              "      <th>c_1</th>\n",
              "      <td>23814.0</td>\n",
              "      <td>-0.455359</td>\n",
              "      <td>2.004962</td>\n",
              "      <td>-10.0</td>\n",
              "      <td>-0.538425</td>\n",
              "      <td>0.00980</td>\n",
              "      <td>0.476875</td>\n",
              "      <td>3.915</td>\n",
              "    </tr>\n",
              "    <tr>\n",
              "      <th>c_2</th>\n",
              "      <td>23814.0</td>\n",
              "      <td>-0.480542</td>\n",
              "      <td>2.039346</td>\n",
              "      <td>-10.0</td>\n",
              "      <td>-0.550375</td>\n",
              "      <td>-0.00400</td>\n",
              "      <td>0.460575</td>\n",
              "      <td>2.970</td>\n",
              "    </tr>\n",
              "    <tr>\n",
              "      <th>c_3</th>\n",
              "      <td>23814.0</td>\n",
              "      <td>-0.377666</td>\n",
              "      <td>1.554583</td>\n",
              "      <td>-10.0</td>\n",
              "      <td>-0.601975</td>\n",
              "      <td>-0.03905</td>\n",
              "      <td>0.413100</td>\n",
              "      <td>2.408</td>\n",
              "    </tr>\n",
              "    <tr>\n",
              "      <th>c_4</th>\n",
              "      <td>23814.0</td>\n",
              "      <td>-0.493552</td>\n",
              "      <td>2.091888</td>\n",
              "      <td>-10.0</td>\n",
              "      <td>-0.559975</td>\n",
              "      <td>0.01140</td>\n",
              "      <td>0.470300</td>\n",
              "      <td>4.555</td>\n",
              "    </tr>\n",
              "  </tbody>\n",
              "</table>\n",
              "</div>"
            ],
            "text/plain": [
              "       count      mean       std   min       25%      50%       75%    max\n",
              "c_0  23814.0 -0.355156  1.752565 -10.0 -0.549300 -0.00900  0.448975  3.365\n",
              "c_1  23814.0 -0.455359  2.004962 -10.0 -0.538425  0.00980  0.476875  3.915\n",
              "c_2  23814.0 -0.480542  2.039346 -10.0 -0.550375 -0.00400  0.460575  2.970\n",
              "c_3  23814.0 -0.377666  1.554583 -10.0 -0.601975 -0.03905  0.413100  2.408\n",
              "c_4  23814.0 -0.493552  2.091888 -10.0 -0.559975  0.01140  0.470300  4.555"
            ]
          },
          "metadata": {
            "tags": []
          },
          "execution_count": 19
        }
      ]
    },
    {
      "cell_type": "code",
      "metadata": {
        "colab": {
          "base_uri": "https://localhost:8080/"
        },
        "id": "1M4-Nbmnxcsk",
        "outputId": "37227f08-94e4-41f7-82a7-be9d38551d20"
      },
      "source": [
        "fig, axes = plt.subplots(2, 2, figsize=(10, 8))\n",
        "fig.suptitle('Comportamento das colunas \"c-n\"', fontsize = 16)\n",
        "plt.subplots_adjust(hspace = 0.4)\n",
        "sns.set()\n",
        "\n",
        "sns.histplot(ax=axes[0][0], x = c_describe['mean'], bins = 100)\n",
        "axes[0][0].set_title('Média', fontsize = 12)\n",
        "\n",
        "sns.histplot(ax=axes[0][1], x = c_describe['std'], bins = 100)\n",
        "axes[0][1].set_title('Desvio Padrão', fontsize = 12)\n",
        "\n",
        "sns.histplot(ax=axes[1][0], x = c_describe['min'])\n",
        "axes[1][0].set_title('Valor Mínimo', fontsize = 12)\n",
        "\n",
        "sns.histplot(ax=axes[1][1], x = c_describe['max'])\n",
        "axes[1][1].set_title('Valor Máximo', fontsize = 12)\n",
        "\n",
        "plt.show()"
      ],
      "execution_count": null,
      "outputs": [
        {
          "output_type": "display_data",
          "data": {
            "image/png": "[encoded data removed]",
            "text/plain": [
              "<Figure size 720x576 with 4 Axes>"
            ]
          },
          "metadata": {
            "tags": []
          }
        }
      ]
    },
    {
      "cell_type": "markdown",
      "metadata": {
        "id": "5MUkjMBUzE76"
      },
      "source": [
        "Como podemos ver, diferente das colunas g-n's, não podemos falar que as colunas c-n' são uma curva normal, já que suas médias não se encontram em 0 e seus divios padrão em 1. "
      ]
    },
    {
      "cell_type": "markdown",
      "metadata": {
        "id": "Mb4frzvmWHuR"
      },
      "source": [
        "# 3. Limpeza dos dados"
      ]
    },
    {
      "cell_type": "markdown",
      "metadata": {
        "id": "6wZjd7RsZd_z"
      },
      "source": [
        "Alguns modelos de Machine Learning são extremamente sensíveis às impurezas (outliers, dados nulos, dados duplicados), então precisamos limpa-los para que nosso modelo tenha uma melhor performance sem que haja um super adequamento (overfitting) aos dados."
      ]
    },
    {
      "cell_type": "markdown",
      "metadata": {
        "id": "7msLQhGsZT5s"
      },
      "source": [
        "## 3.1 Dados Duplicados"
      ]
    },
    {
      "cell_type": "markdown",
      "metadata": {
        "id": "jjDE6BKkdaLe"
      },
      "source": [
        "A primeira técnica de limpeza é a remoção, caso haja, de dados duplicados. Precisamos retirá-los, pois eles podem ser responsáveis por alterar estatísticas como média, mediana etc, para isso, basta usar a função *drop_duplicates()* do pandas e ela removerá todas as  linhas em que todas as colunas são iguais."
      ]
    },
    {
      "cell_type": "code",
      "metadata": {
        "colab": {
          "base_uri": "https://localhost:8080/"
        },
        "id": "Z8OrA8Egid0u",
        "outputId": "2659ff58-2c74-4bc5-b966-54c4ccff170a"
      },
      "source": [
        "data_sem_duplicados = data.drop_duplicates(keep='last')\n",
        "print('Número de linhas deletadas: {}'.format(len(data)-len(data_sem_duplicados)))"
      ],
      "execution_count": null,
      "outputs": [
        {
          "output_type": "stream",
          "text": [
            "Número de linhas deletadas: 0\n"
          ],
          "name": "stdout"
        }
      ]
    },
    {
      "cell_type": "markdown",
      "metadata": {
        "id": "xJ67x3FRWL9J"
      },
      "source": [
        "## 3.2 Dados Nulos"
      ]
    },
    {
      "cell_type": "markdown",
      "metadata": {
        "id": "FNH8EXGIjQrO"
      },
      "source": [
        "Dados nulos são outros tipos de dados que precisam ser removidos ou manipulados, caso haja. Para isso, cada coluna deve ser tratada de uma forma, então vamos ver se há alguma coluna com dados faltando."
      ]
    },
    {
      "cell_type": "code",
      "metadata": {
        "id": "NkdpjyNwkzbO"
      },
      "source": [
        "for i in data_sem_duplicados.isnull().sum():\n",
        "  if(i != 0):\n",
        "    print('{}'.format(i.index))"
      ],
      "execution_count": null,
      "outputs": []
    },
    {
      "cell_type": "markdown",
      "metadata": {
        "id": "DvmoP_wznlei"
      },
      "source": [
        "Portanto não há colunas sem dados nulo e podemos seguir"
      ]
    },
    {
      "cell_type": "markdown",
      "metadata": {
        "id": "olVM1-4hWfLv"
      },
      "source": [
        "## 3.3 Outliers\n"
      ]
    },
    {
      "cell_type": "markdown",
      "metadata": {
        "id": "paeUnzfZoWnm"
      },
      "source": [
        "Por fim, precisamos limpar as anomalias, ou outliers, que podem tanto serem causados por errors humanos tanto por causa natural, como é o caso dos nossos dados, já que são resultados de testes de drogas em células. Podemos ver que nossos dados apresentam outliers usando o *boxplot()* da biblioteca **Seaborn** na coluna \"g-0\",por exemplo."
      ]
    },
    {
      "cell_type": "code",
      "metadata": {
        "colab": {
          "base_uri": "https://localhost:8080/"
        },
        "id": "cR5y-QPh1cAy",
        "outputId": "9fcce83f-9d0d-4090-b760-fb886db1edc9"
      },
      "source": [
        "plt.figure(figsize = (10,6))\n",
        "plt.title('Boxplot g_0', fontsize = 16)\n",
        "sns.boxplot(data = data, x = 'g_0')\n",
        "plt.show()"
      ],
      "execution_count": null,
      "outputs": [
        {
          "output_type": "display_data",
          "data": {
            "image/png": "[encoded data removed]",
            "text/plain": [
              "<Figure size 720x432 with 1 Axes>"
            ]
          },
          "metadata": {
            "tags": []
          }
        }
      ]
    },
    {
      "cell_type": "markdown",
      "metadata": {
        "id": "0QwixZT03iNW"
      },
      "source": [
        "Nesse gráfico, todos os pontos que estão acima de 2 e abaixo de -2 são considerados outliers. "
      ]
    },
    {
      "cell_type": "markdown",
      "metadata": {
        "id": "TNa8FyyW7cB9"
      },
      "source": [
        "Para achar e tentar diminuir esses outliers, vamos usar o algoritmo *IsolationForest()* da biblioteca **Sklearn**. Apesar de ser baseado no modelo *DecisionTree()*, esse algoritmo é não supervisionado e divide os dados aleatoriamente e detecta como outliers aqueles pontos que tiverem menor caminho, porém como não queremos retirar nenhum ponto que tenha reultado positivo, vamos aplicar somente nos pontos em que o resultado foi negativo."
      ]
    },
    {
      "cell_type": "code",
      "metadata": {
        "colab": {
          "base_uri": "https://localhost:8080/"
        },
        "id": "ZjxWgUSn8u5m",
        "outputId": "c8b31301-458e-4ccd-9691-7fcf0c77bdd4"
      },
      "source": [
        "from sklearn.ensemble import IsolationForest\n",
        "\n",
        "outlier_detector = IsolationForest(n_estimators = 70, max_features = 872, random_state = 0)\n",
        "outlier_detector.fit(data.loc[:, 'g_0': 'c_99'])\n",
        "\n",
        "data['outliers'] = outlier_detector.predict(data.loc[:, 'g_0': 'c_99'])\n",
        "\n",
        "data.drop(data.query('rna_polymerase_inhibitor == 0')[data.outliers == -1].index, inplace = True)\n",
        "data.drop(columns = 'outliers', inplace = True)\n",
        "data.reset_index(drop = True, inplace = True)\n",
        "\n",
        "data.shape"
      ],
      "execution_count": null,
      "outputs": [
        {
          "output_type": "execute_result",
          "data": {
            "text/plain": [
              "(22122, 878)"
            ]
          },
          "metadata": {
            "tags": []
          },
          "execution_count": 24
        }
      ]
    },
    {
      "cell_type": "markdown",
      "metadata": {
        "id": "ff0DoIy0_yUg"
      },
      "source": [
        "Como podemos ver 1692 outliers foram detectados."
      ]
    },
    {
      "cell_type": "markdown",
      "metadata": {
        "id": "_fA1DKISWv2O"
      },
      "source": [
        "# 4. Análise de dados"
      ]
    },
    {
      "cell_type": "markdown",
      "metadata": {
        "id": "MBrpVY_sz4b2"
      },
      "source": [
        "Saber como suas variáveis se comportam entre elas e com a variável alvo é de extrema importância em qualquer ciência, inclusive na ciência de dados. Por isso nessa sessão vamos analisar como essas variáveis se relacionam uma com as outras."
      ]
    },
    {
      "cell_type": "markdown",
      "metadata": {
        "id": "GpfQ5rpE58lE"
      },
      "source": [
        "## 4.1 Relação entre variavéis"
      ]
    },
    {
      "cell_type": "markdown",
      "metadata": {
        "id": "PHwNvJrSt0Gi"
      },
      "source": [
        "###4.1.1 Dose x Tempo x Tratamento"
      ]
    },
    {
      "cell_type": "markdown",
      "metadata": {
        "id": "bPX_ZOAG7WgG"
      },
      "source": [
        "Utilizando a função *crosstab()* do pandas, é possível gerar uma tabela mostre como os dados estão distribuidos entre as váriaveis \"tempo\", \"dose\" e \"tratamento\""
      ]
    },
    {
      "cell_type": "code",
      "metadata": {
        "colab": {
          "base_uri": "https://localhost:8080/"
        },
        "id": "nARX7dAbotBq",
        "outputId": "e4e337e6-5248-4a87-a1e2-1b76f16c45c7"
      },
      "source": [
        "pd.crosstab([data['dose'], data['tempo']],  data['tratamento'], normalize = 'columns')"
      ],
      "execution_count": null,
      "outputs": [
        {
          "output_type": "execute_result",
          "data": {
            "text/html": [
              "<div>\n",
              "<style scoped>\n",
              "    .dataframe tbody tr th:only-of-type {\n",
              "        vertical-align: middle;\n",
              "    }\n",
              "\n",
              "    .dataframe tbody tr th {\n",
              "        vertical-align: top;\n",
              "    }\n",
              "\n",
              "    .dataframe thead th {\n",
              "        text-align: right;\n",
              "    }\n",
              "</style>\n",
              "<table border=\"1\" class=\"dataframe\">\n",
              "  <thead>\n",
              "    <tr style=\"text-align: right;\">\n",
              "      <th></th>\n",
              "      <th>tratamento</th>\n",
              "      <th>com_controle</th>\n",
              "      <th>com_droga</th>\n",
              "    </tr>\n",
              "    <tr>\n",
              "      <th>dose</th>\n",
              "      <th>tempo</th>\n",
              "      <th></th>\n",
              "      <th></th>\n",
              "    </tr>\n",
              "  </thead>\n",
              "  <tbody>\n",
              "    <tr>\n",
              "      <th rowspan=\"3\" valign=\"top\">D1</th>\n",
              "      <th>24</th>\n",
              "      <td>0.162162</td>\n",
              "      <td>0.164315</td>\n",
              "    </tr>\n",
              "    <tr>\n",
              "      <th>48</th>\n",
              "      <td>0.182162</td>\n",
              "      <td>0.180939</td>\n",
              "    </tr>\n",
              "    <tr>\n",
              "      <th>72</th>\n",
              "      <td>0.164324</td>\n",
              "      <td>0.160221</td>\n",
              "    </tr>\n",
              "    <tr>\n",
              "      <th rowspan=\"3\" valign=\"top\">D2</th>\n",
              "      <th>24</th>\n",
              "      <td>0.164324</td>\n",
              "      <td>0.165401</td>\n",
              "    </tr>\n",
              "    <tr>\n",
              "      <th>48</th>\n",
              "      <td>0.162703</td>\n",
              "      <td>0.165499</td>\n",
              "    </tr>\n",
              "    <tr>\n",
              "      <th>72</th>\n",
              "      <td>0.164324</td>\n",
              "      <td>0.163625</td>\n",
              "    </tr>\n",
              "  </tbody>\n",
              "</table>\n",
              "</div>"
            ],
            "text/plain": [
              "tratamento  com_controle  com_droga\n",
              "dose tempo                         \n",
              "D1   24         0.162162   0.164315\n",
              "     48         0.182162   0.180939\n",
              "     72         0.164324   0.160221\n",
              "D2   24         0.164324   0.165401\n",
              "     48         0.162703   0.165499\n",
              "     72         0.164324   0.163625"
            ]
          },
          "metadata": {
            "tags": []
          },
          "execution_count": 25
        }
      ]
    },
    {
      "cell_type": "markdown",
      "metadata": {
        "id": "hGCz8Rm5t7Rp"
      },
      "source": [
        "Podemos ver que a proporção entre controle e com droga está distribuida igualmente entre as categorias"
      ]
    },
    {
      "cell_type": "markdown",
      "metadata": {
        "id": "PTRuXZcnt8PM"
      },
      "source": [
        "###4.1.2 G-n's"
      ]
    },
    {
      "cell_type": "markdown",
      "metadata": {
        "id": "yIJ0b96jRp9o"
      },
      "source": [
        "Vimos na sessão 2.4 que as distribuição das g-n's se distribuião de forma parecida, mas será que elas são dependente uma das outras? Para descobrir isso, por serem variáveis continuas, calcularemos a carrelação entre essas variáveis e vizualizaremos utilizando o *heatmap()*. A correlação é um número no intervalo de -1 a 1 calculado a partir da covariância entre as variáveis e seus respectivos desvios padrão, sendo que números próximos dos extremos são variávies inversamente (extremo negativo) e diretamente(extremo positivo) proporcionais enquanto próximos de 0 são variáveis independentes. O *heatmap()*, por sua vez, é uma tabela que representa seus valores através de uma paleta de cores. Por se tratar de muitas variaveis, plotaremos somente as 100 primeiras colunas."
      ]
    },
    {
      "cell_type": "code",
      "metadata": {
        "id": "3PhZS2p_X10R"
      },
      "source": [
        "corr = data.loc[:,'g_0':'g_99'].corr()"
      ],
      "execution_count": null,
      "outputs": []
    },
    {
      "cell_type": "code",
      "metadata": {
        "colab": {
          "base_uri": "https://localhost:8080/"
        },
        "id": "H-c-qr_sZJiZ",
        "outputId": "a4eb3536-cde4-43af-feb6-03aa475de234"
      },
      "source": [
        "# Generate a mask for the upper triangle\n",
        "mask = np.triu(np.ones_like(corr, dtype=bool))\n",
        "\n",
        "# Set up the matplotlib figure\n",
        "f, ax = plt.subplots(figsize=(20, 20))\n",
        "\n",
        "# Generate a custom diverging colormap\n",
        "cmap = sns.diverging_palette(230, 20, as_cmap=True)\n",
        "\n",
        "# Draw the heatmap with the mask and correct aspect ratio\n",
        "sns.heatmap(corr, mask=mask, cmap=cmap, center=0,\n",
        "            square=True, linewidths=.5, cbar_kws={\"shrink\": .5})"
      ],
      "execution_count": null,
      "outputs": [
        {
          "output_type": "execute_result",
          "data": {
            "text/plain": [
              "<matplotlib.axes._subplots.AxesSubplot at 0x7fef806c3bd0>"
            ]
          },
          "metadata": {
            "tags": []
          },
          "execution_count": 27
        },
        {
          "output_type": "display_data",
          "data": {
            "image/png": "[encoded data removed]",
            "text/plain": [
              "<Figure size 1440x1440 with 2 Axes>"
            ]
          },
          "metadata": {
            "tags": []
          }
        }
      ]
    },
    {
      "cell_type": "markdown",
      "metadata": {
        "id": "ug4sF4m-ZWw_"
      },
      "source": [
        "Podemos ver então, que apesar de estarem padronizadas, a correlação do conjunto não passa de 0.7 nem de -0.5."
      ]
    },
    {
      "cell_type": "markdown",
      "metadata": {
        "id": "MutvhWOUuC1k"
      },
      "source": [
        "###4.1.3 C-n's"
      ]
    },
    {
      "cell_type": "markdown",
      "metadata": {
        "id": "52eAqN83Z8RG"
      },
      "source": [
        "Vamos fazer o mesmo para para as categorias c-n's, calcular a correlação e depois plotar o *headtmap()* "
      ]
    },
    {
      "cell_type": "code",
      "metadata": {
        "id": "I5eG8ErSbimw"
      },
      "source": [
        "corr_celular = data.loc[:,'c_0':'c_99'].corr()"
      ],
      "execution_count": null,
      "outputs": []
    },
    {
      "cell_type": "code",
      "metadata": {
        "colab": {
          "base_uri": "https://localhost:8080/"
        },
        "id": "yx0zXPe5bufo",
        "outputId": "de8c1f22-9fc0-4d01-a82d-55c62f57c629"
      },
      "source": [
        "# Generate a mask for the upper triangle\n",
        "mask = np.triu(np.ones_like(corr_celular, dtype=bool))\n",
        "\n",
        "# Set up the matplotlib figure\n",
        "f, ax = plt.subplots(figsize=(20, 20))\n",
        "\n",
        "# Generate a custom diverging colormap\n",
        "cmap = sns.diverging_palette(230, 20, as_cmap=True)\n",
        "\n",
        "# Draw the heatmap with the mask and correct aspect ratio\n",
        "sns.heatmap(corr_celular, mask=mask, cmap=cmap, center=0,\n",
        "            square=True, linewidths=.5, cbar_kws={\"shrink\": .5})"
      ],
      "execution_count": null,
      "outputs": [
        {
          "output_type": "execute_result",
          "data": {
            "text/plain": [
              "<matplotlib.axes._subplots.AxesSubplot at 0x7fef8f543550>"
            ]
          },
          "metadata": {
            "tags": []
          },
          "execution_count": 29
        },
        {
          "output_type": "display_data",
          "data": {
            "image/png": "[encoded data removed]",
            "text/plain": [
              "<Figure size 1440x1440 with 2 Axes>"
            ]
          },
          "metadata": {
            "tags": []
          }
        }
      ]
    },
    {
      "cell_type": "markdown",
      "metadata": {
        "id": "siwF4hmJb_Sl"
      },
      "source": [
        "Como podemos ver, há uma bela diferença em relação as g-n's, já que não há nenhuma dupla de variáveis com correlação abaixo de 0.1. \n",
        "\n",
        "\n",
        "> *Um ponto a ser lembrado é correlação não implica causualidade, como se trata de uma fórmula matemática, ela apenas mostra o quanto uma variável varia com a outra, porém os motivos podem ser variados e precisariamos de mais informações sobre cada gene/célula para sabe se o motivo da correlação alta vem da mesma causa*\n",
        "\n"
      ]
    },
    {
      "cell_type": "markdown",
      "metadata": {
        "id": "3uNsc2d0uHrT"
      },
      "source": [
        "###4.1.4 G-n's x C-n's"
      ]
    },
    {
      "cell_type": "markdown",
      "metadata": {
        "id": "upDpvKu8dkSQ"
      },
      "source": [
        "Tendo em vista que as variáveis g-n's se comportam de uma forma entre elas e as c-n's se comportam de outra, como será que uma se comporta em relação a outra? para fazer isso, utilizaremos as 50 últimas colunas dos g-n's e as 50 primeiras dos c-n's e usaremos a função *loc[]* para selecionar as linhas e as colunas."
      ]
    },
    {
      "cell_type": "code",
      "metadata": {
        "id": "8ZIFNaFNfdsP"
      },
      "source": [
        "corr = data.loc[:,'g_721':'c_50'].corr()\n",
        "corr_celular_genes = corr.loc['g_721':'g_771','c_0':'c_50']"
      ],
      "execution_count": null,
      "outputs": []
    },
    {
      "cell_type": "code",
      "metadata": {
        "colab": {
          "base_uri": "https://localhost:8080/"
        },
        "id": "zdUQPgDGfl9s",
        "outputId": "d230da03-ca84-4f15-feb2-81fd2d503064"
      },
      "source": [
        "# Set up the matplotlib figure\n",
        "f, ax = plt.subplots(figsize=(15, 15))\n",
        "\n",
        "# Generate a custom diverging colormap\n",
        "cmap = sns.diverging_palette(230, 20, as_cmap=True)\n",
        "\n",
        "# Draw the heatmap with the mask and correct aspect ratio\n",
        "sns.heatmap(corr_celular_genes, cmap=cmap, center=0,\n",
        "            square=True, linewidths=.5, cbar_kws={\"shrink\": .5})"
      ],
      "execution_count": null,
      "outputs": [
        {
          "output_type": "execute_result",
          "data": {
            "text/plain": [
              "<matplotlib.axes._subplots.AxesSubplot at 0x7fef71200050>"
            ]
          },
          "metadata": {
            "tags": []
          },
          "execution_count": 31
        },
        {
          "output_type": "display_data",
          "data": {
            "image/png": "[encoded data removed]",
            "text/plain": [
              "<Figure size 1080x1080 with 2 Axes>"
            ]
          },
          "metadata": {
            "tags": []
          }
        }
      ]
    },
    {
      "cell_type": "markdown",
      "metadata": {
        "id": "SmwIK7Tkh42m"
      },
      "source": [
        "Se olharmos para essa figura, podemos ver algo curioso: um gene possui uma correlação parecida com todas as células. Isso porque genes são segmentos de DNA que contém o código de uma proteína em um ou mais tipos de células do organismos, fazendo com que a resposta do gene à droga seja parecida em grande parte das células."
      ]
    },
    {
      "cell_type": "markdown",
      "metadata": {
        "id": "yUipouQvWiTG"
      },
      "source": [
        "## 4.2 Relação com a variável alvo"
      ]
    },
    {
      "cell_type": "markdown",
      "metadata": {
        "id": "tFWNla0PWoX8"
      },
      "source": [
        "Saber quais variáveis  e como se relacionam com seu alvo é muito importânte para entender seus dados e na hora de escolher quais entregar as variáveis para o modelo."
      ]
    },
    {
      "cell_type": "markdown",
      "metadata": {
        "id": "2eFkwUS4q-ut"
      },
      "source": [
        "###4.2.1 Dose X Tempo X Rna polymerase inhibitor"
      ]
    },
    {
      "cell_type": "markdown",
      "metadata": {
        "id": "y0nJFv0ZsBWD"
      },
      "source": [
        "Como se tratam de variáveis categóricas de baixa cardinalidade, podemos utilizar o *crosstab()* novamente para analisar de maneira única. Usaremos somente os dados que não foram de controle, já que testes de controle não devem possui essa característica"
      ]
    },
    {
      "cell_type": "code",
      "metadata": {
        "colab": {
          "base_uri": "https://localhost:8080/"
        },
        "id": "GTc8DbJntCFB",
        "outputId": "3b75c114-b950-48e6-e575-70b796c85602"
      },
      "source": [
        "pd.crosstab([data.query('tratamento == \"com_droga\"')['dose'], data.query('tratamento == \"com_droga\"')['tempo']],  data['rna_polymerase_inhibitor'], normalize='columns')"
      ],
      "execution_count": null,
      "outputs": [
        {
          "output_type": "execute_result",
          "data": {
            "text/html": [
              "<div>\n",
              "<style scoped>\n",
              "    .dataframe tbody tr th:only-of-type {\n",
              "        vertical-align: middle;\n",
              "    }\n",
              "\n",
              "    .dataframe tbody tr th {\n",
              "        vertical-align: top;\n",
              "    }\n",
              "\n",
              "    .dataframe thead th {\n",
              "        text-align: right;\n",
              "    }\n",
              "</style>\n",
              "<table border=\"1\" class=\"dataframe\">\n",
              "  <thead>\n",
              "    <tr style=\"text-align: right;\">\n",
              "      <th></th>\n",
              "      <th>rna_polymerase_inhibitor</th>\n",
              "      <th>0</th>\n",
              "      <th>1</th>\n",
              "    </tr>\n",
              "    <tr>\n",
              "      <th>dose</th>\n",
              "      <th>tempo</th>\n",
              "      <th></th>\n",
              "      <th></th>\n",
              "    </tr>\n",
              "  </thead>\n",
              "  <tbody>\n",
              "    <tr>\n",
              "      <th rowspan=\"3\" valign=\"top\">D1</th>\n",
              "      <th>24</th>\n",
              "      <td>0.164321</td>\n",
              "      <td>0.16</td>\n",
              "    </tr>\n",
              "    <tr>\n",
              "      <th>48</th>\n",
              "      <td>0.180916</td>\n",
              "      <td>0.20</td>\n",
              "    </tr>\n",
              "    <tr>\n",
              "      <th>72</th>\n",
              "      <td>0.160221</td>\n",
              "      <td>0.16</td>\n",
              "    </tr>\n",
              "    <tr>\n",
              "      <th rowspan=\"3\" valign=\"top\">D2</th>\n",
              "      <th>24</th>\n",
              "      <td>0.165407</td>\n",
              "      <td>0.16</td>\n",
              "    </tr>\n",
              "    <tr>\n",
              "      <th>48</th>\n",
              "      <td>0.165506</td>\n",
              "      <td>0.16</td>\n",
              "    </tr>\n",
              "    <tr>\n",
              "      <th>72</th>\n",
              "      <td>0.163629</td>\n",
              "      <td>0.16</td>\n",
              "    </tr>\n",
              "  </tbody>\n",
              "</table>\n",
              "</div>"
            ],
            "text/plain": [
              "rna_polymerase_inhibitor         0     1\n",
              "dose tempo                              \n",
              "D1   24                   0.164321  0.16\n",
              "     48                   0.180916  0.20\n",
              "     72                   0.160221  0.16\n",
              "D2   24                   0.165407  0.16\n",
              "     48                   0.165506  0.16\n",
              "     72                   0.163629  0.16"
            ]
          },
          "metadata": {
            "tags": []
          },
          "execution_count": 32
        }
      ]
    },
    {
      "cell_type": "markdown",
      "metadata": {
        "id": "z38p60J0v8Jf"
      },
      "source": [
        "Apesar de aparentar ter uma leve alteração nas coluna de resultado positivo, vale lembrar que há uma amostra muito pequena para afirmar que há alguma relação. De resto, estão mto bem distribuidas."
      ]
    },
    {
      "cell_type": "markdown",
      "metadata": {
        "id": "IOJWzWj5uoaQ"
      },
      "source": [
        "###4.2.2 G-n's x Rna polymerase inhibitor"
      ]
    },
    {
      "cell_type": "markdown",
      "metadata": {
        "id": "afdV0klDltvG"
      },
      "source": [
        "Para análisar a relação entre os g-n's e nossa variável alvo, usaremos o *describe()* novamente, porem dessa vez separando de acordo com o resultado."
      ]
    },
    {
      "cell_type": "code",
      "metadata": {
        "colab": {
          "base_uri": "https://localhost:8080/"
        },
        "id": "gKIpoSPlpCrn",
        "outputId": "63687df3-7654-44f8-80ab-ac5d7147c9fb"
      },
      "source": [
        "g_describe_0 = data.query('rna_polymerase_inhibitor == 0').loc[:, 'g_0': 'g_771'].describe().T\n",
        "g_describe_0.head()"
      ],
      "execution_count": null,
      "outputs": [
        {
          "output_type": "execute_result",
          "data": {
            "text/html": [
              "<div>\n",
              "<style scoped>\n",
              "    .dataframe tbody tr th:only-of-type {\n",
              "        vertical-align: middle;\n",
              "    }\n",
              "\n",
              "    .dataframe tbody tr th {\n",
              "        vertical-align: top;\n",
              "    }\n",
              "\n",
              "    .dataframe thead th {\n",
              "        text-align: right;\n",
              "    }\n",
              "</style>\n",
              "<table border=\"1\" class=\"dataframe\">\n",
              "  <thead>\n",
              "    <tr style=\"text-align: right;\">\n",
              "      <th></th>\n",
              "      <th>count</th>\n",
              "      <th>mean</th>\n",
              "      <th>std</th>\n",
              "      <th>min</th>\n",
              "      <th>25%</th>\n",
              "      <th>50%</th>\n",
              "      <th>75%</th>\n",
              "      <th>max</th>\n",
              "    </tr>\n",
              "  </thead>\n",
              "  <tbody>\n",
              "    <tr>\n",
              "      <th>g_0</th>\n",
              "      <td>22097.0</td>\n",
              "      <td>0.005433</td>\n",
              "      <td>0.837145</td>\n",
              "      <td>-5.513</td>\n",
              "      <td>-0.4993</td>\n",
              "      <td>-0.0596</td>\n",
              "      <td>0.4107</td>\n",
              "      <td>7.095</td>\n",
              "    </tr>\n",
              "    <tr>\n",
              "      <th>g_1</th>\n",
              "      <td>22097.0</td>\n",
              "      <td>-0.096499</td>\n",
              "      <td>0.743965</td>\n",
              "      <td>-5.596</td>\n",
              "      <td>-0.5408</td>\n",
              "      <td>-0.0477</td>\n",
              "      <td>0.3839</td>\n",
              "      <td>5.039</td>\n",
              "    </tr>\n",
              "    <tr>\n",
              "      <th>g_2</th>\n",
              "      <td>22097.0</td>\n",
              "      <td>0.104498</td>\n",
              "      <td>1.000252</td>\n",
              "      <td>-9.104</td>\n",
              "      <td>-0.4626</td>\n",
              "      <td>0.0340</td>\n",
              "      <td>0.6091</td>\n",
              "      <td>6.226</td>\n",
              "    </tr>\n",
              "    <tr>\n",
              "      <th>g_3</th>\n",
              "      <td>22097.0</td>\n",
              "      <td>0.037508</td>\n",
              "      <td>0.767408</td>\n",
              "      <td>-4.927</td>\n",
              "      <td>-0.4180</td>\n",
              "      <td>0.0000</td>\n",
              "      <td>0.4274</td>\n",
              "      <td>10.000</td>\n",
              "    </tr>\n",
              "    <tr>\n",
              "      <th>g_4</th>\n",
              "      <td>22097.0</td>\n",
              "      <td>-0.034774</td>\n",
              "      <td>0.857879</td>\n",
              "      <td>-6.369</td>\n",
              "      <td>-0.4863</td>\n",
              "      <td>-0.0575</td>\n",
              "      <td>0.3872</td>\n",
              "      <td>6.511</td>\n",
              "    </tr>\n",
              "  </tbody>\n",
              "</table>\n",
              "</div>"
            ],
            "text/plain": [
              "       count      mean       std    min     25%     50%     75%     max\n",
              "g_0  22097.0  0.005433  0.837145 -5.513 -0.4993 -0.0596  0.4107   7.095\n",
              "g_1  22097.0 -0.096499  0.743965 -5.596 -0.5408 -0.0477  0.3839   5.039\n",
              "g_2  22097.0  0.104498  1.000252 -9.104 -0.4626  0.0340  0.6091   6.226\n",
              "g_3  22097.0  0.037508  0.767408 -4.927 -0.4180  0.0000  0.4274  10.000\n",
              "g_4  22097.0 -0.034774  0.857879 -6.369 -0.4863 -0.0575  0.3872   6.511"
            ]
          },
          "metadata": {
            "tags": []
          },
          "execution_count": 33
        }
      ]
    },
    {
      "cell_type": "code",
      "metadata": {
        "colab": {
          "base_uri": "https://localhost:8080/"
        },
        "id": "P1s-BOBbpLep",
        "outputId": "a1a825ba-39df-4683-e320-2da3292d7651"
      },
      "source": [
        "g_describe_1 = data.query('rna_polymerase_inhibitor == 1').loc[:, 'g_0': 'g_771'].describe().T\n",
        "g_describe_1.head()"
      ],
      "execution_count": null,
      "outputs": [
        {
          "output_type": "execute_result",
          "data": {
            "text/html": [
              "<div>\n",
              "<style scoped>\n",
              "    .dataframe tbody tr th:only-of-type {\n",
              "        vertical-align: middle;\n",
              "    }\n",
              "\n",
              "    .dataframe tbody tr th {\n",
              "        vertical-align: top;\n",
              "    }\n",
              "\n",
              "    .dataframe thead th {\n",
              "        text-align: right;\n",
              "    }\n",
              "</style>\n",
              "<table border=\"1\" class=\"dataframe\">\n",
              "  <thead>\n",
              "    <tr style=\"text-align: right;\">\n",
              "      <th></th>\n",
              "      <th>count</th>\n",
              "      <th>mean</th>\n",
              "      <th>std</th>\n",
              "      <th>min</th>\n",
              "      <th>25%</th>\n",
              "      <th>50%</th>\n",
              "      <th>75%</th>\n",
              "      <th>max</th>\n",
              "    </tr>\n",
              "  </thead>\n",
              "  <tbody>\n",
              "    <tr>\n",
              "      <th>g_0</th>\n",
              "      <td>25.0</td>\n",
              "      <td>1.398504</td>\n",
              "      <td>2.794183</td>\n",
              "      <td>-0.6905</td>\n",
              "      <td>-0.2296</td>\n",
              "      <td>0.0967</td>\n",
              "      <td>0.8771</td>\n",
              "      <td>9.1370</td>\n",
              "    </tr>\n",
              "    <tr>\n",
              "      <th>g_1</th>\n",
              "      <td>25.0</td>\n",
              "      <td>-0.012664</td>\n",
              "      <td>0.752926</td>\n",
              "      <td>-2.1510</td>\n",
              "      <td>-0.4663</td>\n",
              "      <td>0.1544</td>\n",
              "      <td>0.4511</td>\n",
              "      <td>0.9564</td>\n",
              "    </tr>\n",
              "    <tr>\n",
              "      <th>g_2</th>\n",
              "      <td>25.0</td>\n",
              "      <td>0.719024</td>\n",
              "      <td>1.267041</td>\n",
              "      <td>-1.3430</td>\n",
              "      <td>-0.0721</td>\n",
              "      <td>0.6622</td>\n",
              "      <td>1.0300</td>\n",
              "      <td>4.1510</td>\n",
              "    </tr>\n",
              "    <tr>\n",
              "      <th>g_3</th>\n",
              "      <td>25.0</td>\n",
              "      <td>-0.213656</td>\n",
              "      <td>1.005590</td>\n",
              "      <td>-3.6590</td>\n",
              "      <td>-0.4939</td>\n",
              "      <td>0.0071</td>\n",
              "      <td>0.4131</td>\n",
              "      <td>1.0580</td>\n",
              "    </tr>\n",
              "    <tr>\n",
              "      <th>g_4</th>\n",
              "      <td>25.0</td>\n",
              "      <td>0.943116</td>\n",
              "      <td>1.618908</td>\n",
              "      <td>-1.0310</td>\n",
              "      <td>-0.0544</td>\n",
              "      <td>0.5175</td>\n",
              "      <td>1.0940</td>\n",
              "      <td>5.3850</td>\n",
              "    </tr>\n",
              "  </tbody>\n",
              "</table>\n",
              "</div>"
            ],
            "text/plain": [
              "     count      mean       std     min     25%     50%     75%     max\n",
              "g_0   25.0  1.398504  2.794183 -0.6905 -0.2296  0.0967  0.8771  9.1370\n",
              "g_1   25.0 -0.012664  0.752926 -2.1510 -0.4663  0.1544  0.4511  0.9564\n",
              "g_2   25.0  0.719024  1.267041 -1.3430 -0.0721  0.6622  1.0300  4.1510\n",
              "g_3   25.0 -0.213656  1.005590 -3.6590 -0.4939  0.0071  0.4131  1.0580\n",
              "g_4   25.0  0.943116  1.618908 -1.0310 -0.0544  0.5175  1.0940  5.3850"
            ]
          },
          "metadata": {
            "tags": []
          },
          "execution_count": 34
        }
      ]
    },
    {
      "cell_type": "code",
      "metadata": {
        "colab": {
          "base_uri": "https://localhost:8080/"
        },
        "id": "sdSQFDkepdsA",
        "outputId": "e35d3368-8ebc-407c-e255-8be0d3e788ec"
      },
      "source": [
        "fig, axes = plt.subplots(2, 4, figsize=(20, 8))\n",
        "fig.suptitle('Comportamento das colunas \"g-n\" em relação ao inibidor do RNA polimerase ', fontsize = 16)\n",
        "plt.subplots_adjust(hspace = 0.4)\n",
        "sns.set()\n",
        "\n",
        "sns.histplot(ax=axes[0][0], x = g_describe_0['mean'], bins = 100)\n",
        "axes[0][0].set_title('Média 0', fontsize = 12)\n",
        "\n",
        "sns.histplot(ax=axes[0][1], x = g_describe_0['std'], bins = 100)\n",
        "axes[0][1].set_title('Desvio Padrão 0', fontsize = 12)\n",
        "\n",
        "sns.histplot(ax=axes[0][2], x = g_describe_0['min'])\n",
        "axes[0][2].set_title('Valor Mínimo 0', fontsize = 12)\n",
        "\n",
        "sns.histplot(ax=axes[0][3], x = g_describe_0['max'])\n",
        "axes[0][3].set_title('Valor Máximo 0', fontsize = 12)\n",
        "\n",
        "sns.histplot(ax=axes[1][0], x = g_describe_1['mean'], bins = 100)\n",
        "axes[1][0].set_title('Média 1', fontsize = 12)\n",
        "\n",
        "sns.histplot(ax=axes[1][1], x = g_describe_1['std'], bins = 100)\n",
        "axes[1][1].set_title('Desvio Padrão 1', fontsize = 12)\n",
        "\n",
        "sns.histplot(ax=axes[1][2], x = g_describe_1['min'])\n",
        "axes[1][2].set_title('Valor Mínimo 1', fontsize = 12)\n",
        "\n",
        "sns.histplot(ax=axes[1][3], x = g_describe_1['max'])\n",
        "axes[1][3].set_title('Valor Máximo 1', fontsize = 12)\n",
        "\n",
        "plt.show()"
      ],
      "execution_count": null,
      "outputs": [
        {
          "output_type": "display_data",
          "data": {
            "image/png": "[encoded data removed]",
            "text/plain": [
              "<Figure size 1440x576 with 8 Axes>"
            ]
          },
          "metadata": {
            "tags": []
          }
        }
      ]
    },
    {
      "cell_type": "markdown",
      "metadata": {
        "id": "ZHjjLChPuU-e"
      },
      "source": [
        "Algumas coisas que podemos notar:\n",
        "\n",
        "\n",
        "1.   No desvio padrão, apesar de ambos ficarem próximos de 1, o intervalo dos resultados positivos é bem maior, chegando até 4;\n",
        "2.   Os valores de mínimo e máximo também são divergentes. Enquanto a minoria dos resultados negativos ficam em -2 e 2, nos positivos, a maioria ficam nesses valores.\n",
        "\n"
      ]
    },
    {
      "cell_type": "markdown",
      "metadata": {
        "id": "4Jdy7-f6uvsN"
      },
      "source": [
        "###4.2.3 C-n's x Rna polymerase inhibitor"
      ]
    },
    {
      "cell_type": "markdown",
      "metadata": {
        "id": "Z0ZEBPY5DK_b"
      },
      "source": [
        "Vamos realizar o mesmo procedimento com as colunas c-n's"
      ]
    },
    {
      "cell_type": "code",
      "metadata": {
        "colab": {
          "base_uri": "https://localhost:8080/"
        },
        "id": "o8psO0aot2Nu",
        "outputId": "489c9b32-a5d7-4117-c178-1264f187acb6"
      },
      "source": [
        "c_describe_0 = data.query('rna_polymerase_inhibitor == 0').loc[:, 'c_0': 'c_99'].describe().T\n",
        "c_describe_0.head()"
      ],
      "execution_count": null,
      "outputs": [
        {
          "output_type": "execute_result",
          "data": {
            "text/html": [
              "<div>\n",
              "<style scoped>\n",
              "    .dataframe tbody tr th:only-of-type {\n",
              "        vertical-align: middle;\n",
              "    }\n",
              "\n",
              "    .dataframe tbody tr th {\n",
              "        vertical-align: top;\n",
              "    }\n",
              "\n",
              "    .dataframe thead th {\n",
              "        text-align: right;\n",
              "    }\n",
              "</style>\n",
              "<table border=\"1\" class=\"dataframe\">\n",
              "  <thead>\n",
              "    <tr style=\"text-align: right;\">\n",
              "      <th></th>\n",
              "      <th>count</th>\n",
              "      <th>mean</th>\n",
              "      <th>std</th>\n",
              "      <th>min</th>\n",
              "      <th>25%</th>\n",
              "      <th>50%</th>\n",
              "      <th>75%</th>\n",
              "      <th>max</th>\n",
              "    </tr>\n",
              "  </thead>\n",
              "  <tbody>\n",
              "    <tr>\n",
              "      <th>c_0</th>\n",
              "      <td>22097.0</td>\n",
              "      <td>-0.016270</td>\n",
              "      <td>0.750936</td>\n",
              "      <td>-8.500</td>\n",
              "      <td>-0.4323</td>\n",
              "      <td>0.0440</td>\n",
              "      <td>0.4792</td>\n",
              "      <td>2.989</td>\n",
              "    </tr>\n",
              "    <tr>\n",
              "      <th>c_1</th>\n",
              "      <td>22097.0</td>\n",
              "      <td>-0.037424</td>\n",
              "      <td>0.926861</td>\n",
              "      <td>-9.260</td>\n",
              "      <td>-0.4124</td>\n",
              "      <td>0.0642</td>\n",
              "      <td>0.5026</td>\n",
              "      <td>3.763</td>\n",
              "    </tr>\n",
              "    <tr>\n",
              "      <th>c_2</th>\n",
              "      <td>22097.0</td>\n",
              "      <td>-0.043544</td>\n",
              "      <td>0.889076</td>\n",
              "      <td>-9.380</td>\n",
              "      <td>-0.4278</td>\n",
              "      <td>0.0534</td>\n",
              "      <td>0.4898</td>\n",
              "      <td>2.831</td>\n",
              "    </tr>\n",
              "    <tr>\n",
              "      <th>c_3</th>\n",
              "      <td>22097.0</td>\n",
              "      <td>-0.073046</td>\n",
              "      <td>0.778387</td>\n",
              "      <td>-10.000</td>\n",
              "      <td>-0.4747</td>\n",
              "      <td>0.0162</td>\n",
              "      <td>0.4391</td>\n",
              "      <td>2.408</td>\n",
              "    </tr>\n",
              "    <tr>\n",
              "      <th>c_4</th>\n",
              "      <td>22097.0</td>\n",
              "      <td>-0.054017</td>\n",
              "      <td>0.945549</td>\n",
              "      <td>-9.045</td>\n",
              "      <td>-0.4289</td>\n",
              "      <td>0.0640</td>\n",
              "      <td>0.4987</td>\n",
              "      <td>4.555</td>\n",
              "    </tr>\n",
              "  </tbody>\n",
              "</table>\n",
              "</div>"
            ],
            "text/plain": [
              "       count      mean       std     min     25%     50%     75%    max\n",
              "c_0  22097.0 -0.016270  0.750936  -8.500 -0.4323  0.0440  0.4792  2.989\n",
              "c_1  22097.0 -0.037424  0.926861  -9.260 -0.4124  0.0642  0.5026  3.763\n",
              "c_2  22097.0 -0.043544  0.889076  -9.380 -0.4278  0.0534  0.4898  2.831\n",
              "c_3  22097.0 -0.073046  0.778387 -10.000 -0.4747  0.0162  0.4391  2.408\n",
              "c_4  22097.0 -0.054017  0.945549  -9.045 -0.4289  0.0640  0.4987  4.555"
            ]
          },
          "metadata": {
            "tags": []
          },
          "execution_count": 36
        }
      ]
    },
    {
      "cell_type": "code",
      "metadata": {
        "colab": {
          "base_uri": "https://localhost:8080/"
        },
        "id": "0UT6NnLqt2Fp",
        "outputId": "92b2df8c-f4fc-4a3f-dbaf-06868c3a8375"
      },
      "source": [
        "c_describe_1 = data.query('rna_polymerase_inhibitor == 1').loc[:, 'c_0': 'c_99'].describe().T\n",
        "c_describe_1.head()"
      ],
      "execution_count": null,
      "outputs": [
        {
          "output_type": "execute_result",
          "data": {
            "text/html": [
              "<div>\n",
              "<style scoped>\n",
              "    .dataframe tbody tr th:only-of-type {\n",
              "        vertical-align: middle;\n",
              "    }\n",
              "\n",
              "    .dataframe tbody tr th {\n",
              "        vertical-align: top;\n",
              "    }\n",
              "\n",
              "    .dataframe thead th {\n",
              "        text-align: right;\n",
              "    }\n",
              "</style>\n",
              "<table border=\"1\" class=\"dataframe\">\n",
              "  <thead>\n",
              "    <tr style=\"text-align: right;\">\n",
              "      <th></th>\n",
              "      <th>count</th>\n",
              "      <th>mean</th>\n",
              "      <th>std</th>\n",
              "      <th>min</th>\n",
              "      <th>25%</th>\n",
              "      <th>50%</th>\n",
              "      <th>75%</th>\n",
              "      <th>max</th>\n",
              "    </tr>\n",
              "  </thead>\n",
              "  <tbody>\n",
              "    <tr>\n",
              "      <th>c_0</th>\n",
              "      <td>25.0</td>\n",
              "      <td>-0.564292</td>\n",
              "      <td>1.838613</td>\n",
              "      <td>-5.705</td>\n",
              "      <td>-0.7087</td>\n",
              "      <td>0.0431</td>\n",
              "      <td>0.4219</td>\n",
              "      <td>1.5880</td>\n",
              "    </tr>\n",
              "    <tr>\n",
              "      <th>c_1</th>\n",
              "      <td>25.0</td>\n",
              "      <td>-1.736760</td>\n",
              "      <td>3.625777</td>\n",
              "      <td>-9.536</td>\n",
              "      <td>-0.9868</td>\n",
              "      <td>-0.0369</td>\n",
              "      <td>0.5280</td>\n",
              "      <td>0.8606</td>\n",
              "    </tr>\n",
              "    <tr>\n",
              "      <th>c_2</th>\n",
              "      <td>25.0</td>\n",
              "      <td>-1.319916</td>\n",
              "      <td>3.097851</td>\n",
              "      <td>-8.809</td>\n",
              "      <td>-0.6951</td>\n",
              "      <td>-0.1118</td>\n",
              "      <td>0.4758</td>\n",
              "      <td>0.8226</td>\n",
              "    </tr>\n",
              "    <tr>\n",
              "      <th>c_3</th>\n",
              "      <td>25.0</td>\n",
              "      <td>-0.915412</td>\n",
              "      <td>2.089956</td>\n",
              "      <td>-5.975</td>\n",
              "      <td>-1.0400</td>\n",
              "      <td>-0.2110</td>\n",
              "      <td>0.2605</td>\n",
              "      <td>1.4340</td>\n",
              "    </tr>\n",
              "    <tr>\n",
              "      <th>c_4</th>\n",
              "      <td>25.0</td>\n",
              "      <td>-1.217004</td>\n",
              "      <td>3.230417</td>\n",
              "      <td>-9.908</td>\n",
              "      <td>-0.6075</td>\n",
              "      <td>0.0328</td>\n",
              "      <td>0.5492</td>\n",
              "      <td>1.2560</td>\n",
              "    </tr>\n",
              "  </tbody>\n",
              "</table>\n",
              "</div>"
            ],
            "text/plain": [
              "     count      mean       std    min     25%     50%     75%     max\n",
              "c_0   25.0 -0.564292  1.838613 -5.705 -0.7087  0.0431  0.4219  1.5880\n",
              "c_1   25.0 -1.736760  3.625777 -9.536 -0.9868 -0.0369  0.5280  0.8606\n",
              "c_2   25.0 -1.319916  3.097851 -8.809 -0.6951 -0.1118  0.4758  0.8226\n",
              "c_3   25.0 -0.915412  2.089956 -5.975 -1.0400 -0.2110  0.2605  1.4340\n",
              "c_4   25.0 -1.217004  3.230417 -9.908 -0.6075  0.0328  0.5492  1.2560"
            ]
          },
          "metadata": {
            "tags": []
          },
          "execution_count": 37
        }
      ]
    },
    {
      "cell_type": "code",
      "metadata": {
        "colab": {
          "base_uri": "https://localhost:8080/"
        },
        "id": "TymQOF0rt1uV",
        "outputId": "bf598466-ae9c-40b6-9d77-bd2a9eae6916"
      },
      "source": [
        "fig, axes = plt.subplots(2, 4, figsize=(20, 8))\n",
        "fig.suptitle('Comportamento das colunas \"c-n\" em relação ao inibidor do RNA polimerase ', fontsize = 16)\n",
        "plt.subplots_adjust(hspace = 0.4)\n",
        "sns.set()\n",
        "\n",
        "sns.histplot(ax=axes[0][0], x = c_describe_0['mean'], bins = 100)\n",
        "axes[0][0].set_title('Média 0', fontsize = 12)\n",
        "\n",
        "sns.histplot(ax=axes[0][1], x = c_describe_0['std'], bins = 100)\n",
        "axes[0][1].set_title('Desvio Padrão 0', fontsize = 12)\n",
        "\n",
        "sns.histplot(ax=axes[0][2], x = c_describe_0['min'])\n",
        "axes[0][2].set_title('Valor Mínimo 0', fontsize = 12)\n",
        "\n",
        "sns.histplot(ax=axes[0][3], x = c_describe_0['max'])\n",
        "axes[0][3].set_title('Valor Máximo 0', fontsize = 12)\n",
        "\n",
        "sns.histplot(ax=axes[1][0], x = c_describe_1['mean'], bins = 100)\n",
        "axes[1][0].set_title('Média 1', fontsize = 12)\n",
        "\n",
        "sns.histplot(ax=axes[1][1], x = c_describe_1['std'], bins = 100)\n",
        "axes[1][1].set_title('Desvio Padrão 1', fontsize = 12)\n",
        "\n",
        "sns.histplot(ax=axes[1][2], x = c_describe_1['min'])\n",
        "axes[1][2].set_title('Valor Mínimo 1', fontsize = 12)\n",
        "\n",
        "sns.histplot(ax=axes[1][3], x = c_describe_1['max'])\n",
        "axes[1][3].set_title('Valor Máximo 1', fontsize = 12)\n",
        "\n",
        "plt.show()"
      ],
      "execution_count": null,
      "outputs": [
        {
          "output_type": "display_data",
          "data": {
            "image/png": "[encoded data removed]",
            "text/plain": [
              "<Figure size 1440x576 with 8 Axes>"
            ]
          },
          "metadata": {
            "tags": []
          }
        }
      ]
    },
    {
      "cell_type": "markdown",
      "metadata": {
        "id": "3w0ODd5EuRsQ"
      },
      "source": [
        "Novamente, algumas diferenças são notadas:\n",
        "\n",
        "\n",
        "1.   Primeiramente, enquanto a média dos testes negativos se manteve em 0, as dos teste positivos ficou próximo de -1,5\n",
        "2.   Em relação ao desvio padrão, os positivos ficaram 3,25 enquanto os negativos se manteve próximo de 1.\n",
        "3.   Os valores máximos não só divergem, como o maior valor dos resultados positivos não passa de 2,5, enquanto o menor valor dos negativos ficou maior que 2,5.\n",
        "\n"
      ]
    },
    {
      "cell_type": "markdown",
      "metadata": {
        "id": "1UtFC3zvXMJG"
      },
      "source": [
        "# 5. Feature Engineering"
      ]
    },
    {
      "cell_type": "markdown",
      "metadata": {
        "id": "ng5OjH7xVMxe"
      },
      "source": [
        "Modelos de Machine Learning nada mais são que modelos matemáticos e portanto só sabem trabalhar com números. Além disso, alguns modelos são extremamente sensíveis ao despadronização dos dados. Todos esses fatores influenciam na eficiência do modelo e por isso, nessa sessão iremos manipular os dados para um melhor aproveitamento do modelo."
      ]
    },
    {
      "cell_type": "markdown",
      "metadata": {
        "id": "EIToMmU_XeWv"
      },
      "source": [
        "## 5.1 Features Categóricas"
      ]
    },
    {
      "cell_type": "markdown",
      "metadata": {
        "id": "7KjXdE9KYq3J"
      },
      "source": [
        "Como comentado acima, dados categóricos devem ser transformados para dados numéricos. Usaremos o módulo *preprocessing* da biblioteca **Sklearn** para fazer essas manipulações. Não trataremos a coluna \"id\", já que se trata somente de um identificador do teste e não contribui para o teste.\n",
        "\n",
        "Começando pela coluna \"tratamento\", temos que se trata de um coluna categórica de baixa cardinalidade e nominal (não apresenta relação de ordem entre elas), por isso, usaremos a função *get_dummies()* para se quebrar em duas colunas binárias que representa cada categoria. "
      ]
    },
    {
      "cell_type": "code",
      "metadata": {
        "colab": {
          "base_uri": "https://localhost:8080/"
        },
        "id": "JOrGzq8cc7Mc",
        "outputId": "796c14af-6b78-4b85-de95-c6a14dc49646"
      },
      "source": [
        "data = data.join(pd.get_dummies(data['tratamento'])).drop('tratamento', 1)\n",
        "\n",
        "data.head()"
      ],
      "execution_count": null,
      "outputs": [
        {
          "output_type": "execute_result",
          "data": {
            "text/html": [
              "<div>\n",
              "<style scoped>\n",
              "    .dataframe tbody tr th:only-of-type {\n",
              "        vertical-align: middle;\n",
              "    }\n",
              "\n",
              "    .dataframe tbody tr th {\n",
              "        vertical-align: top;\n",
              "    }\n",
              "\n",
              "    .dataframe thead th {\n",
              "        text-align: right;\n",
              "    }\n",
              "</style>\n",
              "<table border=\"1\" class=\"dataframe\">\n",
              "  <thead>\n",
              "    <tr style=\"text-align: right;\">\n",
              "      <th></th>\n",
              "      <th>id</th>\n",
              "      <th>tempo</th>\n",
              "      <th>dose</th>\n",
              "      <th>droga</th>\n",
              "      <th>g_0</th>\n",
              "      <th>g_1</th>\n",
              "      <th>g_2</th>\n",
              "      <th>g_3</th>\n",
              "      <th>g_4</th>\n",
              "      <th>g_5</th>\n",
              "      <th>g_6</th>\n",
              "      <th>g_7</th>\n",
              "      <th>g_8</th>\n",
              "      <th>g_9</th>\n",
              "      <th>g_10</th>\n",
              "      <th>g_11</th>\n",
              "      <th>g_12</th>\n",
              "      <th>g_13</th>\n",
              "      <th>g_14</th>\n",
              "      <th>g_15</th>\n",
              "      <th>g_16</th>\n",
              "      <th>g_17</th>\n",
              "      <th>g_18</th>\n",
              "      <th>g_19</th>\n",
              "      <th>g_20</th>\n",
              "      <th>g_21</th>\n",
              "      <th>g_22</th>\n",
              "      <th>g_23</th>\n",
              "      <th>g_24</th>\n",
              "      <th>g_25</th>\n",
              "      <th>g_26</th>\n",
              "      <th>g_27</th>\n",
              "      <th>g_28</th>\n",
              "      <th>g_29</th>\n",
              "      <th>g_30</th>\n",
              "      <th>g_31</th>\n",
              "      <th>g_32</th>\n",
              "      <th>g_33</th>\n",
              "      <th>g_34</th>\n",
              "      <th>g_35</th>\n",
              "      <th>...</th>\n",
              "      <th>c_63</th>\n",
              "      <th>c_64</th>\n",
              "      <th>c_65</th>\n",
              "      <th>c_66</th>\n",
              "      <th>c_67</th>\n",
              "      <th>c_68</th>\n",
              "      <th>c_69</th>\n",
              "      <th>c_70</th>\n",
              "      <th>c_71</th>\n",
              "      <th>c_72</th>\n",
              "      <th>c_73</th>\n",
              "      <th>c_74</th>\n",
              "      <th>c_75</th>\n",
              "      <th>c_76</th>\n",
              "      <th>c_77</th>\n",
              "      <th>c_78</th>\n",
              "      <th>c_79</th>\n",
              "      <th>c_80</th>\n",
              "      <th>c_81</th>\n",
              "      <th>c_82</th>\n",
              "      <th>c_83</th>\n",
              "      <th>c_84</th>\n",
              "      <th>c_85</th>\n",
              "      <th>c_86</th>\n",
              "      <th>c_87</th>\n",
              "      <th>c_88</th>\n",
              "      <th>c_89</th>\n",
              "      <th>c_90</th>\n",
              "      <th>c_91</th>\n",
              "      <th>c_92</th>\n",
              "      <th>c_93</th>\n",
              "      <th>c_94</th>\n",
              "      <th>c_95</th>\n",
              "      <th>c_96</th>\n",
              "      <th>c_97</th>\n",
              "      <th>c_98</th>\n",
              "      <th>c_99</th>\n",
              "      <th>rna_polymerase_inhibitor</th>\n",
              "      <th>com_controle</th>\n",
              "      <th>com_droga</th>\n",
              "    </tr>\n",
              "  </thead>\n",
              "  <tbody>\n",
              "    <tr>\n",
              "      <th>0</th>\n",
              "      <td>id_000644bb2</td>\n",
              "      <td>24</td>\n",
              "      <td>D1</td>\n",
              "      <td>b68db1d53</td>\n",
              "      <td>1.0620</td>\n",
              "      <td>0.5577</td>\n",
              "      <td>-0.2479</td>\n",
              "      <td>-0.6208</td>\n",
              "      <td>-0.1944</td>\n",
              "      <td>-1.0120</td>\n",
              "      <td>-1.0220</td>\n",
              "      <td>-0.0326</td>\n",
              "      <td>0.5548</td>\n",
              "      <td>-0.0921</td>\n",
              "      <td>1.1830</td>\n",
              "      <td>0.1530</td>\n",
              "      <td>0.5574</td>\n",
              "      <td>-0.4015</td>\n",
              "      <td>0.1789</td>\n",
              "      <td>-0.6528</td>\n",
              "      <td>-0.7969</td>\n",
              "      <td>0.6342</td>\n",
              "      <td>0.1778</td>\n",
              "      <td>-0.3694</td>\n",
              "      <td>-0.5688</td>\n",
              "      <td>-1.1360</td>\n",
              "      <td>-1.1880</td>\n",
              "      <td>0.6940</td>\n",
              "      <td>0.4393</td>\n",
              "      <td>0.2664</td>\n",
              "      <td>0.1907</td>\n",
              "      <td>0.1628</td>\n",
              "      <td>-0.2853</td>\n",
              "      <td>0.5819</td>\n",
              "      <td>0.2934</td>\n",
              "      <td>-0.5584</td>\n",
              "      <td>-0.0916</td>\n",
              "      <td>-0.3010</td>\n",
              "      <td>-0.1537</td>\n",
              "      <td>0.2198</td>\n",
              "      <td>...</td>\n",
              "      <td>0.8427</td>\n",
              "      <td>0.1042</td>\n",
              "      <td>0.1403</td>\n",
              "      <td>0.1758</td>\n",
              "      <td>1.2570</td>\n",
              "      <td>-0.5979</td>\n",
              "      <td>1.2250</td>\n",
              "      <td>-0.0553</td>\n",
              "      <td>0.7351</td>\n",
              "      <td>0.5810</td>\n",
              "      <td>0.9590</td>\n",
              "      <td>0.2427</td>\n",
              "      <td>0.0495</td>\n",
              "      <td>0.4141</td>\n",
              "      <td>0.8432</td>\n",
              "      <td>0.6162</td>\n",
              "      <td>-0.7318</td>\n",
              "      <td>1.2120</td>\n",
              "      <td>0.6362</td>\n",
              "      <td>-0.4427</td>\n",
              "      <td>0.1288</td>\n",
              "      <td>1.4840</td>\n",
              "      <td>0.1799</td>\n",
              "      <td>0.5367</td>\n",
              "      <td>-0.1111</td>\n",
              "      <td>-1.0120</td>\n",
              "      <td>0.6685</td>\n",
              "      <td>0.2862</td>\n",
              "      <td>0.2584</td>\n",
              "      <td>0.8076</td>\n",
              "      <td>0.5523</td>\n",
              "      <td>-0.1912</td>\n",
              "      <td>0.6584</td>\n",
              "      <td>-0.3981</td>\n",
              "      <td>0.2139</td>\n",
              "      <td>0.3801</td>\n",
              "      <td>0.4176</td>\n",
              "      <td>0</td>\n",
              "      <td>0</td>\n",
              "      <td>1</td>\n",
              "    </tr>\n",
              "    <tr>\n",
              "      <th>1</th>\n",
              "      <td>id_000779bfc</td>\n",
              "      <td>72</td>\n",
              "      <td>D1</td>\n",
              "      <td>df89a8e5a</td>\n",
              "      <td>0.0743</td>\n",
              "      <td>0.4087</td>\n",
              "      <td>0.2991</td>\n",
              "      <td>0.0604</td>\n",
              "      <td>1.0190</td>\n",
              "      <td>0.5207</td>\n",
              "      <td>0.2341</td>\n",
              "      <td>0.3372</td>\n",
              "      <td>-0.4047</td>\n",
              "      <td>0.8507</td>\n",
              "      <td>-1.1520</td>\n",
              "      <td>-0.4201</td>\n",
              "      <td>-0.0958</td>\n",
              "      <td>0.4590</td>\n",
              "      <td>0.0803</td>\n",
              "      <td>0.2250</td>\n",
              "      <td>0.5293</td>\n",
              "      <td>0.2839</td>\n",
              "      <td>-0.3494</td>\n",
              "      <td>0.2883</td>\n",
              "      <td>0.9449</td>\n",
              "      <td>-0.1646</td>\n",
              "      <td>-0.2657</td>\n",
              "      <td>-0.3372</td>\n",
              "      <td>0.3135</td>\n",
              "      <td>-0.4316</td>\n",
              "      <td>0.4773</td>\n",
              "      <td>0.2075</td>\n",
              "      <td>-0.4216</td>\n",
              "      <td>-0.1161</td>\n",
              "      <td>-0.0499</td>\n",
              "      <td>-0.2627</td>\n",
              "      <td>0.9959</td>\n",
              "      <td>-0.2483</td>\n",
              "      <td>0.2655</td>\n",
              "      <td>-0.2102</td>\n",
              "      <td>...</td>\n",
              "      <td>0.7099</td>\n",
              "      <td>0.2912</td>\n",
              "      <td>0.4151</td>\n",
              "      <td>-0.2840</td>\n",
              "      <td>-0.3104</td>\n",
              "      <td>-0.6373</td>\n",
              "      <td>0.2887</td>\n",
              "      <td>-0.0765</td>\n",
              "      <td>0.2539</td>\n",
              "      <td>0.4443</td>\n",
              "      <td>0.5932</td>\n",
              "      <td>0.2031</td>\n",
              "      <td>0.7639</td>\n",
              "      <td>0.5499</td>\n",
              "      <td>-0.3322</td>\n",
              "      <td>-0.0977</td>\n",
              "      <td>0.4329</td>\n",
              "      <td>-0.2782</td>\n",
              "      <td>0.7827</td>\n",
              "      <td>0.5934</td>\n",
              "      <td>0.3402</td>\n",
              "      <td>0.1499</td>\n",
              "      <td>0.4420</td>\n",
              "      <td>0.9366</td>\n",
              "      <td>0.8193</td>\n",
              "      <td>-0.4236</td>\n",
              "      <td>0.3192</td>\n",
              "      <td>-0.4265</td>\n",
              "      <td>0.7543</td>\n",
              "      <td>0.4708</td>\n",
              "      <td>0.0230</td>\n",
              "      <td>0.2957</td>\n",
              "      <td>0.4899</td>\n",
              "      <td>0.1522</td>\n",
              "      <td>0.1241</td>\n",
              "      <td>0.6077</td>\n",
              "      <td>0.7371</td>\n",
              "      <td>0</td>\n",
              "      <td>0</td>\n",
              "      <td>1</td>\n",
              "    </tr>\n",
              "    <tr>\n",
              "      <th>2</th>\n",
              "      <td>id_000a6266a</td>\n",
              "      <td>48</td>\n",
              "      <td>D1</td>\n",
              "      <td>18bb41b2c</td>\n",
              "      <td>0.6280</td>\n",
              "      <td>0.5817</td>\n",
              "      <td>1.5540</td>\n",
              "      <td>-0.0764</td>\n",
              "      <td>-0.0323</td>\n",
              "      <td>1.2390</td>\n",
              "      <td>0.1715</td>\n",
              "      <td>0.2155</td>\n",
              "      <td>0.0065</td>\n",
              "      <td>1.2300</td>\n",
              "      <td>-0.4797</td>\n",
              "      <td>-0.5631</td>\n",
              "      <td>-0.0366</td>\n",
              "      <td>-1.8300</td>\n",
              "      <td>0.6057</td>\n",
              "      <td>-0.3278</td>\n",
              "      <td>0.6042</td>\n",
              "      <td>-0.3075</td>\n",
              "      <td>-0.1147</td>\n",
              "      <td>-0.0570</td>\n",
              "      <td>-0.0799</td>\n",
              "      <td>-0.8181</td>\n",
              "      <td>-1.5320</td>\n",
              "      <td>0.2307</td>\n",
              "      <td>0.4901</td>\n",
              "      <td>0.4780</td>\n",
              "      <td>-1.3970</td>\n",
              "      <td>4.6240</td>\n",
              "      <td>-0.0437</td>\n",
              "      <td>1.2870</td>\n",
              "      <td>-1.8530</td>\n",
              "      <td>0.6069</td>\n",
              "      <td>0.4290</td>\n",
              "      <td>0.1783</td>\n",
              "      <td>0.0018</td>\n",
              "      <td>-1.1800</td>\n",
              "      <td>...</td>\n",
              "      <td>0.1894</td>\n",
              "      <td>-0.0014</td>\n",
              "      <td>-2.3640</td>\n",
              "      <td>-0.4682</td>\n",
              "      <td>0.1210</td>\n",
              "      <td>-0.5177</td>\n",
              "      <td>-0.0604</td>\n",
              "      <td>0.1682</td>\n",
              "      <td>-0.4436</td>\n",
              "      <td>0.4963</td>\n",
              "      <td>0.1363</td>\n",
              "      <td>0.3335</td>\n",
              "      <td>0.9760</td>\n",
              "      <td>-0.0427</td>\n",
              "      <td>-0.1235</td>\n",
              "      <td>0.0959</td>\n",
              "      <td>0.0690</td>\n",
              "      <td>-0.9416</td>\n",
              "      <td>-0.7548</td>\n",
              "      <td>-0.1109</td>\n",
              "      <td>-0.6272</td>\n",
              "      <td>0.3019</td>\n",
              "      <td>0.1172</td>\n",
              "      <td>0.1093</td>\n",
              "      <td>-0.3113</td>\n",
              "      <td>0.3019</td>\n",
              "      <td>-0.0873</td>\n",
              "      <td>-0.7250</td>\n",
              "      <td>-0.6297</td>\n",
              "      <td>0.6103</td>\n",
              "      <td>0.0223</td>\n",
              "      <td>-1.3240</td>\n",
              "      <td>-0.3174</td>\n",
              "      <td>-0.6417</td>\n",
              "      <td>-0.2187</td>\n",
              "      <td>-1.4080</td>\n",
              "      <td>0.6931</td>\n",
              "      <td>0</td>\n",
              "      <td>0</td>\n",
              "      <td>1</td>\n",
              "    </tr>\n",
              "    <tr>\n",
              "      <th>3</th>\n",
              "      <td>id_0015fd391</td>\n",
              "      <td>48</td>\n",
              "      <td>D1</td>\n",
              "      <td>8c7f86626</td>\n",
              "      <td>-0.5138</td>\n",
              "      <td>-0.2491</td>\n",
              "      <td>-0.2656</td>\n",
              "      <td>0.5288</td>\n",
              "      <td>4.0620</td>\n",
              "      <td>-0.8095</td>\n",
              "      <td>-1.9590</td>\n",
              "      <td>0.1792</td>\n",
              "      <td>-0.1321</td>\n",
              "      <td>-1.0600</td>\n",
              "      <td>-0.8269</td>\n",
              "      <td>-0.3584</td>\n",
              "      <td>-0.8511</td>\n",
              "      <td>-0.5844</td>\n",
              "      <td>-2.5690</td>\n",
              "      <td>0.8183</td>\n",
              "      <td>-0.0532</td>\n",
              "      <td>-0.8554</td>\n",
              "      <td>0.1160</td>\n",
              "      <td>-2.3520</td>\n",
              "      <td>2.1200</td>\n",
              "      <td>-1.1580</td>\n",
              "      <td>-0.7191</td>\n",
              "      <td>-0.8004</td>\n",
              "      <td>-1.4670</td>\n",
              "      <td>-0.0107</td>\n",
              "      <td>-0.8995</td>\n",
              "      <td>0.2406</td>\n",
              "      <td>-0.2479</td>\n",
              "      <td>-1.0890</td>\n",
              "      <td>-0.7575</td>\n",
              "      <td>0.0881</td>\n",
              "      <td>-2.7370</td>\n",
              "      <td>0.8745</td>\n",
              "      <td>0.5787</td>\n",
              "      <td>-1.6740</td>\n",
              "      <td>...</td>\n",
              "      <td>-3.7350</td>\n",
              "      <td>-2.9740</td>\n",
              "      <td>-1.4930</td>\n",
              "      <td>-1.6600</td>\n",
              "      <td>-3.1660</td>\n",
              "      <td>0.2816</td>\n",
              "      <td>-0.2990</td>\n",
              "      <td>-1.1870</td>\n",
              "      <td>-0.5044</td>\n",
              "      <td>-1.7750</td>\n",
              "      <td>-1.6120</td>\n",
              "      <td>-0.9215</td>\n",
              "      <td>-1.0810</td>\n",
              "      <td>-3.0520</td>\n",
              "      <td>-3.4470</td>\n",
              "      <td>-2.7740</td>\n",
              "      <td>-1.8460</td>\n",
              "      <td>-0.5568</td>\n",
              "      <td>-3.3960</td>\n",
              "      <td>-2.9510</td>\n",
              "      <td>-1.1550</td>\n",
              "      <td>-3.2620</td>\n",
              "      <td>-1.5390</td>\n",
              "      <td>-2.4600</td>\n",
              "      <td>-0.9417</td>\n",
              "      <td>-1.5550</td>\n",
              "      <td>0.2431</td>\n",
              "      <td>-2.0990</td>\n",
              "      <td>-0.6441</td>\n",
              "      <td>-5.6300</td>\n",
              "      <td>-1.3780</td>\n",
              "      <td>-0.8632</td>\n",
              "      <td>-1.2880</td>\n",
              "      <td>-1.6210</td>\n",
              "      <td>-0.8784</td>\n",
              "      <td>-0.3876</td>\n",
              "      <td>-0.8154</td>\n",
              "      <td>0</td>\n",
              "      <td>0</td>\n",
              "      <td>1</td>\n",
              "    </tr>\n",
              "    <tr>\n",
              "      <th>4</th>\n",
              "      <td>id_001626bd3</td>\n",
              "      <td>72</td>\n",
              "      <td>D2</td>\n",
              "      <td>7cbed3131</td>\n",
              "      <td>-0.3254</td>\n",
              "      <td>-0.4009</td>\n",
              "      <td>0.9700</td>\n",
              "      <td>0.6919</td>\n",
              "      <td>1.4180</td>\n",
              "      <td>-0.8244</td>\n",
              "      <td>-0.2800</td>\n",
              "      <td>-0.1498</td>\n",
              "      <td>-0.8789</td>\n",
              "      <td>0.8630</td>\n",
              "      <td>-0.2219</td>\n",
              "      <td>-0.5121</td>\n",
              "      <td>-0.9577</td>\n",
              "      <td>1.1750</td>\n",
              "      <td>0.2042</td>\n",
              "      <td>0.1970</td>\n",
              "      <td>0.1244</td>\n",
              "      <td>-1.7090</td>\n",
              "      <td>-0.3543</td>\n",
              "      <td>-0.5160</td>\n",
              "      <td>-0.3330</td>\n",
              "      <td>-0.2685</td>\n",
              "      <td>0.7649</td>\n",
              "      <td>0.2057</td>\n",
              "      <td>1.3720</td>\n",
              "      <td>0.6835</td>\n",
              "      <td>0.8056</td>\n",
              "      <td>-0.3754</td>\n",
              "      <td>-1.2090</td>\n",
              "      <td>0.2965</td>\n",
              "      <td>-0.0712</td>\n",
              "      <td>0.6389</td>\n",
              "      <td>0.6674</td>\n",
              "      <td>-0.0783</td>\n",
              "      <td>1.1740</td>\n",
              "      <td>-0.7110</td>\n",
              "      <td>...</td>\n",
              "      <td>-0.4640</td>\n",
              "      <td>-0.5943</td>\n",
              "      <td>0.3973</td>\n",
              "      <td>0.1500</td>\n",
              "      <td>0.5178</td>\n",
              "      <td>0.5159</td>\n",
              "      <td>0.6091</td>\n",
              "      <td>0.1813</td>\n",
              "      <td>-0.4249</td>\n",
              "      <td>0.7832</td>\n",
              "      <td>0.6529</td>\n",
              "      <td>0.5648</td>\n",
              "      <td>0.4817</td>\n",
              "      <td>0.0587</td>\n",
              "      <td>0.5303</td>\n",
              "      <td>0.6376</td>\n",
              "      <td>-0.3966</td>\n",
              "      <td>-1.4950</td>\n",
              "      <td>-0.9625</td>\n",
              "      <td>-0.0541</td>\n",
              "      <td>0.6273</td>\n",
              "      <td>0.4563</td>\n",
              "      <td>0.0698</td>\n",
              "      <td>0.8134</td>\n",
              "      <td>0.1924</td>\n",
              "      <td>0.6054</td>\n",
              "      <td>-0.1824</td>\n",
              "      <td>0.0042</td>\n",
              "      <td>0.0048</td>\n",
              "      <td>0.6670</td>\n",
              "      <td>1.0690</td>\n",
              "      <td>0.5523</td>\n",
              "      <td>-0.3031</td>\n",
              "      <td>0.1094</td>\n",
              "      <td>0.2885</td>\n",
              "      <td>-0.3786</td>\n",
              "      <td>0.7125</td>\n",
              "      <td>0</td>\n",
              "      <td>0</td>\n",
              "      <td>1</td>\n",
              "    </tr>\n",
              "  </tbody>\n",
              "</table>\n",
              "<p>5 rows × 879 columns</p>\n",
              "</div>"
            ],
            "text/plain": [
              "             id  tempo dose  ... rna_polymerase_inhibitor  com_controle  com_droga\n",
              "0  id_000644bb2     24   D1  ...                        0             0          1\n",
              "1  id_000779bfc     72   D1  ...                        0             0          1\n",
              "2  id_000a6266a     48   D1  ...                        0             0          1\n",
              "3  id_0015fd391     48   D1  ...                        0             0          1\n",
              "4  id_001626bd3     72   D2  ...                        0             0          1\n",
              "\n",
              "[5 rows x 879 columns]"
            ]
          },
          "metadata": {
            "tags": []
          },
          "execution_count": 39
        }
      ]
    },
    {
      "cell_type": "markdown",
      "metadata": {
        "id": "wP_PP983vMj-"
      },
      "source": [
        "Apesar da coluna \"tempo\" poder apresentar uma relação de ordem, usaremos como uma coluna nominal também, portanto quebraremos em 3 colunas usando o *get_dummies()*"
      ]
    },
    {
      "cell_type": "code",
      "metadata": {
        "colab": {
          "base_uri": "https://localhost:8080/"
        },
        "id": "CXf8d8LuvNEU",
        "outputId": "0a4bc96e-efa0-4865-b69f-4d80e82c387d"
      },
      "source": [
        "data = data.join(pd.get_dummies(data['tempo'])).drop('tempo', 1)\n",
        "\n",
        "data.head()"
      ],
      "execution_count": null,
      "outputs": [
        {
          "output_type": "execute_result",
          "data": {
            "text/html": [
              "<div>\n",
              "<style scoped>\n",
              "    .dataframe tbody tr th:only-of-type {\n",
              "        vertical-align: middle;\n",
              "    }\n",
              "\n",
              "    .dataframe tbody tr th {\n",
              "        vertical-align: top;\n",
              "    }\n",
              "\n",
              "    .dataframe thead th {\n",
              "        text-align: right;\n",
              "    }\n",
              "</style>\n",
              "<table border=\"1\" class=\"dataframe\">\n",
              "  <thead>\n",
              "    <tr style=\"text-align: right;\">\n",
              "      <th></th>\n",
              "      <th>id</th>\n",
              "      <th>dose</th>\n",
              "      <th>droga</th>\n",
              "      <th>g_0</th>\n",
              "      <th>g_1</th>\n",
              "      <th>g_2</th>\n",
              "      <th>g_3</th>\n",
              "      <th>g_4</th>\n",
              "      <th>g_5</th>\n",
              "      <th>g_6</th>\n",
              "      <th>g_7</th>\n",
              "      <th>g_8</th>\n",
              "      <th>g_9</th>\n",
              "      <th>g_10</th>\n",
              "      <th>g_11</th>\n",
              "      <th>g_12</th>\n",
              "      <th>g_13</th>\n",
              "      <th>g_14</th>\n",
              "      <th>g_15</th>\n",
              "      <th>g_16</th>\n",
              "      <th>g_17</th>\n",
              "      <th>g_18</th>\n",
              "      <th>g_19</th>\n",
              "      <th>g_20</th>\n",
              "      <th>g_21</th>\n",
              "      <th>g_22</th>\n",
              "      <th>g_23</th>\n",
              "      <th>g_24</th>\n",
              "      <th>g_25</th>\n",
              "      <th>g_26</th>\n",
              "      <th>g_27</th>\n",
              "      <th>g_28</th>\n",
              "      <th>g_29</th>\n",
              "      <th>g_30</th>\n",
              "      <th>g_31</th>\n",
              "      <th>g_32</th>\n",
              "      <th>g_33</th>\n",
              "      <th>g_34</th>\n",
              "      <th>g_35</th>\n",
              "      <th>g_36</th>\n",
              "      <th>...</th>\n",
              "      <th>c_66</th>\n",
              "      <th>c_67</th>\n",
              "      <th>c_68</th>\n",
              "      <th>c_69</th>\n",
              "      <th>c_70</th>\n",
              "      <th>c_71</th>\n",
              "      <th>c_72</th>\n",
              "      <th>c_73</th>\n",
              "      <th>c_74</th>\n",
              "      <th>c_75</th>\n",
              "      <th>c_76</th>\n",
              "      <th>c_77</th>\n",
              "      <th>c_78</th>\n",
              "      <th>c_79</th>\n",
              "      <th>c_80</th>\n",
              "      <th>c_81</th>\n",
              "      <th>c_82</th>\n",
              "      <th>c_83</th>\n",
              "      <th>c_84</th>\n",
              "      <th>c_85</th>\n",
              "      <th>c_86</th>\n",
              "      <th>c_87</th>\n",
              "      <th>c_88</th>\n",
              "      <th>c_89</th>\n",
              "      <th>c_90</th>\n",
              "      <th>c_91</th>\n",
              "      <th>c_92</th>\n",
              "      <th>c_93</th>\n",
              "      <th>c_94</th>\n",
              "      <th>c_95</th>\n",
              "      <th>c_96</th>\n",
              "      <th>c_97</th>\n",
              "      <th>c_98</th>\n",
              "      <th>c_99</th>\n",
              "      <th>rna_polymerase_inhibitor</th>\n",
              "      <th>com_controle</th>\n",
              "      <th>com_droga</th>\n",
              "      <th>24</th>\n",
              "      <th>48</th>\n",
              "      <th>72</th>\n",
              "    </tr>\n",
              "  </thead>\n",
              "  <tbody>\n",
              "    <tr>\n",
              "      <th>0</th>\n",
              "      <td>id_000644bb2</td>\n",
              "      <td>D1</td>\n",
              "      <td>b68db1d53</td>\n",
              "      <td>1.0620</td>\n",
              "      <td>0.5577</td>\n",
              "      <td>-0.2479</td>\n",
              "      <td>-0.6208</td>\n",
              "      <td>-0.1944</td>\n",
              "      <td>-1.0120</td>\n",
              "      <td>-1.0220</td>\n",
              "      <td>-0.0326</td>\n",
              "      <td>0.5548</td>\n",
              "      <td>-0.0921</td>\n",
              "      <td>1.1830</td>\n",
              "      <td>0.1530</td>\n",
              "      <td>0.5574</td>\n",
              "      <td>-0.4015</td>\n",
              "      <td>0.1789</td>\n",
              "      <td>-0.6528</td>\n",
              "      <td>-0.7969</td>\n",
              "      <td>0.6342</td>\n",
              "      <td>0.1778</td>\n",
              "      <td>-0.3694</td>\n",
              "      <td>-0.5688</td>\n",
              "      <td>-1.1360</td>\n",
              "      <td>-1.1880</td>\n",
              "      <td>0.6940</td>\n",
              "      <td>0.4393</td>\n",
              "      <td>0.2664</td>\n",
              "      <td>0.1907</td>\n",
              "      <td>0.1628</td>\n",
              "      <td>-0.2853</td>\n",
              "      <td>0.5819</td>\n",
              "      <td>0.2934</td>\n",
              "      <td>-0.5584</td>\n",
              "      <td>-0.0916</td>\n",
              "      <td>-0.3010</td>\n",
              "      <td>-0.1537</td>\n",
              "      <td>0.2198</td>\n",
              "      <td>0.2965</td>\n",
              "      <td>...</td>\n",
              "      <td>0.1758</td>\n",
              "      <td>1.2570</td>\n",
              "      <td>-0.5979</td>\n",
              "      <td>1.2250</td>\n",
              "      <td>-0.0553</td>\n",
              "      <td>0.7351</td>\n",
              "      <td>0.5810</td>\n",
              "      <td>0.9590</td>\n",
              "      <td>0.2427</td>\n",
              "      <td>0.0495</td>\n",
              "      <td>0.4141</td>\n",
              "      <td>0.8432</td>\n",
              "      <td>0.6162</td>\n",
              "      <td>-0.7318</td>\n",
              "      <td>1.2120</td>\n",
              "      <td>0.6362</td>\n",
              "      <td>-0.4427</td>\n",
              "      <td>0.1288</td>\n",
              "      <td>1.4840</td>\n",
              "      <td>0.1799</td>\n",
              "      <td>0.5367</td>\n",
              "      <td>-0.1111</td>\n",
              "      <td>-1.0120</td>\n",
              "      <td>0.6685</td>\n",
              "      <td>0.2862</td>\n",
              "      <td>0.2584</td>\n",
              "      <td>0.8076</td>\n",
              "      <td>0.5523</td>\n",
              "      <td>-0.1912</td>\n",
              "      <td>0.6584</td>\n",
              "      <td>-0.3981</td>\n",
              "      <td>0.2139</td>\n",
              "      <td>0.3801</td>\n",
              "      <td>0.4176</td>\n",
              "      <td>0</td>\n",
              "      <td>0</td>\n",
              "      <td>1</td>\n",
              "      <td>1</td>\n",
              "      <td>0</td>\n",
              "      <td>0</td>\n",
              "    </tr>\n",
              "    <tr>\n",
              "      <th>1</th>\n",
              "      <td>id_000779bfc</td>\n",
              "      <td>D1</td>\n",
              "      <td>df89a8e5a</td>\n",
              "      <td>0.0743</td>\n",
              "      <td>0.4087</td>\n",
              "      <td>0.2991</td>\n",
              "      <td>0.0604</td>\n",
              "      <td>1.0190</td>\n",
              "      <td>0.5207</td>\n",
              "      <td>0.2341</td>\n",
              "      <td>0.3372</td>\n",
              "      <td>-0.4047</td>\n",
              "      <td>0.8507</td>\n",
              "      <td>-1.1520</td>\n",
              "      <td>-0.4201</td>\n",
              "      <td>-0.0958</td>\n",
              "      <td>0.4590</td>\n",
              "      <td>0.0803</td>\n",
              "      <td>0.2250</td>\n",
              "      <td>0.5293</td>\n",
              "      <td>0.2839</td>\n",
              "      <td>-0.3494</td>\n",
              "      <td>0.2883</td>\n",
              "      <td>0.9449</td>\n",
              "      <td>-0.1646</td>\n",
              "      <td>-0.2657</td>\n",
              "      <td>-0.3372</td>\n",
              "      <td>0.3135</td>\n",
              "      <td>-0.4316</td>\n",
              "      <td>0.4773</td>\n",
              "      <td>0.2075</td>\n",
              "      <td>-0.4216</td>\n",
              "      <td>-0.1161</td>\n",
              "      <td>-0.0499</td>\n",
              "      <td>-0.2627</td>\n",
              "      <td>0.9959</td>\n",
              "      <td>-0.2483</td>\n",
              "      <td>0.2655</td>\n",
              "      <td>-0.2102</td>\n",
              "      <td>0.1656</td>\n",
              "      <td>...</td>\n",
              "      <td>-0.2840</td>\n",
              "      <td>-0.3104</td>\n",
              "      <td>-0.6373</td>\n",
              "      <td>0.2887</td>\n",
              "      <td>-0.0765</td>\n",
              "      <td>0.2539</td>\n",
              "      <td>0.4443</td>\n",
              "      <td>0.5932</td>\n",
              "      <td>0.2031</td>\n",
              "      <td>0.7639</td>\n",
              "      <td>0.5499</td>\n",
              "      <td>-0.3322</td>\n",
              "      <td>-0.0977</td>\n",
              "      <td>0.4329</td>\n",
              "      <td>-0.2782</td>\n",
              "      <td>0.7827</td>\n",
              "      <td>0.5934</td>\n",
              "      <td>0.3402</td>\n",
              "      <td>0.1499</td>\n",
              "      <td>0.4420</td>\n",
              "      <td>0.9366</td>\n",
              "      <td>0.8193</td>\n",
              "      <td>-0.4236</td>\n",
              "      <td>0.3192</td>\n",
              "      <td>-0.4265</td>\n",
              "      <td>0.7543</td>\n",
              "      <td>0.4708</td>\n",
              "      <td>0.0230</td>\n",
              "      <td>0.2957</td>\n",
              "      <td>0.4899</td>\n",
              "      <td>0.1522</td>\n",
              "      <td>0.1241</td>\n",
              "      <td>0.6077</td>\n",
              "      <td>0.7371</td>\n",
              "      <td>0</td>\n",
              "      <td>0</td>\n",
              "      <td>1</td>\n",
              "      <td>0</td>\n",
              "      <td>0</td>\n",
              "      <td>1</td>\n",
              "    </tr>\n",
              "    <tr>\n",
              "      <th>2</th>\n",
              "      <td>id_000a6266a</td>\n",
              "      <td>D1</td>\n",
              "      <td>18bb41b2c</td>\n",
              "      <td>0.6280</td>\n",
              "      <td>0.5817</td>\n",
              "      <td>1.5540</td>\n",
              "      <td>-0.0764</td>\n",
              "      <td>-0.0323</td>\n",
              "      <td>1.2390</td>\n",
              "      <td>0.1715</td>\n",
              "      <td>0.2155</td>\n",
              "      <td>0.0065</td>\n",
              "      <td>1.2300</td>\n",
              "      <td>-0.4797</td>\n",
              "      <td>-0.5631</td>\n",
              "      <td>-0.0366</td>\n",
              "      <td>-1.8300</td>\n",
              "      <td>0.6057</td>\n",
              "      <td>-0.3278</td>\n",
              "      <td>0.6042</td>\n",
              "      <td>-0.3075</td>\n",
              "      <td>-0.1147</td>\n",
              "      <td>-0.0570</td>\n",
              "      <td>-0.0799</td>\n",
              "      <td>-0.8181</td>\n",
              "      <td>-1.5320</td>\n",
              "      <td>0.2307</td>\n",
              "      <td>0.4901</td>\n",
              "      <td>0.4780</td>\n",
              "      <td>-1.3970</td>\n",
              "      <td>4.6240</td>\n",
              "      <td>-0.0437</td>\n",
              "      <td>1.2870</td>\n",
              "      <td>-1.8530</td>\n",
              "      <td>0.6069</td>\n",
              "      <td>0.4290</td>\n",
              "      <td>0.1783</td>\n",
              "      <td>0.0018</td>\n",
              "      <td>-1.1800</td>\n",
              "      <td>0.1256</td>\n",
              "      <td>...</td>\n",
              "      <td>-0.4682</td>\n",
              "      <td>0.1210</td>\n",
              "      <td>-0.5177</td>\n",
              "      <td>-0.0604</td>\n",
              "      <td>0.1682</td>\n",
              "      <td>-0.4436</td>\n",
              "      <td>0.4963</td>\n",
              "      <td>0.1363</td>\n",
              "      <td>0.3335</td>\n",
              "      <td>0.9760</td>\n",
              "      <td>-0.0427</td>\n",
              "      <td>-0.1235</td>\n",
              "      <td>0.0959</td>\n",
              "      <td>0.0690</td>\n",
              "      <td>-0.9416</td>\n",
              "      <td>-0.7548</td>\n",
              "      <td>-0.1109</td>\n",
              "      <td>-0.6272</td>\n",
              "      <td>0.3019</td>\n",
              "      <td>0.1172</td>\n",
              "      <td>0.1093</td>\n",
              "      <td>-0.3113</td>\n",
              "      <td>0.3019</td>\n",
              "      <td>-0.0873</td>\n",
              "      <td>-0.7250</td>\n",
              "      <td>-0.6297</td>\n",
              "      <td>0.6103</td>\n",
              "      <td>0.0223</td>\n",
              "      <td>-1.3240</td>\n",
              "      <td>-0.3174</td>\n",
              "      <td>-0.6417</td>\n",
              "      <td>-0.2187</td>\n",
              "      <td>-1.4080</td>\n",
              "      <td>0.6931</td>\n",
              "      <td>0</td>\n",
              "      <td>0</td>\n",
              "      <td>1</td>\n",
              "      <td>0</td>\n",
              "      <td>1</td>\n",
              "      <td>0</td>\n",
              "    </tr>\n",
              "    <tr>\n",
              "      <th>3</th>\n",
              "      <td>id_0015fd391</td>\n",
              "      <td>D1</td>\n",
              "      <td>8c7f86626</td>\n",
              "      <td>-0.5138</td>\n",
              "      <td>-0.2491</td>\n",
              "      <td>-0.2656</td>\n",
              "      <td>0.5288</td>\n",
              "      <td>4.0620</td>\n",
              "      <td>-0.8095</td>\n",
              "      <td>-1.9590</td>\n",
              "      <td>0.1792</td>\n",
              "      <td>-0.1321</td>\n",
              "      <td>-1.0600</td>\n",
              "      <td>-0.8269</td>\n",
              "      <td>-0.3584</td>\n",
              "      <td>-0.8511</td>\n",
              "      <td>-0.5844</td>\n",
              "      <td>-2.5690</td>\n",
              "      <td>0.8183</td>\n",
              "      <td>-0.0532</td>\n",
              "      <td>-0.8554</td>\n",
              "      <td>0.1160</td>\n",
              "      <td>-2.3520</td>\n",
              "      <td>2.1200</td>\n",
              "      <td>-1.1580</td>\n",
              "      <td>-0.7191</td>\n",
              "      <td>-0.8004</td>\n",
              "      <td>-1.4670</td>\n",
              "      <td>-0.0107</td>\n",
              "      <td>-0.8995</td>\n",
              "      <td>0.2406</td>\n",
              "      <td>-0.2479</td>\n",
              "      <td>-1.0890</td>\n",
              "      <td>-0.7575</td>\n",
              "      <td>0.0881</td>\n",
              "      <td>-2.7370</td>\n",
              "      <td>0.8745</td>\n",
              "      <td>0.5787</td>\n",
              "      <td>-1.6740</td>\n",
              "      <td>-1.6720</td>\n",
              "      <td>...</td>\n",
              "      <td>-1.6600</td>\n",
              "      <td>-3.1660</td>\n",
              "      <td>0.2816</td>\n",
              "      <td>-0.2990</td>\n",
              "      <td>-1.1870</td>\n",
              "      <td>-0.5044</td>\n",
              "      <td>-1.7750</td>\n",
              "      <td>-1.6120</td>\n",
              "      <td>-0.9215</td>\n",
              "      <td>-1.0810</td>\n",
              "      <td>-3.0520</td>\n",
              "      <td>-3.4470</td>\n",
              "      <td>-2.7740</td>\n",
              "      <td>-1.8460</td>\n",
              "      <td>-0.5568</td>\n",
              "      <td>-3.3960</td>\n",
              "      <td>-2.9510</td>\n",
              "      <td>-1.1550</td>\n",
              "      <td>-3.2620</td>\n",
              "      <td>-1.5390</td>\n",
              "      <td>-2.4600</td>\n",
              "      <td>-0.9417</td>\n",
              "      <td>-1.5550</td>\n",
              "      <td>0.2431</td>\n",
              "      <td>-2.0990</td>\n",
              "      <td>-0.6441</td>\n",
              "      <td>-5.6300</td>\n",
              "      <td>-1.3780</td>\n",
              "      <td>-0.8632</td>\n",
              "      <td>-1.2880</td>\n",
              "      <td>-1.6210</td>\n",
              "      <td>-0.8784</td>\n",
              "      <td>-0.3876</td>\n",
              "      <td>-0.8154</td>\n",
              "      <td>0</td>\n",
              "      <td>0</td>\n",
              "      <td>1</td>\n",
              "      <td>0</td>\n",
              "      <td>1</td>\n",
              "      <td>0</td>\n",
              "    </tr>\n",
              "    <tr>\n",
              "      <th>4</th>\n",
              "      <td>id_001626bd3</td>\n",
              "      <td>D2</td>\n",
              "      <td>7cbed3131</td>\n",
              "      <td>-0.3254</td>\n",
              "      <td>-0.4009</td>\n",
              "      <td>0.9700</td>\n",
              "      <td>0.6919</td>\n",
              "      <td>1.4180</td>\n",
              "      <td>-0.8244</td>\n",
              "      <td>-0.2800</td>\n",
              "      <td>-0.1498</td>\n",
              "      <td>-0.8789</td>\n",
              "      <td>0.8630</td>\n",
              "      <td>-0.2219</td>\n",
              "      <td>-0.5121</td>\n",
              "      <td>-0.9577</td>\n",
              "      <td>1.1750</td>\n",
              "      <td>0.2042</td>\n",
              "      <td>0.1970</td>\n",
              "      <td>0.1244</td>\n",
              "      <td>-1.7090</td>\n",
              "      <td>-0.3543</td>\n",
              "      <td>-0.5160</td>\n",
              "      <td>-0.3330</td>\n",
              "      <td>-0.2685</td>\n",
              "      <td>0.7649</td>\n",
              "      <td>0.2057</td>\n",
              "      <td>1.3720</td>\n",
              "      <td>0.6835</td>\n",
              "      <td>0.8056</td>\n",
              "      <td>-0.3754</td>\n",
              "      <td>-1.2090</td>\n",
              "      <td>0.2965</td>\n",
              "      <td>-0.0712</td>\n",
              "      <td>0.6389</td>\n",
              "      <td>0.6674</td>\n",
              "      <td>-0.0783</td>\n",
              "      <td>1.1740</td>\n",
              "      <td>-0.7110</td>\n",
              "      <td>-1.4470</td>\n",
              "      <td>...</td>\n",
              "      <td>0.1500</td>\n",
              "      <td>0.5178</td>\n",
              "      <td>0.5159</td>\n",
              "      <td>0.6091</td>\n",
              "      <td>0.1813</td>\n",
              "      <td>-0.4249</td>\n",
              "      <td>0.7832</td>\n",
              "      <td>0.6529</td>\n",
              "      <td>0.5648</td>\n",
              "      <td>0.4817</td>\n",
              "      <td>0.0587</td>\n",
              "      <td>0.5303</td>\n",
              "      <td>0.6376</td>\n",
              "      <td>-0.3966</td>\n",
              "      <td>-1.4950</td>\n",
              "      <td>-0.9625</td>\n",
              "      <td>-0.0541</td>\n",
              "      <td>0.6273</td>\n",
              "      <td>0.4563</td>\n",
              "      <td>0.0698</td>\n",
              "      <td>0.8134</td>\n",
              "      <td>0.1924</td>\n",
              "      <td>0.6054</td>\n",
              "      <td>-0.1824</td>\n",
              "      <td>0.0042</td>\n",
              "      <td>0.0048</td>\n",
              "      <td>0.6670</td>\n",
              "      <td>1.0690</td>\n",
              "      <td>0.5523</td>\n",
              "      <td>-0.3031</td>\n",
              "      <td>0.1094</td>\n",
              "      <td>0.2885</td>\n",
              "      <td>-0.3786</td>\n",
              "      <td>0.7125</td>\n",
              "      <td>0</td>\n",
              "      <td>0</td>\n",
              "      <td>1</td>\n",
              "      <td>0</td>\n",
              "      <td>0</td>\n",
              "      <td>1</td>\n",
              "    </tr>\n",
              "  </tbody>\n",
              "</table>\n",
              "<p>5 rows × 881 columns</p>\n",
              "</div>"
            ],
            "text/plain": [
              "             id dose      droga     g_0  ...  com_droga  24  48  72\n",
              "0  id_000644bb2   D1  b68db1d53  1.0620  ...          1   1   0   0\n",
              "1  id_000779bfc   D1  df89a8e5a  0.0743  ...          1   0   0   1\n",
              "2  id_000a6266a   D1  18bb41b2c  0.6280  ...          1   0   1   0\n",
              "3  id_0015fd391   D1  8c7f86626 -0.5138  ...          1   0   1   0\n",
              "4  id_001626bd3   D2  7cbed3131 -0.3254  ...          1   0   0   1\n",
              "\n",
              "[5 rows x 881 columns]"
            ]
          },
          "metadata": {
            "tags": []
          },
          "execution_count": 40
        }
      ]
    },
    {
      "cell_type": "markdown",
      "metadata": {
        "id": "z3QbCYgOgDIb"
      },
      "source": [
        "Para a coluna \"dose\" podemos usar a função *LabelEncoder()* já que trata de uma coluna com categorias ordinais. "
      ]
    },
    {
      "cell_type": "code",
      "metadata": {
        "colab": {
          "base_uri": "https://localhost:8080/"
        },
        "id": "Yulj1j7EhfWi",
        "outputId": "f396853f-01ae-4c61-ff01-8e76f8448d52"
      },
      "source": [
        "from sklearn.preprocessing import LabelEncoder\n",
        "\n",
        "le = LabelEncoder()\n",
        "\n",
        "data['dose_num'] = le.fit_transform(data['dose'])\n",
        "data.drop('dose', 1, inplace = True)\n",
        "\n",
        "data.head()"
      ],
      "execution_count": null,
      "outputs": [
        {
          "output_type": "execute_result",
          "data": {
            "text/html": [
              "<div>\n",
              "<style scoped>\n",
              "    .dataframe tbody tr th:only-of-type {\n",
              "        vertical-align: middle;\n",
              "    }\n",
              "\n",
              "    .dataframe tbody tr th {\n",
              "        vertical-align: top;\n",
              "    }\n",
              "\n",
              "    .dataframe thead th {\n",
              "        text-align: right;\n",
              "    }\n",
              "</style>\n",
              "<table border=\"1\" class=\"dataframe\">\n",
              "  <thead>\n",
              "    <tr style=\"text-align: right;\">\n",
              "      <th></th>\n",
              "      <th>id</th>\n",
              "      <th>droga</th>\n",
              "      <th>g_0</th>\n",
              "      <th>g_1</th>\n",
              "      <th>g_2</th>\n",
              "      <th>g_3</th>\n",
              "      <th>g_4</th>\n",
              "      <th>g_5</th>\n",
              "      <th>g_6</th>\n",
              "      <th>g_7</th>\n",
              "      <th>g_8</th>\n",
              "      <th>g_9</th>\n",
              "      <th>g_10</th>\n",
              "      <th>g_11</th>\n",
              "      <th>g_12</th>\n",
              "      <th>g_13</th>\n",
              "      <th>g_14</th>\n",
              "      <th>g_15</th>\n",
              "      <th>g_16</th>\n",
              "      <th>g_17</th>\n",
              "      <th>g_18</th>\n",
              "      <th>g_19</th>\n",
              "      <th>g_20</th>\n",
              "      <th>g_21</th>\n",
              "      <th>g_22</th>\n",
              "      <th>g_23</th>\n",
              "      <th>g_24</th>\n",
              "      <th>g_25</th>\n",
              "      <th>g_26</th>\n",
              "      <th>g_27</th>\n",
              "      <th>g_28</th>\n",
              "      <th>g_29</th>\n",
              "      <th>g_30</th>\n",
              "      <th>g_31</th>\n",
              "      <th>g_32</th>\n",
              "      <th>g_33</th>\n",
              "      <th>g_34</th>\n",
              "      <th>g_35</th>\n",
              "      <th>g_36</th>\n",
              "      <th>g_37</th>\n",
              "      <th>...</th>\n",
              "      <th>c_67</th>\n",
              "      <th>c_68</th>\n",
              "      <th>c_69</th>\n",
              "      <th>c_70</th>\n",
              "      <th>c_71</th>\n",
              "      <th>c_72</th>\n",
              "      <th>c_73</th>\n",
              "      <th>c_74</th>\n",
              "      <th>c_75</th>\n",
              "      <th>c_76</th>\n",
              "      <th>c_77</th>\n",
              "      <th>c_78</th>\n",
              "      <th>c_79</th>\n",
              "      <th>c_80</th>\n",
              "      <th>c_81</th>\n",
              "      <th>c_82</th>\n",
              "      <th>c_83</th>\n",
              "      <th>c_84</th>\n",
              "      <th>c_85</th>\n",
              "      <th>c_86</th>\n",
              "      <th>c_87</th>\n",
              "      <th>c_88</th>\n",
              "      <th>c_89</th>\n",
              "      <th>c_90</th>\n",
              "      <th>c_91</th>\n",
              "      <th>c_92</th>\n",
              "      <th>c_93</th>\n",
              "      <th>c_94</th>\n",
              "      <th>c_95</th>\n",
              "      <th>c_96</th>\n",
              "      <th>c_97</th>\n",
              "      <th>c_98</th>\n",
              "      <th>c_99</th>\n",
              "      <th>rna_polymerase_inhibitor</th>\n",
              "      <th>com_controle</th>\n",
              "      <th>com_droga</th>\n",
              "      <th>24</th>\n",
              "      <th>48</th>\n",
              "      <th>72</th>\n",
              "      <th>dose_num</th>\n",
              "    </tr>\n",
              "  </thead>\n",
              "  <tbody>\n",
              "    <tr>\n",
              "      <th>0</th>\n",
              "      <td>id_000644bb2</td>\n",
              "      <td>b68db1d53</td>\n",
              "      <td>1.0620</td>\n",
              "      <td>0.5577</td>\n",
              "      <td>-0.2479</td>\n",
              "      <td>-0.6208</td>\n",
              "      <td>-0.1944</td>\n",
              "      <td>-1.0120</td>\n",
              "      <td>-1.0220</td>\n",
              "      <td>-0.0326</td>\n",
              "      <td>0.5548</td>\n",
              "      <td>-0.0921</td>\n",
              "      <td>1.1830</td>\n",
              "      <td>0.1530</td>\n",
              "      <td>0.5574</td>\n",
              "      <td>-0.4015</td>\n",
              "      <td>0.1789</td>\n",
              "      <td>-0.6528</td>\n",
              "      <td>-0.7969</td>\n",
              "      <td>0.6342</td>\n",
              "      <td>0.1778</td>\n",
              "      <td>-0.3694</td>\n",
              "      <td>-0.5688</td>\n",
              "      <td>-1.1360</td>\n",
              "      <td>-1.1880</td>\n",
              "      <td>0.6940</td>\n",
              "      <td>0.4393</td>\n",
              "      <td>0.2664</td>\n",
              "      <td>0.1907</td>\n",
              "      <td>0.1628</td>\n",
              "      <td>-0.2853</td>\n",
              "      <td>0.5819</td>\n",
              "      <td>0.2934</td>\n",
              "      <td>-0.5584</td>\n",
              "      <td>-0.0916</td>\n",
              "      <td>-0.3010</td>\n",
              "      <td>-0.1537</td>\n",
              "      <td>0.2198</td>\n",
              "      <td>0.2965</td>\n",
              "      <td>-0.5055</td>\n",
              "      <td>...</td>\n",
              "      <td>1.2570</td>\n",
              "      <td>-0.5979</td>\n",
              "      <td>1.2250</td>\n",
              "      <td>-0.0553</td>\n",
              "      <td>0.7351</td>\n",
              "      <td>0.5810</td>\n",
              "      <td>0.9590</td>\n",
              "      <td>0.2427</td>\n",
              "      <td>0.0495</td>\n",
              "      <td>0.4141</td>\n",
              "      <td>0.8432</td>\n",
              "      <td>0.6162</td>\n",
              "      <td>-0.7318</td>\n",
              "      <td>1.2120</td>\n",
              "      <td>0.6362</td>\n",
              "      <td>-0.4427</td>\n",
              "      <td>0.1288</td>\n",
              "      <td>1.4840</td>\n",
              "      <td>0.1799</td>\n",
              "      <td>0.5367</td>\n",
              "      <td>-0.1111</td>\n",
              "      <td>-1.0120</td>\n",
              "      <td>0.6685</td>\n",
              "      <td>0.2862</td>\n",
              "      <td>0.2584</td>\n",
              "      <td>0.8076</td>\n",
              "      <td>0.5523</td>\n",
              "      <td>-0.1912</td>\n",
              "      <td>0.6584</td>\n",
              "      <td>-0.3981</td>\n",
              "      <td>0.2139</td>\n",
              "      <td>0.3801</td>\n",
              "      <td>0.4176</td>\n",
              "      <td>0</td>\n",
              "      <td>0</td>\n",
              "      <td>1</td>\n",
              "      <td>1</td>\n",
              "      <td>0</td>\n",
              "      <td>0</td>\n",
              "      <td>0</td>\n",
              "    </tr>\n",
              "    <tr>\n",
              "      <th>1</th>\n",
              "      <td>id_000779bfc</td>\n",
              "      <td>df89a8e5a</td>\n",
              "      <td>0.0743</td>\n",
              "      <td>0.4087</td>\n",
              "      <td>0.2991</td>\n",
              "      <td>0.0604</td>\n",
              "      <td>1.0190</td>\n",
              "      <td>0.5207</td>\n",
              "      <td>0.2341</td>\n",
              "      <td>0.3372</td>\n",
              "      <td>-0.4047</td>\n",
              "      <td>0.8507</td>\n",
              "      <td>-1.1520</td>\n",
              "      <td>-0.4201</td>\n",
              "      <td>-0.0958</td>\n",
              "      <td>0.4590</td>\n",
              "      <td>0.0803</td>\n",
              "      <td>0.2250</td>\n",
              "      <td>0.5293</td>\n",
              "      <td>0.2839</td>\n",
              "      <td>-0.3494</td>\n",
              "      <td>0.2883</td>\n",
              "      <td>0.9449</td>\n",
              "      <td>-0.1646</td>\n",
              "      <td>-0.2657</td>\n",
              "      <td>-0.3372</td>\n",
              "      <td>0.3135</td>\n",
              "      <td>-0.4316</td>\n",
              "      <td>0.4773</td>\n",
              "      <td>0.2075</td>\n",
              "      <td>-0.4216</td>\n",
              "      <td>-0.1161</td>\n",
              "      <td>-0.0499</td>\n",
              "      <td>-0.2627</td>\n",
              "      <td>0.9959</td>\n",
              "      <td>-0.2483</td>\n",
              "      <td>0.2655</td>\n",
              "      <td>-0.2102</td>\n",
              "      <td>0.1656</td>\n",
              "      <td>0.5300</td>\n",
              "      <td>...</td>\n",
              "      <td>-0.3104</td>\n",
              "      <td>-0.6373</td>\n",
              "      <td>0.2887</td>\n",
              "      <td>-0.0765</td>\n",
              "      <td>0.2539</td>\n",
              "      <td>0.4443</td>\n",
              "      <td>0.5932</td>\n",
              "      <td>0.2031</td>\n",
              "      <td>0.7639</td>\n",
              "      <td>0.5499</td>\n",
              "      <td>-0.3322</td>\n",
              "      <td>-0.0977</td>\n",
              "      <td>0.4329</td>\n",
              "      <td>-0.2782</td>\n",
              "      <td>0.7827</td>\n",
              "      <td>0.5934</td>\n",
              "      <td>0.3402</td>\n",
              "      <td>0.1499</td>\n",
              "      <td>0.4420</td>\n",
              "      <td>0.9366</td>\n",
              "      <td>0.8193</td>\n",
              "      <td>-0.4236</td>\n",
              "      <td>0.3192</td>\n",
              "      <td>-0.4265</td>\n",
              "      <td>0.7543</td>\n",
              "      <td>0.4708</td>\n",
              "      <td>0.0230</td>\n",
              "      <td>0.2957</td>\n",
              "      <td>0.4899</td>\n",
              "      <td>0.1522</td>\n",
              "      <td>0.1241</td>\n",
              "      <td>0.6077</td>\n",
              "      <td>0.7371</td>\n",
              "      <td>0</td>\n",
              "      <td>0</td>\n",
              "      <td>1</td>\n",
              "      <td>0</td>\n",
              "      <td>0</td>\n",
              "      <td>1</td>\n",
              "      <td>0</td>\n",
              "    </tr>\n",
              "    <tr>\n",
              "      <th>2</th>\n",
              "      <td>id_000a6266a</td>\n",
              "      <td>18bb41b2c</td>\n",
              "      <td>0.6280</td>\n",
              "      <td>0.5817</td>\n",
              "      <td>1.5540</td>\n",
              "      <td>-0.0764</td>\n",
              "      <td>-0.0323</td>\n",
              "      <td>1.2390</td>\n",
              "      <td>0.1715</td>\n",
              "      <td>0.2155</td>\n",
              "      <td>0.0065</td>\n",
              "      <td>1.2300</td>\n",
              "      <td>-0.4797</td>\n",
              "      <td>-0.5631</td>\n",
              "      <td>-0.0366</td>\n",
              "      <td>-1.8300</td>\n",
              "      <td>0.6057</td>\n",
              "      <td>-0.3278</td>\n",
              "      <td>0.6042</td>\n",
              "      <td>-0.3075</td>\n",
              "      <td>-0.1147</td>\n",
              "      <td>-0.0570</td>\n",
              "      <td>-0.0799</td>\n",
              "      <td>-0.8181</td>\n",
              "      <td>-1.5320</td>\n",
              "      <td>0.2307</td>\n",
              "      <td>0.4901</td>\n",
              "      <td>0.4780</td>\n",
              "      <td>-1.3970</td>\n",
              "      <td>4.6240</td>\n",
              "      <td>-0.0437</td>\n",
              "      <td>1.2870</td>\n",
              "      <td>-1.8530</td>\n",
              "      <td>0.6069</td>\n",
              "      <td>0.4290</td>\n",
              "      <td>0.1783</td>\n",
              "      <td>0.0018</td>\n",
              "      <td>-1.1800</td>\n",
              "      <td>0.1256</td>\n",
              "      <td>-0.1219</td>\n",
              "      <td>...</td>\n",
              "      <td>0.1210</td>\n",
              "      <td>-0.5177</td>\n",
              "      <td>-0.0604</td>\n",
              "      <td>0.1682</td>\n",
              "      <td>-0.4436</td>\n",
              "      <td>0.4963</td>\n",
              "      <td>0.1363</td>\n",
              "      <td>0.3335</td>\n",
              "      <td>0.9760</td>\n",
              "      <td>-0.0427</td>\n",
              "      <td>-0.1235</td>\n",
              "      <td>0.0959</td>\n",
              "      <td>0.0690</td>\n",
              "      <td>-0.9416</td>\n",
              "      <td>-0.7548</td>\n",
              "      <td>-0.1109</td>\n",
              "      <td>-0.6272</td>\n",
              "      <td>0.3019</td>\n",
              "      <td>0.1172</td>\n",
              "      <td>0.1093</td>\n",
              "      <td>-0.3113</td>\n",
              "      <td>0.3019</td>\n",
              "      <td>-0.0873</td>\n",
              "      <td>-0.7250</td>\n",
              "      <td>-0.6297</td>\n",
              "      <td>0.6103</td>\n",
              "      <td>0.0223</td>\n",
              "      <td>-1.3240</td>\n",
              "      <td>-0.3174</td>\n",
              "      <td>-0.6417</td>\n",
              "      <td>-0.2187</td>\n",
              "      <td>-1.4080</td>\n",
              "      <td>0.6931</td>\n",
              "      <td>0</td>\n",
              "      <td>0</td>\n",
              "      <td>1</td>\n",
              "      <td>0</td>\n",
              "      <td>1</td>\n",
              "      <td>0</td>\n",
              "      <td>0</td>\n",
              "    </tr>\n",
              "    <tr>\n",
              "      <th>3</th>\n",
              "      <td>id_0015fd391</td>\n",
              "      <td>8c7f86626</td>\n",
              "      <td>-0.5138</td>\n",
              "      <td>-0.2491</td>\n",
              "      <td>-0.2656</td>\n",
              "      <td>0.5288</td>\n",
              "      <td>4.0620</td>\n",
              "      <td>-0.8095</td>\n",
              "      <td>-1.9590</td>\n",
              "      <td>0.1792</td>\n",
              "      <td>-0.1321</td>\n",
              "      <td>-1.0600</td>\n",
              "      <td>-0.8269</td>\n",
              "      <td>-0.3584</td>\n",
              "      <td>-0.8511</td>\n",
              "      <td>-0.5844</td>\n",
              "      <td>-2.5690</td>\n",
              "      <td>0.8183</td>\n",
              "      <td>-0.0532</td>\n",
              "      <td>-0.8554</td>\n",
              "      <td>0.1160</td>\n",
              "      <td>-2.3520</td>\n",
              "      <td>2.1200</td>\n",
              "      <td>-1.1580</td>\n",
              "      <td>-0.7191</td>\n",
              "      <td>-0.8004</td>\n",
              "      <td>-1.4670</td>\n",
              "      <td>-0.0107</td>\n",
              "      <td>-0.8995</td>\n",
              "      <td>0.2406</td>\n",
              "      <td>-0.2479</td>\n",
              "      <td>-1.0890</td>\n",
              "      <td>-0.7575</td>\n",
              "      <td>0.0881</td>\n",
              "      <td>-2.7370</td>\n",
              "      <td>0.8745</td>\n",
              "      <td>0.5787</td>\n",
              "      <td>-1.6740</td>\n",
              "      <td>-1.6720</td>\n",
              "      <td>-1.2690</td>\n",
              "      <td>...</td>\n",
              "      <td>-3.1660</td>\n",
              "      <td>0.2816</td>\n",
              "      <td>-0.2990</td>\n",
              "      <td>-1.1870</td>\n",
              "      <td>-0.5044</td>\n",
              "      <td>-1.7750</td>\n",
              "      <td>-1.6120</td>\n",
              "      <td>-0.9215</td>\n",
              "      <td>-1.0810</td>\n",
              "      <td>-3.0520</td>\n",
              "      <td>-3.4470</td>\n",
              "      <td>-2.7740</td>\n",
              "      <td>-1.8460</td>\n",
              "      <td>-0.5568</td>\n",
              "      <td>-3.3960</td>\n",
              "      <td>-2.9510</td>\n",
              "      <td>-1.1550</td>\n",
              "      <td>-3.2620</td>\n",
              "      <td>-1.5390</td>\n",
              "      <td>-2.4600</td>\n",
              "      <td>-0.9417</td>\n",
              "      <td>-1.5550</td>\n",
              "      <td>0.2431</td>\n",
              "      <td>-2.0990</td>\n",
              "      <td>-0.6441</td>\n",
              "      <td>-5.6300</td>\n",
              "      <td>-1.3780</td>\n",
              "      <td>-0.8632</td>\n",
              "      <td>-1.2880</td>\n",
              "      <td>-1.6210</td>\n",
              "      <td>-0.8784</td>\n",
              "      <td>-0.3876</td>\n",
              "      <td>-0.8154</td>\n",
              "      <td>0</td>\n",
              "      <td>0</td>\n",
              "      <td>1</td>\n",
              "      <td>0</td>\n",
              "      <td>1</td>\n",
              "      <td>0</td>\n",
              "      <td>0</td>\n",
              "    </tr>\n",
              "    <tr>\n",
              "      <th>4</th>\n",
              "      <td>id_001626bd3</td>\n",
              "      <td>7cbed3131</td>\n",
              "      <td>-0.3254</td>\n",
              "      <td>-0.4009</td>\n",
              "      <td>0.9700</td>\n",
              "      <td>0.6919</td>\n",
              "      <td>1.4180</td>\n",
              "      <td>-0.8244</td>\n",
              "      <td>-0.2800</td>\n",
              "      <td>-0.1498</td>\n",
              "      <td>-0.8789</td>\n",
              "      <td>0.8630</td>\n",
              "      <td>-0.2219</td>\n",
              "      <td>-0.5121</td>\n",
              "      <td>-0.9577</td>\n",
              "      <td>1.1750</td>\n",
              "      <td>0.2042</td>\n",
              "      <td>0.1970</td>\n",
              "      <td>0.1244</td>\n",
              "      <td>-1.7090</td>\n",
              "      <td>-0.3543</td>\n",
              "      <td>-0.5160</td>\n",
              "      <td>-0.3330</td>\n",
              "      <td>-0.2685</td>\n",
              "      <td>0.7649</td>\n",
              "      <td>0.2057</td>\n",
              "      <td>1.3720</td>\n",
              "      <td>0.6835</td>\n",
              "      <td>0.8056</td>\n",
              "      <td>-0.3754</td>\n",
              "      <td>-1.2090</td>\n",
              "      <td>0.2965</td>\n",
              "      <td>-0.0712</td>\n",
              "      <td>0.6389</td>\n",
              "      <td>0.6674</td>\n",
              "      <td>-0.0783</td>\n",
              "      <td>1.1740</td>\n",
              "      <td>-0.7110</td>\n",
              "      <td>-1.4470</td>\n",
              "      <td>1.0620</td>\n",
              "      <td>...</td>\n",
              "      <td>0.5178</td>\n",
              "      <td>0.5159</td>\n",
              "      <td>0.6091</td>\n",
              "      <td>0.1813</td>\n",
              "      <td>-0.4249</td>\n",
              "      <td>0.7832</td>\n",
              "      <td>0.6529</td>\n",
              "      <td>0.5648</td>\n",
              "      <td>0.4817</td>\n",
              "      <td>0.0587</td>\n",
              "      <td>0.5303</td>\n",
              "      <td>0.6376</td>\n",
              "      <td>-0.3966</td>\n",
              "      <td>-1.4950</td>\n",
              "      <td>-0.9625</td>\n",
              "      <td>-0.0541</td>\n",
              "      <td>0.6273</td>\n",
              "      <td>0.4563</td>\n",
              "      <td>0.0698</td>\n",
              "      <td>0.8134</td>\n",
              "      <td>0.1924</td>\n",
              "      <td>0.6054</td>\n",
              "      <td>-0.1824</td>\n",
              "      <td>0.0042</td>\n",
              "      <td>0.0048</td>\n",
              "      <td>0.6670</td>\n",
              "      <td>1.0690</td>\n",
              "      <td>0.5523</td>\n",
              "      <td>-0.3031</td>\n",
              "      <td>0.1094</td>\n",
              "      <td>0.2885</td>\n",
              "      <td>-0.3786</td>\n",
              "      <td>0.7125</td>\n",
              "      <td>0</td>\n",
              "      <td>0</td>\n",
              "      <td>1</td>\n",
              "      <td>0</td>\n",
              "      <td>0</td>\n",
              "      <td>1</td>\n",
              "      <td>1</td>\n",
              "    </tr>\n",
              "  </tbody>\n",
              "</table>\n",
              "<p>5 rows × 881 columns</p>\n",
              "</div>"
            ],
            "text/plain": [
              "             id      droga     g_0     g_1  ...  24  48  72  dose_num\n",
              "0  id_000644bb2  b68db1d53  1.0620  0.5577  ...   1   0   0         0\n",
              "1  id_000779bfc  df89a8e5a  0.0743  0.4087  ...   0   0   1         0\n",
              "2  id_000a6266a  18bb41b2c  0.6280  0.5817  ...   0   1   0         0\n",
              "3  id_0015fd391  8c7f86626 -0.5138 -0.2491  ...   0   1   0         0\n",
              "4  id_001626bd3  7cbed3131 -0.3254 -0.4009  ...   0   0   1         1\n",
              "\n",
              "[5 rows x 881 columns]"
            ]
          },
          "metadata": {
            "tags": []
          },
          "execution_count": 41
        }
      ]
    },
    {
      "cell_type": "markdown",
      "metadata": {
        "id": "Ne1neh1ujNfE"
      },
      "source": [
        "Para coluna \"droga\", usaremos o *BinaryEncoder()* da biblioteca **Category_encoders**. Por ser uma coluna de alta cardinalidade, se usarmos o *get_dummies()* irão surgir mais de 3 mil colunas, enquanto o *BinaryEncoder()* utiliza a codificação binária, podendo reduzir para 12 colunas "
      ]
    },
    {
      "cell_type": "code",
      "metadata": {
        "id": "bEoPTe7DLg_Z"
      },
      "source": [
        "!pip install category_encoders"
      ],
      "execution_count": null,
      "outputs": []
    },
    {
      "cell_type": "code",
      "metadata": {
        "colab": {
          "base_uri": "https://localhost:8080/"
        },
        "id": "t98YMEKHnn66",
        "outputId": "986aa670-1fdc-4335-ce7f-c1ae8de45281"
      },
      "source": [
        "import category_encoders as ce\n",
        "\n",
        "binarying = ce.BinaryEncoder(cols = 'droga')\n",
        "\n",
        "data = binarying.fit_transform(data)\n",
        "data.head()"
      ],
      "execution_count": null,
      "outputs": [
        {
          "output_type": "execute_result",
          "data": {
            "text/html": [
              "<div>\n",
              "<style scoped>\n",
              "    .dataframe tbody tr th:only-of-type {\n",
              "        vertical-align: middle;\n",
              "    }\n",
              "\n",
              "    .dataframe tbody tr th {\n",
              "        vertical-align: top;\n",
              "    }\n",
              "\n",
              "    .dataframe thead th {\n",
              "        text-align: right;\n",
              "    }\n",
              "</style>\n",
              "<table border=\"1\" class=\"dataframe\">\n",
              "  <thead>\n",
              "    <tr style=\"text-align: right;\">\n",
              "      <th></th>\n",
              "      <th>id</th>\n",
              "      <th>droga_0</th>\n",
              "      <th>droga_1</th>\n",
              "      <th>droga_2</th>\n",
              "      <th>droga_3</th>\n",
              "      <th>droga_4</th>\n",
              "      <th>droga_5</th>\n",
              "      <th>droga_6</th>\n",
              "      <th>droga_7</th>\n",
              "      <th>droga_8</th>\n",
              "      <th>droga_9</th>\n",
              "      <th>droga_10</th>\n",
              "      <th>droga_11</th>\n",
              "      <th>droga_12</th>\n",
              "      <th>g_0</th>\n",
              "      <th>g_1</th>\n",
              "      <th>g_2</th>\n",
              "      <th>g_3</th>\n",
              "      <th>g_4</th>\n",
              "      <th>g_5</th>\n",
              "      <th>g_6</th>\n",
              "      <th>g_7</th>\n",
              "      <th>g_8</th>\n",
              "      <th>g_9</th>\n",
              "      <th>g_10</th>\n",
              "      <th>g_11</th>\n",
              "      <th>g_12</th>\n",
              "      <th>g_13</th>\n",
              "      <th>g_14</th>\n",
              "      <th>g_15</th>\n",
              "      <th>g_16</th>\n",
              "      <th>g_17</th>\n",
              "      <th>g_18</th>\n",
              "      <th>g_19</th>\n",
              "      <th>g_20</th>\n",
              "      <th>g_21</th>\n",
              "      <th>g_22</th>\n",
              "      <th>g_23</th>\n",
              "      <th>g_24</th>\n",
              "      <th>g_25</th>\n",
              "      <th>...</th>\n",
              "      <th>c_67</th>\n",
              "      <th>c_68</th>\n",
              "      <th>c_69</th>\n",
              "      <th>c_70</th>\n",
              "      <th>c_71</th>\n",
              "      <th>c_72</th>\n",
              "      <th>c_73</th>\n",
              "      <th>c_74</th>\n",
              "      <th>c_75</th>\n",
              "      <th>c_76</th>\n",
              "      <th>c_77</th>\n",
              "      <th>c_78</th>\n",
              "      <th>c_79</th>\n",
              "      <th>c_80</th>\n",
              "      <th>c_81</th>\n",
              "      <th>c_82</th>\n",
              "      <th>c_83</th>\n",
              "      <th>c_84</th>\n",
              "      <th>c_85</th>\n",
              "      <th>c_86</th>\n",
              "      <th>c_87</th>\n",
              "      <th>c_88</th>\n",
              "      <th>c_89</th>\n",
              "      <th>c_90</th>\n",
              "      <th>c_91</th>\n",
              "      <th>c_92</th>\n",
              "      <th>c_93</th>\n",
              "      <th>c_94</th>\n",
              "      <th>c_95</th>\n",
              "      <th>c_96</th>\n",
              "      <th>c_97</th>\n",
              "      <th>c_98</th>\n",
              "      <th>c_99</th>\n",
              "      <th>rna_polymerase_inhibitor</th>\n",
              "      <th>com_controle</th>\n",
              "      <th>com_droga</th>\n",
              "      <th>24</th>\n",
              "      <th>48</th>\n",
              "      <th>72</th>\n",
              "      <th>dose_num</th>\n",
              "    </tr>\n",
              "  </thead>\n",
              "  <tbody>\n",
              "    <tr>\n",
              "      <th>0</th>\n",
              "      <td>id_000644bb2</td>\n",
              "      <td>0</td>\n",
              "      <td>0</td>\n",
              "      <td>0</td>\n",
              "      <td>0</td>\n",
              "      <td>0</td>\n",
              "      <td>0</td>\n",
              "      <td>0</td>\n",
              "      <td>0</td>\n",
              "      <td>0</td>\n",
              "      <td>0</td>\n",
              "      <td>0</td>\n",
              "      <td>0</td>\n",
              "      <td>1</td>\n",
              "      <td>1.0620</td>\n",
              "      <td>0.5577</td>\n",
              "      <td>-0.2479</td>\n",
              "      <td>-0.6208</td>\n",
              "      <td>-0.1944</td>\n",
              "      <td>-1.0120</td>\n",
              "      <td>-1.0220</td>\n",
              "      <td>-0.0326</td>\n",
              "      <td>0.5548</td>\n",
              "      <td>-0.0921</td>\n",
              "      <td>1.1830</td>\n",
              "      <td>0.1530</td>\n",
              "      <td>0.5574</td>\n",
              "      <td>-0.4015</td>\n",
              "      <td>0.1789</td>\n",
              "      <td>-0.6528</td>\n",
              "      <td>-0.7969</td>\n",
              "      <td>0.6342</td>\n",
              "      <td>0.1778</td>\n",
              "      <td>-0.3694</td>\n",
              "      <td>-0.5688</td>\n",
              "      <td>-1.1360</td>\n",
              "      <td>-1.1880</td>\n",
              "      <td>0.6940</td>\n",
              "      <td>0.4393</td>\n",
              "      <td>0.2664</td>\n",
              "      <td>...</td>\n",
              "      <td>1.2570</td>\n",
              "      <td>-0.5979</td>\n",
              "      <td>1.2250</td>\n",
              "      <td>-0.0553</td>\n",
              "      <td>0.7351</td>\n",
              "      <td>0.5810</td>\n",
              "      <td>0.9590</td>\n",
              "      <td>0.2427</td>\n",
              "      <td>0.0495</td>\n",
              "      <td>0.4141</td>\n",
              "      <td>0.8432</td>\n",
              "      <td>0.6162</td>\n",
              "      <td>-0.7318</td>\n",
              "      <td>1.2120</td>\n",
              "      <td>0.6362</td>\n",
              "      <td>-0.4427</td>\n",
              "      <td>0.1288</td>\n",
              "      <td>1.4840</td>\n",
              "      <td>0.1799</td>\n",
              "      <td>0.5367</td>\n",
              "      <td>-0.1111</td>\n",
              "      <td>-1.0120</td>\n",
              "      <td>0.6685</td>\n",
              "      <td>0.2862</td>\n",
              "      <td>0.2584</td>\n",
              "      <td>0.8076</td>\n",
              "      <td>0.5523</td>\n",
              "      <td>-0.1912</td>\n",
              "      <td>0.6584</td>\n",
              "      <td>-0.3981</td>\n",
              "      <td>0.2139</td>\n",
              "      <td>0.3801</td>\n",
              "      <td>0.4176</td>\n",
              "      <td>0</td>\n",
              "      <td>0</td>\n",
              "      <td>1</td>\n",
              "      <td>1</td>\n",
              "      <td>0</td>\n",
              "      <td>0</td>\n",
              "      <td>0</td>\n",
              "    </tr>\n",
              "    <tr>\n",
              "      <th>1</th>\n",
              "      <td>id_000779bfc</td>\n",
              "      <td>0</td>\n",
              "      <td>0</td>\n",
              "      <td>0</td>\n",
              "      <td>0</td>\n",
              "      <td>0</td>\n",
              "      <td>0</td>\n",
              "      <td>0</td>\n",
              "      <td>0</td>\n",
              "      <td>0</td>\n",
              "      <td>0</td>\n",
              "      <td>0</td>\n",
              "      <td>1</td>\n",
              "      <td>0</td>\n",
              "      <td>0.0743</td>\n",
              "      <td>0.4087</td>\n",
              "      <td>0.2991</td>\n",
              "      <td>0.0604</td>\n",
              "      <td>1.0190</td>\n",
              "      <td>0.5207</td>\n",
              "      <td>0.2341</td>\n",
              "      <td>0.3372</td>\n",
              "      <td>-0.4047</td>\n",
              "      <td>0.8507</td>\n",
              "      <td>-1.1520</td>\n",
              "      <td>-0.4201</td>\n",
              "      <td>-0.0958</td>\n",
              "      <td>0.4590</td>\n",
              "      <td>0.0803</td>\n",
              "      <td>0.2250</td>\n",
              "      <td>0.5293</td>\n",
              "      <td>0.2839</td>\n",
              "      <td>-0.3494</td>\n",
              "      <td>0.2883</td>\n",
              "      <td>0.9449</td>\n",
              "      <td>-0.1646</td>\n",
              "      <td>-0.2657</td>\n",
              "      <td>-0.3372</td>\n",
              "      <td>0.3135</td>\n",
              "      <td>-0.4316</td>\n",
              "      <td>...</td>\n",
              "      <td>-0.3104</td>\n",
              "      <td>-0.6373</td>\n",
              "      <td>0.2887</td>\n",
              "      <td>-0.0765</td>\n",
              "      <td>0.2539</td>\n",
              "      <td>0.4443</td>\n",
              "      <td>0.5932</td>\n",
              "      <td>0.2031</td>\n",
              "      <td>0.7639</td>\n",
              "      <td>0.5499</td>\n",
              "      <td>-0.3322</td>\n",
              "      <td>-0.0977</td>\n",
              "      <td>0.4329</td>\n",
              "      <td>-0.2782</td>\n",
              "      <td>0.7827</td>\n",
              "      <td>0.5934</td>\n",
              "      <td>0.3402</td>\n",
              "      <td>0.1499</td>\n",
              "      <td>0.4420</td>\n",
              "      <td>0.9366</td>\n",
              "      <td>0.8193</td>\n",
              "      <td>-0.4236</td>\n",
              "      <td>0.3192</td>\n",
              "      <td>-0.4265</td>\n",
              "      <td>0.7543</td>\n",
              "      <td>0.4708</td>\n",
              "      <td>0.0230</td>\n",
              "      <td>0.2957</td>\n",
              "      <td>0.4899</td>\n",
              "      <td>0.1522</td>\n",
              "      <td>0.1241</td>\n",
              "      <td>0.6077</td>\n",
              "      <td>0.7371</td>\n",
              "      <td>0</td>\n",
              "      <td>0</td>\n",
              "      <td>1</td>\n",
              "      <td>0</td>\n",
              "      <td>0</td>\n",
              "      <td>1</td>\n",
              "      <td>0</td>\n",
              "    </tr>\n",
              "    <tr>\n",
              "      <th>2</th>\n",
              "      <td>id_000a6266a</td>\n",
              "      <td>0</td>\n",
              "      <td>0</td>\n",
              "      <td>0</td>\n",
              "      <td>0</td>\n",
              "      <td>0</td>\n",
              "      <td>0</td>\n",
              "      <td>0</td>\n",
              "      <td>0</td>\n",
              "      <td>0</td>\n",
              "      <td>0</td>\n",
              "      <td>0</td>\n",
              "      <td>1</td>\n",
              "      <td>1</td>\n",
              "      <td>0.6280</td>\n",
              "      <td>0.5817</td>\n",
              "      <td>1.5540</td>\n",
              "      <td>-0.0764</td>\n",
              "      <td>-0.0323</td>\n",
              "      <td>1.2390</td>\n",
              "      <td>0.1715</td>\n",
              "      <td>0.2155</td>\n",
              "      <td>0.0065</td>\n",
              "      <td>1.2300</td>\n",
              "      <td>-0.4797</td>\n",
              "      <td>-0.5631</td>\n",
              "      <td>-0.0366</td>\n",
              "      <td>-1.8300</td>\n",
              "      <td>0.6057</td>\n",
              "      <td>-0.3278</td>\n",
              "      <td>0.6042</td>\n",
              "      <td>-0.3075</td>\n",
              "      <td>-0.1147</td>\n",
              "      <td>-0.0570</td>\n",
              "      <td>-0.0799</td>\n",
              "      <td>-0.8181</td>\n",
              "      <td>-1.5320</td>\n",
              "      <td>0.2307</td>\n",
              "      <td>0.4901</td>\n",
              "      <td>0.4780</td>\n",
              "      <td>...</td>\n",
              "      <td>0.1210</td>\n",
              "      <td>-0.5177</td>\n",
              "      <td>-0.0604</td>\n",
              "      <td>0.1682</td>\n",
              "      <td>-0.4436</td>\n",
              "      <td>0.4963</td>\n",
              "      <td>0.1363</td>\n",
              "      <td>0.3335</td>\n",
              "      <td>0.9760</td>\n",
              "      <td>-0.0427</td>\n",
              "      <td>-0.1235</td>\n",
              "      <td>0.0959</td>\n",
              "      <td>0.0690</td>\n",
              "      <td>-0.9416</td>\n",
              "      <td>-0.7548</td>\n",
              "      <td>-0.1109</td>\n",
              "      <td>-0.6272</td>\n",
              "      <td>0.3019</td>\n",
              "      <td>0.1172</td>\n",
              "      <td>0.1093</td>\n",
              "      <td>-0.3113</td>\n",
              "      <td>0.3019</td>\n",
              "      <td>-0.0873</td>\n",
              "      <td>-0.7250</td>\n",
              "      <td>-0.6297</td>\n",
              "      <td>0.6103</td>\n",
              "      <td>0.0223</td>\n",
              "      <td>-1.3240</td>\n",
              "      <td>-0.3174</td>\n",
              "      <td>-0.6417</td>\n",
              "      <td>-0.2187</td>\n",
              "      <td>-1.4080</td>\n",
              "      <td>0.6931</td>\n",
              "      <td>0</td>\n",
              "      <td>0</td>\n",
              "      <td>1</td>\n",
              "      <td>0</td>\n",
              "      <td>1</td>\n",
              "      <td>0</td>\n",
              "      <td>0</td>\n",
              "    </tr>\n",
              "    <tr>\n",
              "      <th>3</th>\n",
              "      <td>id_0015fd391</td>\n",
              "      <td>0</td>\n",
              "      <td>0</td>\n",
              "      <td>0</td>\n",
              "      <td>0</td>\n",
              "      <td>0</td>\n",
              "      <td>0</td>\n",
              "      <td>0</td>\n",
              "      <td>0</td>\n",
              "      <td>0</td>\n",
              "      <td>0</td>\n",
              "      <td>1</td>\n",
              "      <td>0</td>\n",
              "      <td>0</td>\n",
              "      <td>-0.5138</td>\n",
              "      <td>-0.2491</td>\n",
              "      <td>-0.2656</td>\n",
              "      <td>0.5288</td>\n",
              "      <td>4.0620</td>\n",
              "      <td>-0.8095</td>\n",
              "      <td>-1.9590</td>\n",
              "      <td>0.1792</td>\n",
              "      <td>-0.1321</td>\n",
              "      <td>-1.0600</td>\n",
              "      <td>-0.8269</td>\n",
              "      <td>-0.3584</td>\n",
              "      <td>-0.8511</td>\n",
              "      <td>-0.5844</td>\n",
              "      <td>-2.5690</td>\n",
              "      <td>0.8183</td>\n",
              "      <td>-0.0532</td>\n",
              "      <td>-0.8554</td>\n",
              "      <td>0.1160</td>\n",
              "      <td>-2.3520</td>\n",
              "      <td>2.1200</td>\n",
              "      <td>-1.1580</td>\n",
              "      <td>-0.7191</td>\n",
              "      <td>-0.8004</td>\n",
              "      <td>-1.4670</td>\n",
              "      <td>-0.0107</td>\n",
              "      <td>...</td>\n",
              "      <td>-3.1660</td>\n",
              "      <td>0.2816</td>\n",
              "      <td>-0.2990</td>\n",
              "      <td>-1.1870</td>\n",
              "      <td>-0.5044</td>\n",
              "      <td>-1.7750</td>\n",
              "      <td>-1.6120</td>\n",
              "      <td>-0.9215</td>\n",
              "      <td>-1.0810</td>\n",
              "      <td>-3.0520</td>\n",
              "      <td>-3.4470</td>\n",
              "      <td>-2.7740</td>\n",
              "      <td>-1.8460</td>\n",
              "      <td>-0.5568</td>\n",
              "      <td>-3.3960</td>\n",
              "      <td>-2.9510</td>\n",
              "      <td>-1.1550</td>\n",
              "      <td>-3.2620</td>\n",
              "      <td>-1.5390</td>\n",
              "      <td>-2.4600</td>\n",
              "      <td>-0.9417</td>\n",
              "      <td>-1.5550</td>\n",
              "      <td>0.2431</td>\n",
              "      <td>-2.0990</td>\n",
              "      <td>-0.6441</td>\n",
              "      <td>-5.6300</td>\n",
              "      <td>-1.3780</td>\n",
              "      <td>-0.8632</td>\n",
              "      <td>-1.2880</td>\n",
              "      <td>-1.6210</td>\n",
              "      <td>-0.8784</td>\n",
              "      <td>-0.3876</td>\n",
              "      <td>-0.8154</td>\n",
              "      <td>0</td>\n",
              "      <td>0</td>\n",
              "      <td>1</td>\n",
              "      <td>0</td>\n",
              "      <td>1</td>\n",
              "      <td>0</td>\n",
              "      <td>0</td>\n",
              "    </tr>\n",
              "    <tr>\n",
              "      <th>4</th>\n",
              "      <td>id_001626bd3</td>\n",
              "      <td>0</td>\n",
              "      <td>0</td>\n",
              "      <td>0</td>\n",
              "      <td>0</td>\n",
              "      <td>0</td>\n",
              "      <td>0</td>\n",
              "      <td>0</td>\n",
              "      <td>0</td>\n",
              "      <td>0</td>\n",
              "      <td>0</td>\n",
              "      <td>1</td>\n",
              "      <td>0</td>\n",
              "      <td>1</td>\n",
              "      <td>-0.3254</td>\n",
              "      <td>-0.4009</td>\n",
              "      <td>0.9700</td>\n",
              "      <td>0.6919</td>\n",
              "      <td>1.4180</td>\n",
              "      <td>-0.8244</td>\n",
              "      <td>-0.2800</td>\n",
              "      <td>-0.1498</td>\n",
              "      <td>-0.8789</td>\n",
              "      <td>0.8630</td>\n",
              "      <td>-0.2219</td>\n",
              "      <td>-0.5121</td>\n",
              "      <td>-0.9577</td>\n",
              "      <td>1.1750</td>\n",
              "      <td>0.2042</td>\n",
              "      <td>0.1970</td>\n",
              "      <td>0.1244</td>\n",
              "      <td>-1.7090</td>\n",
              "      <td>-0.3543</td>\n",
              "      <td>-0.5160</td>\n",
              "      <td>-0.3330</td>\n",
              "      <td>-0.2685</td>\n",
              "      <td>0.7649</td>\n",
              "      <td>0.2057</td>\n",
              "      <td>1.3720</td>\n",
              "      <td>0.6835</td>\n",
              "      <td>...</td>\n",
              "      <td>0.5178</td>\n",
              "      <td>0.5159</td>\n",
              "      <td>0.6091</td>\n",
              "      <td>0.1813</td>\n",
              "      <td>-0.4249</td>\n",
              "      <td>0.7832</td>\n",
              "      <td>0.6529</td>\n",
              "      <td>0.5648</td>\n",
              "      <td>0.4817</td>\n",
              "      <td>0.0587</td>\n",
              "      <td>0.5303</td>\n",
              "      <td>0.6376</td>\n",
              "      <td>-0.3966</td>\n",
              "      <td>-1.4950</td>\n",
              "      <td>-0.9625</td>\n",
              "      <td>-0.0541</td>\n",
              "      <td>0.6273</td>\n",
              "      <td>0.4563</td>\n",
              "      <td>0.0698</td>\n",
              "      <td>0.8134</td>\n",
              "      <td>0.1924</td>\n",
              "      <td>0.6054</td>\n",
              "      <td>-0.1824</td>\n",
              "      <td>0.0042</td>\n",
              "      <td>0.0048</td>\n",
              "      <td>0.6670</td>\n",
              "      <td>1.0690</td>\n",
              "      <td>0.5523</td>\n",
              "      <td>-0.3031</td>\n",
              "      <td>0.1094</td>\n",
              "      <td>0.2885</td>\n",
              "      <td>-0.3786</td>\n",
              "      <td>0.7125</td>\n",
              "      <td>0</td>\n",
              "      <td>0</td>\n",
              "      <td>1</td>\n",
              "      <td>0</td>\n",
              "      <td>0</td>\n",
              "      <td>1</td>\n",
              "      <td>1</td>\n",
              "    </tr>\n",
              "  </tbody>\n",
              "</table>\n",
              "<p>5 rows × 893 columns</p>\n",
              "</div>"
            ],
            "text/plain": [
              "             id  droga_0  droga_1  droga_2  ...  24  48  72  dose_num\n",
              "0  id_000644bb2        0        0        0  ...   1   0   0         0\n",
              "1  id_000779bfc        0        0        0  ...   0   0   1         0\n",
              "2  id_000a6266a        0        0        0  ...   0   1   0         0\n",
              "3  id_0015fd391        0        0        0  ...   0   1   0         0\n",
              "4  id_001626bd3        0        0        0  ...   0   0   1         1\n",
              "\n",
              "[5 rows x 893 columns]"
            ]
          },
          "metadata": {
            "tags": []
          },
          "execution_count": 43
        }
      ]
    },
    {
      "cell_type": "markdown",
      "metadata": {
        "id": "bLp1lWd3YBOJ"
      },
      "source": [
        "# 6. Seleção de Features"
      ]
    },
    {
      "cell_type": "markdown",
      "metadata": {
        "id": "aFJEfr6JvXz0"
      },
      "source": [
        "Existe um ditado muito famoso na comunidade de ciêntistas de dados chamado \"Garbage in, garbage out\", ou então, \"Se entrar lixo, sairá lixo\". Ou seja, se simplesmente colocarmos qualquer dado no modelo, não estariamos tendo o melhor resultados. Então devemos escolher as melhores variáveis para alimentar nosso modelo.\n",
        "\n",
        "Como podemos ver, temos quase 900 variáveis para trabalhar, colocar todas elas para o modelo analizar, usariamos muito processamento e muito provavelmente não traria uma melhora tão relevante assim, ou até mesmo poderia piorar o resultado. Essa sessão será focada em escolher as melhores variáveis, coletando as que mais trazem informação, sem que haja um vazamento de dados."
      ]
    },
    {
      "cell_type": "markdown",
      "metadata": {
        "id": "UxdAJ-tzvZHi"
      },
      "source": [
        "##6.1 Vazamento de Dados"
      ]
    },
    {
      "cell_type": "markdown",
      "metadata": {
        "id": "1V9ud6OLJsJ0"
      },
      "source": [
        "Vazamento de dados ocorre quando damos uma variável que da uma informação que permite o modelo \"roubar\", por exemplo, vimos que nenhum teste de controle recebe o resultado positivo, então se dessemos esse tipo de informação pro modelo poderá haver um vazamento de dados."
      ]
    },
    {
      "cell_type": "code",
      "metadata": {
        "id": "P0FVToj9LOik"
      },
      "source": [
        "features = pd.DataFrame(data.drop(columns = ['com_droga', 'com_controle']))"
      ],
      "execution_count": null,
      "outputs": []
    },
    {
      "cell_type": "markdown",
      "metadata": {
        "id": "VBjyJeFnvtFd"
      },
      "source": [
        "##6.2 Alta correlação"
      ]
    },
    {
      "cell_type": "markdown",
      "metadata": {
        "id": "irwX7A88M_hq"
      },
      "source": [
        "Podemos retirar algumas variáveis quando possuem uam correlação próxima dos extremos e que não trazem nenhuma informação. Por exemplo nas colunas \"24h\", \"48h\" e \"72h\" poderiamos retirar uma delas já que podemos representar os 3 estados somente com duas colunas. Retirando a coluna \"72h\", por exemplo, o estado \"10\" representa o tempo \"24h\", o \"01\" representa o tempo de \"48h\" e o estado \"00\" representa o teste de \"72h\"."
      ]
    },
    {
      "cell_type": "code",
      "metadata": {
        "id": "umkjli6oqBOI"
      },
      "source": [
        "features = pd.DataFrame(features.drop(columns = 72))"
      ],
      "execution_count": null,
      "outputs": []
    },
    {
      "cell_type": "markdown",
      "metadata": {
        "id": "MXTnPyRtvd98"
      },
      "source": [
        "##6.3 SelectKBest"
      ]
    },
    {
      "cell_type": "markdown",
      "metadata": {
        "id": "b6iHj-5rrVMZ"
      },
      "source": [
        "Para as colunas continuas, usaremos a função *SelectKbest()* da biblioteca **Sklearn** para selecionar as 500 das 872 variáveis que possuem mais informação para colocar no modelo. "
      ]
    },
    {
      "cell_type": "code",
      "metadata": {
        "colab": {
          "base_uri": "https://localhost:8080/"
        },
        "id": "CewQwxWDtTs7",
        "outputId": "5ba6dd46-7648-4bf5-efeb-0fb3d7802529"
      },
      "source": [
        "from sklearn.feature_selection import SelectKBest\n",
        "from sklearn.feature_selection import f_classif\n",
        "\n",
        "SKBest = SelectKBest(score_func = f_classif, k = 500)\n",
        "\n",
        "X_selected = pd.DataFrame(SKBest.fit_transform(data.loc[:, 'g_0': 'c_99'], data['rna_polymerase_inhibitor']))\n",
        "\n",
        "X_selected.shape"
      ],
      "execution_count": null,
      "outputs": [
        {
          "output_type": "execute_result",
          "data": {
            "text/plain": [
              "(22122, 500)"
            ]
          },
          "metadata": {
            "tags": []
          },
          "execution_count": 46
        }
      ]
    },
    {
      "cell_type": "markdown",
      "metadata": {
        "id": "J7jphFRewY66"
      },
      "source": [
        "Vamos juntar agora, todas essas variaveis escolhidas"
      ]
    },
    {
      "cell_type": "code",
      "metadata": {
        "id": "MLyCLfkjwiJS"
      },
      "source": [
        "features['24h'] = features[24].astype(int)\n",
        "features['48h'] = features[48].astype(int)\n",
        "features.drop(columns = [24, 48], inplace = True)\n",
        "X_selected = pd.concat([X_selected, features.select_dtypes(int)], axis = 1)"
      ],
      "execution_count": null,
      "outputs": []
    },
    {
      "cell_type": "markdown",
      "metadata": {
        "id": "X1AkEvk-xpJa"
      },
      "source": [
        "Com essas técnicas aplicadas conseguimos reduzir 892 variáveis para 516! Que será um ganho de performance enorme!"
      ]
    },
    {
      "cell_type": "markdown",
      "metadata": {
        "id": "6AkNOMKsYF4M"
      },
      "source": [
        "# 7. Seleção do Modelo"
      ]
    },
    {
      "cell_type": "markdown",
      "metadata": {
        "id": "kMFfmLefzO3E"
      },
      "source": [
        "A escolha do modelo certo é outra etapa fundamental do processo. Existem centenas deles e saber qual é o ideal para cada base de dados é um trabalho comum na vida do ciêntista de dados. Por isso nessa sessão iremos selecionar o melhor algoritmo para nossa base."
      ]
    },
    {
      "cell_type": "markdown",
      "metadata": {
        "id": "unjt6ZXrYzCL"
      },
      "source": [
        "##7.1 Escolha da métrica"
      ]
    },
    {
      "cell_type": "markdown",
      "metadata": {
        "id": "l2wMVDKH0Pym"
      },
      "source": [
        "Mas antes de selecionarmos o modelo, precisamos saber como vamos avaliar ele, aliás, um método de avaliação falho não escolheria o melhor modelo. Começando pelo fato que será um modelo de classifícação, nossas opções variam entre \"accuracy\", \"precission\", \"recall\" etc. Porém temos que levar em consideração também que nossos dados da variável alvo, como visto na sessão 2.4, estão totalmente desbalanceados, em uma proporção 999 para 1, ou seja, se usarmos a acurácia como método de avaliação e o modelo chutasse tudo 0, o modelo teria algo em torno de 99,9% mesmo sendo algo ruim. Outro ponto, é que no contexto de descobrimento de novas drogas, como o percentual de descobrimento de novas drogas é bem baixo, temos que garantir que as drogas apontadas como positivo sejam realmente positivas. Do mesmo jeito, não queremos que nenhuma droga que possua a característica seja passda também.\n",
        "\n",
        "Tendo tudo isso em mente, usaremos a métrica \"f1_score\" que é calculada a partir da média harmônica entre \"precision\" e \"recall\", fazendo uma balanço entre os dois."
      ]
    },
    {
      "cell_type": "code",
      "metadata": {
        "id": "nk6D3VXRs1jF"
      },
      "source": [
        "from sklearn.metrics import f1_score"
      ],
      "execution_count": null,
      "outputs": []
    },
    {
      "cell_type": "markdown",
      "metadata": {
        "id": "bwOwMtC1Y3_N"
      },
      "source": [
        "##7.2 Importando e alimentado modelos"
      ]
    },
    {
      "cell_type": "markdown",
      "metadata": {
        "id": "mgga0T0jtG0v"
      },
      "source": [
        "Agora que já decidimos nossas variáveis e nosso sistema de avaliação, podemos começar a importar e alimentar os modelos. Quando se trata de modelos de classificação, os principais modelos são *LogisticRegression()*, *SuportVectorMachine()*, *GaussianNB()*, *DecisionTreeClassifier()* e *RandomFlorestClassifier()*. Como já comentado, existem centenas de modelos, porém, para esse projeto, testaremos esses citados "
      ]
    },
    {
      "cell_type": "code",
      "metadata": {
        "id": "Lgj60s5YytaY"
      },
      "source": [
        "from sklearn.linear_model import LogisticRegression\n",
        "from sklearn.svm import SVC\n",
        "from sklearn.naive_bayes import GaussianNB\n",
        "from sklearn.tree import DecisionTreeClassifier\n",
        "from sklearn.ensemble import RandomForestClassifier\n",
        "\n",
        "lr = LogisticRegression(max_iter = 1000)\n",
        "svm = SVC()\n",
        "gs = GaussianNB()\n",
        "tree = DecisionTreeClassifier()\n",
        "rf = RandomForestClassifier()"
      ],
      "execution_count": null,
      "outputs": []
    },
    {
      "cell_type": "markdown",
      "metadata": {
        "id": "J3WlyrTk0GRI"
      },
      "source": [
        "Para alimentar os modelos, basta utilizar a função *fit()*, porém como temos que testar nossos dados, dividiremos nosso conjunto de dados em um dataset de treino e em um dataset de teste utilizando a função *StratifiedKFold()*, para que podemos realizar 5 testes e usar a média como o resultado. Além disso, devemos garantir duas coisas, a primeira é nossos dados sejam pegos de maneira aleatória e para garantir isso, basta alterar o parâmetro *Shuffle* para *True*. A segunda, é que queremos que todos os dados recebam os mesmos cojuntos de dados aleatórios, por isso colocaremos o parâmetro \"random_state\" para 0. Outro ponto que temos ter em nossa visão é o desbalanceamento das classes, para isso, usaremos o *SMOTE* da biblioteca **imbalanced_learn** no qual gera pontos da classe menor para diminuir esse desbalanceamento."
      ]
    },
    {
      "cell_type": "code",
      "metadata": {
        "id": "l-G7mIks5w_Z"
      },
      "source": [
        "from sklearn.model_selection import StratifiedKFold"
      ],
      "execution_count": null,
      "outputs": []
    },
    {
      "cell_type": "markdown",
      "metadata": {
        "id": "Qzhkj6c4EPMc"
      },
      "source": [
        "A biblioteca **imbalanced_learn** não está no pacote do google colabs, então precisamos instalar."
      ]
    },
    {
      "cell_type": "code",
      "metadata": {
        "id": "luGfFLVMD72j"
      },
      "source": [
        "!pip install imbalanced-learn"
      ],
      "execution_count": null,
      "outputs": []
    },
    {
      "cell_type": "code",
      "metadata": {
        "id": "4puhFOZQD6uD"
      },
      "source": [
        "from imblearn.over_sampling import SMOTE\n",
        "\n",
        "over = SMOTE(sampling_strategy=0.3, random_state = 0)\n",
        "skf = StratifiedKFold(n_splits=5, shuffle = True, random_state = 0)"
      ],
      "execution_count": null,
      "outputs": []
    },
    {
      "cell_type": "markdown",
      "metadata": {
        "id": "VmtYEwSlJY55"
      },
      "source": [
        "Finalmente, vamos alimentar nosso modelo."
      ]
    },
    {
      "cell_type": "code",
      "metadata": {
        "colab": {
          "base_uri": "https://localhost:8080/"
        },
        "id": "HElwtmtaMskQ",
        "outputId": "95fcfb98-e159-480c-f162-ac055d62d62f"
      },
      "source": [
        "from statistics import mean\n",
        "\n",
        "X = X_selected.drop(columns = 'rna_polymerase_inhibitor')\n",
        "y = X_selected['rna_polymerase_inhibitor']\n",
        "\n",
        "models = [lr, svm, gs, tree, rf]\n",
        "for model in models:\n",
        "  scores = []\n",
        "  for train_index, test_index in skf.split(X_selected,X_selected['rna_polymerase_inhibitor']):\n",
        "    X_train = X[X.index.isin(train_index)]\n",
        "    y_train = y[y.index.isin(train_index)]\n",
        "    X_test = X[X.index.isin(test_index)]\n",
        "    y_test = y[y.index.isin(test_index)]\n",
        "    X_train, y_train = over.fit_resample(X_train, y_train)\n",
        "    model.fit(X_train, y_train)\n",
        "    predictions = model.predict(X_test)\n",
        "    scores.append(f1_score(y_test, predictions, average = 'macro'))\n",
        "      \n",
        "  print('O modelo {} teve um score de {}'.format(model, mean(scores)))"
      ],
      "execution_count": null,
      "outputs": [
        {
          "output_type": "stream",
          "text": [
            "O modelo LogisticRegression(C=1.0, class_weight=None, dual=False, fit_intercept=True,\n",
            "                   intercept_scaling=1, l1_ratio=None, max_iter=1000,\n",
            "                   multi_class='auto', n_jobs=None, penalty='l2',\n",
            "                   random_state=None, solver='lbfgs', tol=0.0001, verbose=0,\n",
            "                   warm_start=False) teve um score de 0.5845391334738561\n",
            "O modelo SVC(C=1.0, break_ties=False, cache_size=200, class_weight=None, coef0=0.0,\n",
            "    decision_function_shape='ovr', degree=3, gamma='scale', kernel='rbf',\n",
            "    max_iter=-1, probability=False, random_state=None, shrinking=True,\n",
            "    tol=0.001, verbose=False) teve um score de 0.4997173160823759\n",
            "O modelo GaussianNB(priors=None, var_smoothing=1e-09) teve um score de 0.4982657636904274\n",
            "O modelo DecisionTreeClassifier(ccp_alpha=0.0, class_weight=None, criterion='gini',\n",
            "                       max_depth=None, max_features=None, max_leaf_nodes=None,\n",
            "                       min_impurity_decrease=0.0, min_impurity_split=None,\n",
            "                       min_samples_leaf=1, min_samples_split=2,\n",
            "                       min_weight_fraction_leaf=0.0, presort='deprecated',\n",
            "                       random_state=None, splitter='best') teve um score de 0.5473552230112808\n",
            "O modelo RandomForestClassifier(bootstrap=True, ccp_alpha=0.0, class_weight=None,\n",
            "                       criterion='gini', max_depth=None, max_features='auto',\n",
            "                       max_leaf_nodes=None, max_samples=None,\n",
            "                       min_impurity_decrease=0.0, min_impurity_split=None,\n",
            "                       min_samples_leaf=1, min_samples_split=2,\n",
            "                       min_weight_fraction_leaf=0.0, n_estimators=100,\n",
            "                       n_jobs=None, oob_score=False, random_state=None,\n",
            "                       verbose=0, warm_start=False) teve um score de 0.6235720478386734\n"
          ],
          "name": "stdout"
        }
      ]
    },
    {
      "cell_type": "markdown",
      "metadata": {
        "id": "8K4WzVfYh4Sg"
      },
      "source": [
        "Como podemos ver, nosso melhor modelo foi o *RandomForest()*, porém, 0,627 pode não ser a melhor eficiência. Veremos na próxima sessão, como melhorar."
      ]
    },
    {
      "cell_type": "markdown",
      "metadata": {
        "id": "uI7FHg-9YM8p"
      },
      "source": [
        "# 8. Seleção de Hiperparametros"
      ]
    },
    {
      "cell_type": "markdown",
      "metadata": {
        "id": "1nBSzwchL8JY"
      },
      "source": [
        "Hiperparâmetros são os valores que fazemos nos parâmetros do modelo, para que ele tenha um melhor entendimento dos dados e melhor desempenho. Nessa sessão escolheremos os hiperparâmetros do modelo de *RandomFlorest()* a dedo para obter o melhor desempenho."
      ]
    },
    {
      "cell_type": "markdown",
      "metadata": {
        "id": "IO7WijJToSph"
      },
      "source": [
        "##8.1 n_estimators"
      ]
    },
    {
      "cell_type": "markdown",
      "metadata": {
        "id": "fwiA7Gzjqnhl"
      },
      "source": [
        "O parâmetro *n_estimators* informa o número de árvores que o modelo vai criar. Caso não modificado, serão criadas 100 árvores, que foi o caso do nosso modelo anterior. \n",
        "\n",
        "Para escolher o melhor número para esse parâmetro, usaremos a função *validation_curve()* da biblioteca **yellowbrick**, onde será gerado um gráfico de desempenho de acordo com o número de árvores escolhidos. "
      ]
    },
    {
      "cell_type": "code",
      "metadata": {
        "colab": {
          "base_uri": "https://localhost:8080/",
          "height": 393
        },
        "id": "tPCjdtVH09sp",
        "outputId": "ff9b64d0-9e6e-4cda-add0-da2798e3be77"
      },
      "source": [
        "from yellowbrick.model_selection import validation_curve \n",
        "\n",
        "print(validation_curve(\n",
        "    rf, X = X, y = y, param_name = \"n_estimators\", param_range = [100, 150, 200, 250, 300],\n",
        "    scoring = \"f1_macro\", n_jobs = -1, cv = 5))"
      ],
      "execution_count": null,
      "outputs": [
        {
          "output_type": "display_data",
          "data": {
            "image/png": "[encoded data removed]",
            "text/plain": [
              "<Figure size 576x396 with 1 Axes>"
            ]
          },
          "metadata": {
            "tags": []
          }
        },
        {
          "output_type": "stream",
          "text": [
            "AxesSubplot(0.125,0.125;0.775x0.755)\n"
          ],
          "name": "stdout"
        }
      ]
    },
    {
      "cell_type": "markdown",
      "metadata": {
        "id": "z5r4MsPWRisI"
      },
      "source": [
        "podemos ver que em 300 tivemos nosso melhor desempenho."
      ]
    },
    {
      "cell_type": "markdown",
      "metadata": {
        "id": "dx-zbC4goXmJ"
      },
      "source": [
        "##8.2 max_depth"
      ]
    },
    {
      "cell_type": "markdown",
      "metadata": {
        "id": "kdrBZzHHrqQN"
      },
      "source": [
        "Outro parâmetro para alterar é o *max_depth()* o qual representa a maior profundidade que as árvores do modelo pode ir. No nosso primeiro modelo ele estava como None, ou seja, as árvores poderiam crescer o quanto quisessem "
      ]
    },
    {
      "cell_type": "code",
      "metadata": {
        "id": "IU4imVFYQsRl",
        "colab": {
          "base_uri": "https://localhost:8080/",
          "height": 393
        },
        "outputId": "db59f650-c875-4fab-ae67-357c7f2b6e80"
      },
      "source": [
        "rf = RandomForestClassifier(n_estimators = 300)\n",
        "\n",
        "print(validation_curve(\n",
        "    rf, X = X, y = y, param_name = \"max_depth\", param_range = np.arange(1, 11),\n",
        "    scoring = \"f1_macro\", n_jobs = -1, cv = 5))"
      ],
      "execution_count": null,
      "outputs": [
        {
          "output_type": "display_data",
          "data": {
            "image/png": "[encoded data removed]",
            "text/plain": [
              "<Figure size 576x396 with 1 Axes>"
            ]
          },
          "metadata": {
            "tags": []
          }
        },
        {
          "output_type": "stream",
          "text": [
            "AxesSubplot(0.125,0.125;0.775x0.755)\n"
          ],
          "name": "stdout"
        }
      ]
    },
    {
      "cell_type": "markdown",
      "metadata": {
        "id": "o--kHt9pRjUa"
      },
      "source": [
        "Para esse parâmentro temos o 7 como o melhor. A partir do 8 podemos ver uma melhora no resultado dos treinos, porém mantém o resultado nos testes e quando isso ocorre, chamamos de Overfitting, ou super adequamento."
      ]
    },
    {
      "cell_type": "markdown",
      "metadata": {
        "id": "Bs0CzkIdoccd"
      },
      "source": [
        "##8.3 min_sample_splits"
      ]
    },
    {
      "cell_type": "markdown",
      "metadata": {
        "id": "cDNj4jjGN_qw"
      },
      "source": [
        "O terceiro parâametro a ser mexido é o *min_sample_split* que mostra o número mínimo de amostra que deve ter na folha para realizar a divisão. Por padrão, está ajustado como dois, mas vamos ver se esse valor realmente é o melhor."
      ]
    },
    {
      "cell_type": "code",
      "metadata": {
        "id": "yd8VIB6VQ61X",
        "colab": {
          "base_uri": "https://localhost:8080/",
          "height": 393
        },
        "outputId": "dfc34c15-6d29-417d-ded4-b56f52033a19"
      },
      "source": [
        "rf = RandomForestClassifier(n_estimators = 300, max_depth = 7)\n",
        "\n",
        "print(validation_curve(\n",
        "    rf, X = X, y = y, param_name = \"min_samples_split\", param_range = np.arange(1, 11),\n",
        "    scoring = \"f1_macro\", n_jobs = -1, cv = 5))"
      ],
      "execution_count": null,
      "outputs": [
        {
          "output_type": "display_data",
          "data": {
            "image/png": "[encoded data removed]",
            "text/plain": [
              "<Figure size 576x396 with 1 Axes>"
            ]
          },
          "metadata": {
            "tags": []
          }
        },
        {
          "output_type": "stream",
          "text": [
            "AxesSubplot(0.125,0.125;0.775x0.755)\n"
          ],
          "name": "stdout"
        }
      ]
    },
    {
      "cell_type": "markdown",
      "metadata": {
        "id": "8IIkF0FRRj7j"
      },
      "source": [
        "Como podemos ver, temos três opções nesse momento, porém como números maiores tendem a diminuir a performance, manteremos o número 3"
      ]
    },
    {
      "cell_type": "markdown",
      "metadata": {
        "id": "MveDR1-GodBD"
      },
      "source": [
        "##8.4 min_sample_leafs"
      ]
    },
    {
      "cell_type": "markdown",
      "metadata": {
        "id": "16W3DBYEOjz7"
      },
      "source": [
        "Por fim, o *min_sample_leaf* ajusta o número mínimo de pontos que precisam para poder ser uma folha. Por padrão esse parâmetro está configurado para 1"
      ]
    },
    {
      "cell_type": "code",
      "metadata": {
        "id": "seCm9_k39pbt",
        "colab": {
          "base_uri": "https://localhost:8080/",
          "height": 393
        },
        "outputId": "19376c9e-71c1-4d15-e0b2-b671b9d2fd5f"
      },
      "source": [
        "rf = RandomForestClassifier(n_estimators = 300, max_depth = 7, min_samples_split = 3)\n",
        "\n",
        "print(validation_curve(\n",
        "    rf, X = X, y = y, param_name = \"min_samples_leaf\", param_range = np.arange(1, 11),\n",
        "    scoring = \"f1_macro\", n_jobs = -1, cv = 5))"
      ],
      "execution_count": null,
      "outputs": [
        {
          "output_type": "display_data",
          "data": {
            "image/png": "[encoded data removed]",
            "text/plain": [
              "<Figure size 576x396 with 1 Axes>"
            ]
          },
          "metadata": {
            "tags": []
          }
        },
        {
          "output_type": "stream",
          "text": [
            "AxesSubplot(0.125,0.125;0.775x0.755)\n"
          ],
          "name": "stdout"
        }
      ]
    },
    {
      "cell_type": "markdown",
      "metadata": {
        "id": "73_FshtlRkfj"
      },
      "source": [
        "Podemos ver então que nosso último hiperparâmetro é o 1 e com isso nosso modelo fica pŕoximo da pontuação 0.63"
      ]
    },
    {
      "cell_type": "markdown",
      "metadata": {
        "id": "4k_FfPToZhwK"
      },
      "source": [
        "# 9. Conclusão"
      ]
    },
    {
      "cell_type": "markdown",
      "metadata": {
        "id": "5bOKcLc2Q_pY"
      },
      "source": [
        "Conseguimos chegar a um modelo final com f1_score de 0.63, o que pode ser considerado um modelo razoável dado as proporções da nossa variável alvo. Há muitas coisas que podem ser melhoradas como um melhor entendimento de cada um dos 772 genes, das 100 células e como eles se relacionam entre si. Além disso, procurar utilizar técnicas mais avançadas de dados desbalanceados ou até mesmo outras técnicas ajustar os hiperparâmetros como Gridsearch, por exemplo.\n",
        "\n",
        "Vale ressaltar também que descobrir novas substâncias que apresentam tal característica é só um dos passos feitos no descobrimento de novas drogas."
      ]
    },
    {
      "cell_type": "markdown",
      "metadata": {
        "id": "87YxzDIGJjv4"
      },
      "source": [
        "# 10. Fontes"
      ]
    },
    {
      "cell_type": "markdown",
      "metadata": {
        "id": "oySqeDEYKbZT"
      },
      "source": [
        "[1] https://docs.google.com/document/d/10EhrQBChlyYIcff3to7PrCQi5HcNk2r-zd2ZCKPtcz8/edit\n",
        "\n",
        "[2] https://www.boehringer-ingelheim.com.br/pesquisa-e-inovacao/pesquisa-e-inovacao/drug-discovery-process\n",
        "\n",
        "[3] https://www.saude.pr.gov.br/Pagina/Tuberculose\n",
        "\n",
        "[4] https://www1.folha.uol.com.br/fsp/mundo/ft0507200105.htm\n"
      ]
    }
  ]
}